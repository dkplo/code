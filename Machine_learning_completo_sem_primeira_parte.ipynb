{
  "nbformat": 4,
  "nbformat_minor": 0,
  "metadata": {
    "colab": {
      "name": "Machine_learning_completo_sem_primeira_parte.ipynb",
      "provenance": [],
      "collapsed_sections": [],
      "include_colab_link": true
    },
    "kernelspec": {
      "name": "python3",
      "display_name": "Python 3"
    }
  },
  "cells": [
    {
      "cell_type": "markdown",
      "metadata": {
        "id": "view-in-github",
        "colab_type": "text"
      },
      "source": [
        "<a href=\"https://colab.research.google.com/github/dkplo/code/blob/master/Machine_learning_completo_sem_primeira_parte.ipynb\" target=\"_parent\"><img src=\"https://colab.research.google.com/assets/colab-badge.svg\" alt=\"Open In Colab\"/></a>"
      ]
    },
    {
      "cell_type": "code",
      "metadata": {
        "id": "uWuZ3il6M-2h",
        "colab_type": "code",
        "colab": {
          "base_uri": "https://localhost:8080/",
          "height": 255
        },
        "outputId": "71fd93d8-ebea-42ca-f437-c6de7418982f"
      },
      "source": [
        "pip install PyDrive"
      ],
      "execution_count": 1,
      "outputs": [
        {
          "output_type": "stream",
          "text": [
            "Requirement already satisfied: PyDrive in /usr/local/lib/python3.6/dist-packages (1.3.1)\n",
            "Requirement already satisfied: oauth2client>=4.0.0 in /usr/local/lib/python3.6/dist-packages (from PyDrive) (4.1.3)\n",
            "Requirement already satisfied: PyYAML>=3.0 in /usr/local/lib/python3.6/dist-packages (from PyDrive) (3.13)\n",
            "Requirement already satisfied: google-api-python-client>=1.2 in /usr/local/lib/python3.6/dist-packages (from PyDrive) (1.7.12)\n",
            "Requirement already satisfied: pyasn1>=0.1.7 in /usr/local/lib/python3.6/dist-packages (from oauth2client>=4.0.0->PyDrive) (0.4.8)\n",
            "Requirement already satisfied: pyasn1-modules>=0.0.5 in /usr/local/lib/python3.6/dist-packages (from oauth2client>=4.0.0->PyDrive) (0.2.8)\n",
            "Requirement already satisfied: httplib2>=0.9.1 in /usr/local/lib/python3.6/dist-packages (from oauth2client>=4.0.0->PyDrive) (0.17.4)\n",
            "Requirement already satisfied: rsa>=3.1.4 in /usr/local/lib/python3.6/dist-packages (from oauth2client>=4.0.0->PyDrive) (4.6)\n",
            "Requirement already satisfied: six>=1.6.1 in /usr/local/lib/python3.6/dist-packages (from oauth2client>=4.0.0->PyDrive) (1.15.0)\n",
            "Requirement already satisfied: google-auth-httplib2>=0.0.3 in /usr/local/lib/python3.6/dist-packages (from google-api-python-client>=1.2->PyDrive) (0.0.4)\n",
            "Requirement already satisfied: uritemplate<4dev,>=3.0.0 in /usr/local/lib/python3.6/dist-packages (from google-api-python-client>=1.2->PyDrive) (3.0.1)\n",
            "Requirement already satisfied: google-auth>=1.4.1 in /usr/local/lib/python3.6/dist-packages (from google-api-python-client>=1.2->PyDrive) (1.17.2)\n",
            "Requirement already satisfied: cachetools<5.0,>=2.0.0 in /usr/local/lib/python3.6/dist-packages (from google-auth>=1.4.1->google-api-python-client>=1.2->PyDrive) (4.1.1)\n",
            "Requirement already satisfied: setuptools>=40.3.0 in /usr/local/lib/python3.6/dist-packages (from google-auth>=1.4.1->google-api-python-client>=1.2->PyDrive) (49.6.0)\n"
          ],
          "name": "stdout"
        }
      ]
    },
    {
      "cell_type": "code",
      "metadata": {
        "id": "dpcU8Fr5NNbZ",
        "colab_type": "code",
        "colab": {}
      },
      "source": [
        "from pydrive.auth import GoogleAuth\n",
        "from pydrive.drive import GoogleDrive\n",
        "from google.colab import auth\n",
        "from oauth2client.client import GoogleCredentials "
      ],
      "execution_count": 2,
      "outputs": []
    },
    {
      "cell_type": "code",
      "metadata": {
        "id": "5YP5UAYBNP_o",
        "colab_type": "code",
        "colab": {}
      },
      "source": [
        "auth.authenticate_user()\n",
        "gauth = GoogleAuth()\n",
        "gauth.credentials = GoogleCredentials.get_application_default()\n",
        "drive = GoogleDrive(gauth)"
      ],
      "execution_count": 3,
      "outputs": []
    },
    {
      "cell_type": "code",
      "metadata": {
        "id": "qsyteMudSzaM",
        "colab_type": "code",
        "colab": {}
      },
      "source": [
        "import numpy as np"
      ],
      "execution_count": 4,
      "outputs": []
    },
    {
      "cell_type": "code",
      "metadata": {
        "id": "p7Cky1iVVU56",
        "colab_type": "code",
        "colab": {}
      },
      "source": [
        "downloaded_rsa = drive.CreateFile({'id':\"1HleW2ZH6oX-Xjo2U25k7mJ2qp-SfmIkw\"}) \n",
        "downloaded_rsa.GetContentFile('vetor_rsa_numpy_26_08_20.npy')\n",
        "downloaded_elgamal = drive.CreateFile({'id':\"1pYgqEWtYf8NHMrBE4dbQoyW2UKVFT2-A\"})\n",
        "downloaded_elgamal.GetContentFile('vetor_elgamal_numpy_26_08_20_sem_primeira_parte.npy')\n",
        "downloaded_ec = drive.CreateFile({'id':\"1-0JW171Tg6LXH9JfYpOGntneBaX4BTDK\"})\n",
        "downloaded_ec.GetContentFile('vetor_ec_numpy_26_08_20_sem_primeira_parte.npy')"
      ],
      "execution_count": 5,
      "outputs": []
    },
    {
      "cell_type": "code",
      "metadata": {
        "id": "wlOwnXZJEaNH",
        "colab_type": "code",
        "colab": {}
      },
      "source": [
        "#downloaded_rsa_2 = drive.CreateFile({'id':\"1K_4CGsqNIBGcegS53BJ-hPTTxnLRq2ec\"}) \n",
        "#downloaded_rsa_2.GetContentFile('vetor_rsa_numpy_15_08_20.npy')\n",
        "#downloaded_elgamal_2 = drive.CreateFile({'id':\"1Uz8G5v0iS6EOOI2AKbsV6oflqKvhi1jd\"})\n",
        "#downloaded_elgamal_2.GetContentFile('vetor_elgamal_numpy_15_08_20.npy')\n",
        "#downloaded_ec_2 = drive.CreateFile({'id':\"1p2O3nzUo1W7pCxIxuy_GyfncwMPJdaih\"})\n",
        "#downloaded_ec_2.GetContentFile('vetor_ec_numpy_15_08_20.npy')"
      ],
      "execution_count": 13,
      "outputs": []
    },
    {
      "cell_type": "code",
      "metadata": {
        "id": "7cqb0syAXQxM",
        "colab_type": "code",
        "colab": {
          "base_uri": "https://localhost:8080/",
          "height": 102
        },
        "outputId": "e8c1069b-6254-4a41-8872-65656f88566d"
      },
      "source": [
        "!ls"
      ],
      "execution_count": 14,
      "outputs": [
        {
          "output_type": "stream",
          "text": [
            "adc.json\n",
            "sample_data\n",
            "vetor_ec_numpy_26_08_20_sem_primeira_parte.npy\n",
            "vetor_elgamal_numpy_26_08_20_sem_primeira_parte.npy\n",
            "vetor_rsa_numpy_26_08_20.npy\n"
          ],
          "name": "stdout"
        }
      ]
    },
    {
      "cell_type": "code",
      "metadata": {
        "id": "HRHgWXg7NRsY",
        "colab_type": "code",
        "colab": {}
      },
      "source": [
        "from numpy import load"
      ],
      "execution_count": 6,
      "outputs": []
    },
    {
      "cell_type": "code",
      "metadata": {
        "id": "x1Y3yR8LRkBk",
        "colab_type": "code",
        "colab": {}
      },
      "source": [
        "rsa = np.load('vetor_rsa_numpy_26_08_20.npy', allow_pickle=True)\n",
        "#rsa_2 = np.load('vetor_rsa_numpy_15_08_20.npy', allow_pickle=True)"
      ],
      "execution_count": 7,
      "outputs": []
    },
    {
      "cell_type": "code",
      "metadata": {
        "id": "R65BLqoBUN0k",
        "colab_type": "code",
        "colab": {}
      },
      "source": [
        "elgamal = np.load('vetor_elgamal_numpy_26_08_20_sem_primeira_parte.npy', allow_pickle=True)\n",
        "#elgamal_2 = np.load('vetor_elgamal_numpy_15_08_20.npy', allow_pickle=True)"
      ],
      "execution_count": 8,
      "outputs": []
    },
    {
      "cell_type": "code",
      "metadata": {
        "id": "6BG2wlBTUPj_",
        "colab_type": "code",
        "colab": {}
      },
      "source": [
        "ec = np.load('vetor_ec_numpy_26_08_20_sem_primeira_parte.npy',allow_pickle=True)\n",
        "#ec_2 = np.load('vetor_ec_numpy_15_08_20.npy',allow_pickle=True)"
      ],
      "execution_count": 9,
      "outputs": []
    },
    {
      "cell_type": "code",
      "metadata": {
        "id": "3iGLS-k0Sxq_",
        "colab_type": "code",
        "colab": {}
      },
      "source": [
        "base_toda = np.concatenate((rsa,elgamal,ec), axis=0)\n",
        "#base_toda_2 = np.concatenate((rsa_2,elgamal_2,ec_2), axis=0)"
      ],
      "execution_count": 10,
      "outputs": []
    },
    {
      "cell_type": "code",
      "metadata": {
        "id": "0i1xUHSPoaEs",
        "colab_type": "code",
        "colab": {
          "base_uri": "https://localhost:8080/",
          "height": 258
        },
        "outputId": "7619affc-7e11-4463-a474-78cb4bf0d847"
      },
      "source": [
        "base_toda"
      ],
      "execution_count": 11,
      "outputs": [
        {
          "output_type": "execute_result",
          "data": {
            "text/plain": [
              "array([[list([14, 13, 18, 11, 15, 11, 11, 7, 9, 10, 11, 16, 15, 13, 20, 10, 12, 21, 16, 11, 21, 13, 20, 17, 12, 20, 15, 13, 27, 16, 28, 12, 15, 12, 10, 15, 15, 10, 3, 13, 14, 20, 14, 15, 7, 11, 14, 16, 19, 23, 10, 8, 12, 10, 20, 15, 14, 9, 14, 13, 13, 17, 8, 14, 20, 15, 16, 20, 12, 17, 15, 14, 10, 14, 10, 21, 8, 12, 13, 18, 15, 18, 13, 14, 9, 10, 18, 14, 24, 17, 18, 13, 14, 11, 13, 12, 12, 18, 11, 14, 11, 20, 15, 14, 8, 11, 17, 12, 13, 10, 19, 11, 11, 26, 15, 12, 17, 16, 6, 20, 9, 11, 21, 14, 9, 17, 17, 15, 15, 12, 17, 13, 14, 20, 13, 12, 14, 11, 15, 15, 11, 10, 19, 12, 9, 18, 9, 17, 12, 19, 10, 20, 10, 16, 17, 21, 10, 8, 7, 13, 16, 15, 16, 13, 20, 10, 12, 12, 17, 13, 12, 10, 13, 12, 13, 17, 13, 18, 14, 8, 17, 9, 11, 17, 17, 16, 18, 7, 11, 13, 13, 12, 13, 18, 19, 14, 10, 18, 9, 16, 14, 12, 12, 12, 15, 9, 14, 11, 9, 14, 17, 14, 19, 17, 9, 15, 15, 12, 18, 9, 10, 20, 17, 14, 13, 16, 6, 10, 13, 17, 7, 7, 15, 13, 19, 17, 9, 13, 9, 19, 18, 12, 14, 17, 16, 19, 18, 16, 17, 9, 18, 14, 14, 20, 9, 9]),\n",
              "        2],\n",
              "       [list([6, 14, 16, 14, 11, 13, 19, 8, 10, 17, 8, 16, 11, 13, 14, 17, 14, 15, 12, 15, 16, 10, 10, 10, 16, 9, 15, 11, 14, 19, 13, 12, 15, 15, 18, 20, 19, 11, 7, 15, 8, 13, 9, 10, 12, 20, 9, 16, 20, 13, 15, 15, 10, 15, 18, 21, 12, 16, 16, 11, 9, 11, 14, 20, 13, 12, 14, 8, 14, 17, 7, 11, 12, 16, 15, 6, 11, 13, 13, 12, 10, 10, 11, 11, 15, 14, 8, 16, 14, 11, 9, 15, 8, 14, 9, 20, 7, 17, 15, 19, 14, 13, 22, 11, 12, 17, 20, 10, 21, 8, 12, 11, 13, 14, 15, 16, 16, 9, 15, 9, 14, 9, 15, 11, 12, 10, 14, 13, 11, 7, 13, 16, 20, 13, 13, 12, 11, 14, 15, 12, 11, 15, 9, 14, 21, 20, 12, 7, 16, 13, 6, 15, 14, 8, 14, 20, 12, 12, 13, 13, 11, 15, 11, 15, 14, 12, 11, 13, 10, 20, 10, 14, 3, 17, 16, 13, 19, 11, 10, 13, 15, 16, 9, 9, 15, 23, 15, 9, 13, 11, 15, 8, 19, 7, 18, 18, 18, 10, 9, 10, 20, 14, 16, 7, 11, 10, 10, 14, 11, 17, 13, 17, 11, 13, 18, 11, 15, 9, 22, 15, 9, 7, 11, 7, 12, 6, 17, 9, 16, 5, 16, 15, 13, 12, 7, 14, 13, 13, 13, 16, 15, 12, 16, 11, 11, 5, 8, 14, 15, 15, 10, 10, 13, 5, 13, 9]),\n",
              "        2],\n",
              "       [list([84, 87, 92, 93, 90, 88, 94, 94, 96, 80, 84, 81, 96, 101, 83, 92, 81, 107, 89, 96, 80, 95, 72, 96, 85, 83, 100, 86, 88, 80, 95, 91, 85, 109, 82, 76, 79, 82, 95, 94, 81, 94, 85, 77, 85, 99, 98, 83, 101, 97, 107, 89, 99, 91, 81, 102, 91, 90, 91, 87, 89, 93, 74, 81, 95, 98, 103, 87, 91, 98, 90, 92, 97, 86, 88, 100, 94, 87, 84, 76, 90, 113, 105, 95, 102, 82, 95, 88, 81, 70, 95, 106, 71, 81, 84, 96, 82, 108, 89, 92, 100, 92, 93, 85, 111, 106, 104, 91, 97, 89, 85, 97, 82, 111, 110, 87, 97, 73, 75, 83, 97, 94, 106, 87, 99, 103, 89, 86, 100, 97, 92, 92, 84, 84, 84, 91, 86, 87, 88, 94, 83, 104, 84, 91, 88, 88, 82, 89, 88, 97, 96, 92, 77, 83, 83, 80, 88, 102, 103, 90, 95, 105, 85, 94, 94, 91, 90, 94, 86, 100, 96, 103, 89, 85, 89, 86, 93, 91, 89, 80, 89, 83, 99, 79, 88, 91, 94, 80, 99, 79, 75, 84, 90, 71, 87, 93, 98, 102, 89, 80, 82, 79, 86, 83, 91, 78, 95, 81, 78, 80, 104, 79, 91, 93, 75, 85, 89, 69, 79, 79, 75, 78, 98, 91, 90, 83, 66, 90, 88, 97, 79, 79, 96, 87, 76, 75, 82, 74, 93, 97, 83, 101, 79, 109, 94, 99, 72, 90, 84, 108, 96, 78, 72, 81, 88, 110]),\n",
              "        2],\n",
              "       ...,\n",
              "       [list([18, 32, 15, 20, 19, 23, 18, 16, 23, 21, 17, 17, 25, 14, 16, 21, 28, 12, 17, 22, 25, 16, 14, 26, 25, 20, 26, 22, 14, 17, 22, 22, 14, 21, 14, 19, 26, 18, 27, 21, 15, 14, 15, 13, 13, 21, 21, 13, 11, 18, 13, 17, 20, 19, 19, 25, 19, 14, 19, 22, 23, 17, 19, 15, 26, 8, 17, 24, 18, 22, 18, 15, 16, 25, 12, 11, 17, 19, 16, 22, 12, 18, 12, 31, 20, 22, 17, 13, 29, 15, 25, 20, 18, 19, 16, 32, 14, 20, 15, 18, 23, 16, 19, 25, 18, 14, 18, 19, 15, 12, 13, 20, 24, 15, 20, 17, 27, 23, 19, 13, 26, 14, 19, 17, 23, 15, 21, 20, 28, 14, 17, 11, 18, 20, 27, 15, 18, 23, 14, 14, 16, 19, 18, 24, 25, 24, 19, 20, 9, 18, 18, 16, 19, 14, 38, 15, 22, 15, 16, 19, 16, 23, 15, 15, 18, 18, 15, 16, 24, 20, 23, 26, 24, 12, 25, 14, 20, 19, 20, 25, 11, 16, 18, 22, 14, 22, 17, 26, 24, 18, 19, 25, 19, 21, 18, 24, 15, 11, 21, 22, 19, 14, 17, 19, 12, 14, 20, 22, 23, 21, 15, 17, 21, 22, 14, 19, 19, 29, 15, 20, 17, 13, 20, 22, 21, 12, 31, 17, 15, 23, 19, 20, 23, 16, 9, 27, 25, 18, 16, 20, 12, 23, 15, 31, 22, 28, 11, 16, 18, 15, 17, 23, 21, 18, 25, 24]),\n",
              "        0],\n",
              "       [list([32, 22, 26, 29, 37, 32, 26, 38, 25, 25, 32, 29, 35, 33, 33, 24, 27, 33, 23, 30, 32, 29, 41, 25, 34, 30, 32, 35, 26, 39, 22, 29, 26, 24, 22, 31, 35, 33, 37, 28, 27, 21, 32, 38, 28, 24, 26, 18, 26, 29, 33, 35, 31, 33, 27, 26, 34, 33, 33, 33, 34, 37, 30, 32, 38, 37, 28, 32, 31, 23, 34, 29, 35, 29, 27, 28, 36, 32, 23, 22, 43, 26, 37, 43, 29, 37, 32, 29, 33, 27, 39, 26, 36, 34, 40, 31, 37, 31, 32, 33, 25, 33, 28, 28, 38, 32, 34, 29, 26, 29, 32, 43, 26, 33, 24, 33, 25, 36, 28, 27, 34, 39, 36, 36, 30, 25, 31, 35, 49, 36, 33, 29, 24, 36, 35, 35, 27, 36, 25, 37, 27, 30, 35, 30, 41, 28, 26, 28, 32, 36, 34, 42, 28, 35, 25, 32, 28, 31, 33, 34, 43, 24, 29, 18, 28, 22, 33, 28, 31, 32, 32, 30, 28, 30, 23, 38, 26, 38, 36, 35, 29, 29, 22, 25, 26, 28, 39, 24, 35, 37, 36, 25, 38, 24, 31, 34, 28, 32, 20, 23, 22, 35, 25, 34, 47, 26, 28, 39, 28, 33, 27, 43, 20, 31, 28, 22, 36, 28, 25, 39, 27, 29, 25, 29, 28, 33, 35, 32, 23, 27, 38, 30, 33, 25, 26, 35, 36, 24, 24, 37, 21, 34, 28, 39, 39, 23, 36, 25, 27, 34, 41, 28, 30, 21, 24, 29]),\n",
              "        0],\n",
              "       [list([16, 17, 17, 21, 32, 19, 28, 24, 20, 22, 20, 26, 22, 20, 21, 20, 31, 11, 25, 20, 26, 28, 19, 24, 16, 17, 25, 33, 28, 29, 27, 19, 30, 25, 20, 18, 24, 27, 18, 20, 31, 22, 24, 19, 23, 24, 23, 22, 20, 20, 19, 14, 22, 17, 25, 22, 25, 20, 16, 23, 18, 24, 21, 15, 32, 21, 27, 15, 24, 27, 23, 29, 16, 21, 16, 23, 16, 32, 17, 24, 22, 18, 18, 24, 19, 20, 23, 22, 17, 17, 25, 22, 23, 34, 17, 20, 21, 27, 21, 27, 20, 18, 29, 19, 18, 31, 26, 34, 17, 22, 18, 23, 20, 15, 30, 25, 20, 21, 15, 34, 20, 20, 22, 20, 21, 24, 19, 20, 21, 26, 24, 16, 21, 22, 20, 17, 23, 19, 30, 17, 26, 18, 17, 26, 25, 15, 26, 27, 20, 22, 13, 18, 17, 19, 27, 19, 20, 25, 18, 15, 28, 31, 24, 30, 21, 27, 14, 31, 22, 19, 18, 23, 30, 13, 21, 18, 18, 26, 26, 21, 30, 24, 21, 14, 25, 29, 19, 21, 16, 22, 15, 32, 29, 26, 22, 27, 25, 25, 23, 25, 16, 9, 22, 23, 19, 11, 18, 26, 23, 27, 18, 30, 16, 22, 28, 28, 25, 26, 23, 19, 23, 19, 24, 26, 14, 28, 25, 21, 25, 27, 17, 21, 27, 27, 11, 17, 25, 36, 20, 24, 24, 21, 25, 31, 24, 25, 23, 24, 21, 19, 18, 29, 30, 19, 19, 23]),\n",
              "        0]], dtype=object)"
            ]
          },
          "metadata": {
            "tags": []
          },
          "execution_count": 11
        }
      ]
    },
    {
      "cell_type": "code",
      "metadata": {
        "id": "-0cY6Oigdx7C",
        "colab_type": "code",
        "colab": {}
      },
      "source": [
        "x = base_toda[:,0]\n",
        "#x_2 = base_toda_2[:,0]"
      ],
      "execution_count": 12,
      "outputs": []
    },
    {
      "cell_type": "code",
      "metadata": {
        "id": "qo6ucZY5ov9P",
        "colab_type": "code",
        "colab": {}
      },
      "source": [
        "x = list(x)\n",
        "#x_2 = list(x_2)"
      ],
      "execution_count": 13,
      "outputs": []
    },
    {
      "cell_type": "code",
      "metadata": {
        "id": "0AIFCnufdyFz",
        "colab_type": "code",
        "colab": {}
      },
      "source": [
        "y = base_toda[:,1]\n",
        "#y_2 = base_toda_2[:,1]"
      ],
      "execution_count": 14,
      "outputs": []
    },
    {
      "cell_type": "code",
      "metadata": {
        "id": "HMyp3CpfozuI",
        "colab_type": "code",
        "colab": {}
      },
      "source": [
        "y = list(y)\n",
        "#y_2 = list(y_2)"
      ],
      "execution_count": 15,
      "outputs": []
    },
    {
      "cell_type": "code",
      "metadata": {
        "id": "yknuMMYHSqh0",
        "colab_type": "code",
        "colab": {}
      },
      "source": [
        "from sklearn import preprocessing"
      ],
      "execution_count": 16,
      "outputs": []
    },
    {
      "cell_type": "markdown",
      "metadata": {
        "id": "9ItjoOkElseb",
        "colab_type": "text"
      },
      "source": [
        "Normalização dos vetores"
      ]
    },
    {
      "cell_type": "code",
      "metadata": {
        "id": "EV1YH_A3TOwb",
        "colab_type": "code",
        "colab": {}
      },
      "source": [
        "x_norm = preprocessing.normalize(x, norm='l2')\n",
        "#x_norm_2 = preprocessing.normalize(x_2, norm='l2')"
      ],
      "execution_count": 17,
      "outputs": []
    },
    {
      "cell_type": "code",
      "metadata": {
        "id": "zJ4l7KwzlJu5",
        "colab_type": "code",
        "colab": {
          "base_uri": "https://localhost:8080/",
          "height": 238
        },
        "outputId": "8b35d3af-a297-4b01-fe8d-a4e6fc71d3c2"
      },
      "source": [
        "x_norm"
      ],
      "execution_count": 18,
      "outputs": [
        {
          "output_type": "execute_result",
          "data": {
            "text/plain": [
              "array([[0.06016902, 0.05587123, 0.07736017, ..., 0.08595574, 0.03868008,\n",
              "        0.03868008],\n",
              "       [0.02773857, 0.06472332, 0.07396951, ..., 0.02311547, 0.06010023,\n",
              "        0.04160785],\n",
              "       [0.0583565 , 0.06044066, 0.06391426, ..., 0.05627234, 0.06113538,\n",
              "        0.07641923],\n",
              "       ...,\n",
              "       [0.05743387, 0.10210467, 0.04786156, ..., 0.05743387, 0.07976927,\n",
              "        0.0765785 ],\n",
              "       [0.06401844, 0.04401268, 0.05201498, ..., 0.0420121 , 0.04801383,\n",
              "        0.05801671],\n",
              "       [0.04390339, 0.04664735, 0.04664735, ..., 0.05213528, 0.05213528,\n",
              "        0.06311112]])"
            ]
          },
          "metadata": {
            "tags": []
          },
          "execution_count": 18
        }
      ]
    },
    {
      "cell_type": "code",
      "metadata": {
        "id": "eBdeXMwOTsx5",
        "colab_type": "code",
        "colab": {}
      },
      "source": [
        "from sklearn.model_selection import train_test_split"
      ],
      "execution_count": 19,
      "outputs": []
    },
    {
      "cell_type": "code",
      "metadata": {
        "id": "xDLIJdp-d3_t",
        "colab_type": "code",
        "colab": {}
      },
      "source": [
        "x_train, x_test, y_train, y_test = train_test_split(x_norm, y, test_size=0.33) \n",
        "#x_train_2, x_test_2, y_train_2, y_test_2 = train_test_split(x_norm_2, y_2, test_size=0.33) "
      ],
      "execution_count": 20,
      "outputs": []
    },
    {
      "cell_type": "code",
      "metadata": {
        "id": "HUP-_NbccBaC",
        "colab_type": "code",
        "colab": {}
      },
      "source": [
        "from sklearn.metrics import classification_report"
      ],
      "execution_count": 21,
      "outputs": []
    },
    {
      "cell_type": "markdown",
      "metadata": {
        "id": "e8wQ9yrZlx0-",
        "colab_type": "text"
      },
      "source": [
        "Naive Bayes"
      ]
    },
    {
      "cell_type": "code",
      "metadata": {
        "id": "BRty1pDRlzu9",
        "colab_type": "code",
        "colab": {}
      },
      "source": [
        "from sklearn.naive_bayes import ComplementNB\n",
        "from sklearn.naive_bayes import BernoulliNB\n",
        "from sklearn.naive_bayes import CategoricalNB\n",
        "from sklearn.naive_bayes import GaussianNB\n",
        "from sklearn.naive_bayes import MultinomialNB"
      ],
      "execution_count": 31,
      "outputs": []
    },
    {
      "cell_type": "code",
      "metadata": {
        "id": "7dHURh6Zmbkj",
        "colab_type": "code",
        "colab": {}
      },
      "source": [
        "clf_CNB = ComplementNB()\n",
        "clf_BNB = BernoulliNB()\n",
        "clf_CaNB = CategoricalNB()\n",
        "clf_GNB = GaussianNB()\n",
        "clf_MNB = MultinomialNB()"
      ],
      "execution_count": 32,
      "outputs": []
    },
    {
      "cell_type": "code",
      "metadata": {
        "id": "5_LXtYxSmpx3",
        "colab_type": "code",
        "colab": {
          "base_uri": "https://localhost:8080/",
          "height": 34
        },
        "outputId": "096d4486-a7fb-4904-8579-0ddc0133c3d8"
      },
      "source": [
        "clf_CNB.fit(x_train, y_train)\n",
        "clf_BNB.fit(x_train, y_train)\n",
        "clf_CaNB.fit(x_train, y_train)\n",
        "clf_GNB.fit(x_train, y_train)\n",
        "clf_MNB.fit(x_train, y_train)"
      ],
      "execution_count": 33,
      "outputs": [
        {
          "output_type": "execute_result",
          "data": {
            "text/plain": [
              "MultinomialNB(alpha=1.0, class_prior=None, fit_prior=True)"
            ]
          },
          "metadata": {
            "tags": []
          },
          "execution_count": 33
        }
      ]
    },
    {
      "cell_type": "code",
      "metadata": {
        "id": "C-2Zl4WffCLA",
        "colab_type": "code",
        "colab": {}
      },
      "source": [
        "predição_CNB = (clf_CNB.predict(x_test))\n",
        "#predição_CNB_2 = (clf_CNB.predict(x_test_2))\n",
        "predição_BNB = (clf_CNB.predict(x_test))\n",
        "#predição_BNB_2 = (clf_CNB.predict(x_test_2))\n",
        "predição_CaNB = (clf_CNB.predict(x_test))\n",
        "#predição_CaNB_2 = (clf_CNB.predict(x_test_2))\n",
        "predição_GNB = (clf_CNB.predict(x_test))\n",
        "#predição_GNB_2 = (clf_CNB.predict(x_test_2))\n",
        "predição_MNB = (clf_CNB.predict(x_test))\n",
        "#predição_MNB_2 = (clf_CNB.predict(x_test_2))"
      ],
      "execution_count": 34,
      "outputs": []
    },
    {
      "cell_type": "code",
      "metadata": {
        "id": "_xgtwhuEcRwR",
        "colab_type": "code",
        "colab": {
          "base_uri": "https://localhost:8080/",
          "height": 187
        },
        "outputId": "b94bd687-32b6-4dd0-9db8-6a6ce5889959"
      },
      "source": [
        "print (classification_report(y_test, predição_CNB))\n",
        "#print (classification_report(y_test_2, predição_CNB_2))"
      ],
      "execution_count": 35,
      "outputs": [
        {
          "output_type": "stream",
          "text": [
            "              precision    recall  f1-score   support\n",
            "\n",
            "           0       0.43      0.44      0.43      9928\n",
            "           1       0.45      0.56      0.50     10025\n",
            "           2       0.42      0.32      0.37     10024\n",
            "\n",
            "    accuracy                           0.44     29977\n",
            "   macro avg       0.44      0.44      0.43     29977\n",
            "weighted avg       0.44      0.44      0.43     29977\n",
            "\n"
          ],
          "name": "stdout"
        }
      ]
    },
    {
      "cell_type": "code",
      "metadata": {
        "id": "txqftI0kGJci",
        "colab_type": "code",
        "colab": {
          "base_uri": "https://localhost:8080/",
          "height": 187
        },
        "outputId": "94864310-7324-4322-eb21-d71a4eb658e3"
      },
      "source": [
        "print (classification_report(y_test, predição_BNB))\n",
        "#print (classification_report(y_test_2, predição_BNB_2))"
      ],
      "execution_count": 36,
      "outputs": [
        {
          "output_type": "stream",
          "text": [
            "              precision    recall  f1-score   support\n",
            "\n",
            "           0       0.43      0.44      0.43      9928\n",
            "           1       0.45      0.56      0.50     10025\n",
            "           2       0.42      0.32      0.37     10024\n",
            "\n",
            "    accuracy                           0.44     29977\n",
            "   macro avg       0.44      0.44      0.43     29977\n",
            "weighted avg       0.44      0.44      0.43     29977\n",
            "\n"
          ],
          "name": "stdout"
        }
      ]
    },
    {
      "cell_type": "code",
      "metadata": {
        "id": "IjudFsukVtLG",
        "colab_type": "code",
        "colab": {
          "base_uri": "https://localhost:8080/",
          "height": 187
        },
        "outputId": "b61f398d-2f07-46ee-8771-792f6f00719d"
      },
      "source": [
        "print (classification_report(y_test, predição_CaNB))\n",
        "#print (classification_report(y_test_2, predição_CaNB_2))"
      ],
      "execution_count": 37,
      "outputs": [
        {
          "output_type": "stream",
          "text": [
            "              precision    recall  f1-score   support\n",
            "\n",
            "           0       0.43      0.44      0.43      9928\n",
            "           1       0.45      0.56      0.50     10025\n",
            "           2       0.42      0.32      0.37     10024\n",
            "\n",
            "    accuracy                           0.44     29977\n",
            "   macro avg       0.44      0.44      0.43     29977\n",
            "weighted avg       0.44      0.44      0.43     29977\n",
            "\n"
          ],
          "name": "stdout"
        }
      ]
    },
    {
      "cell_type": "code",
      "metadata": {
        "id": "feBcck1wVyF-",
        "colab_type": "code",
        "colab": {
          "base_uri": "https://localhost:8080/",
          "height": 187
        },
        "outputId": "26dd56c4-f7ef-4d9c-9b3c-94f733c0245d"
      },
      "source": [
        "print (classification_report(y_test, predição_GNB))\n",
        "#print (classification_report(y_test_2, predição_GNB_2))"
      ],
      "execution_count": 38,
      "outputs": [
        {
          "output_type": "stream",
          "text": [
            "              precision    recall  f1-score   support\n",
            "\n",
            "           0       0.43      0.44      0.43      9928\n",
            "           1       0.45      0.56      0.50     10025\n",
            "           2       0.42      0.32      0.37     10024\n",
            "\n",
            "    accuracy                           0.44     29977\n",
            "   macro avg       0.44      0.44      0.43     29977\n",
            "weighted avg       0.44      0.44      0.43     29977\n",
            "\n"
          ],
          "name": "stdout"
        }
      ]
    },
    {
      "cell_type": "code",
      "metadata": {
        "id": "HWgDPeKdV1tJ",
        "colab_type": "code",
        "colab": {
          "base_uri": "https://localhost:8080/",
          "height": 187
        },
        "outputId": "a7ea9eac-ab2d-40bd-a8d1-1b4e95553475"
      },
      "source": [
        "print (classification_report(y_test, predição_MNB))\n",
        "#print (classification_report(y_test_2, predição_MNB_2))"
      ],
      "execution_count": 39,
      "outputs": [
        {
          "output_type": "stream",
          "text": [
            "              precision    recall  f1-score   support\n",
            "\n",
            "           0       0.43      0.44      0.43      9928\n",
            "           1       0.45      0.56      0.50     10025\n",
            "           2       0.42      0.32      0.37     10024\n",
            "\n",
            "    accuracy                           0.44     29977\n",
            "   macro avg       0.44      0.44      0.43     29977\n",
            "weighted avg       0.44      0.44      0.43     29977\n",
            "\n"
          ],
          "name": "stdout"
        }
      ]
    },
    {
      "cell_type": "markdown",
      "metadata": {
        "id": "3JT0wQvsl1ty",
        "colab_type": "text"
      },
      "source": [
        "Árvore de Decisão"
      ]
    },
    {
      "cell_type": "code",
      "metadata": {
        "id": "5udvKLY9cXLi",
        "colab_type": "code",
        "colab": {}
      },
      "source": [
        "from sklearn import tree"
      ],
      "execution_count": 40,
      "outputs": []
    },
    {
      "cell_type": "code",
      "metadata": {
        "id": "_u_MbSDzhaee",
        "colab_type": "code",
        "colab": {}
      },
      "source": [
        "clf_tree = tree.DecisionTreeClassifier()"
      ],
      "execution_count": 41,
      "outputs": []
    },
    {
      "cell_type": "code",
      "metadata": {
        "id": "7-sfE6daheVg",
        "colab_type": "code",
        "colab": {}
      },
      "source": [
        "clf_tree = clf_tree.fit(x_train, y_train)"
      ],
      "execution_count": 42,
      "outputs": []
    },
    {
      "cell_type": "code",
      "metadata": {
        "id": "f0yco9lPhlv0",
        "colab_type": "code",
        "colab": {}
      },
      "source": [
        "predição_tree = clf_tree.predict(x_test)\n",
        "#predição_tree_2 = clf_tree.predict(x_test_2)"
      ],
      "execution_count": 43,
      "outputs": []
    },
    {
      "cell_type": "code",
      "metadata": {
        "id": "S-eEq7aSh67V",
        "colab_type": "code",
        "colab": {
          "base_uri": "https://localhost:8080/",
          "height": 187
        },
        "outputId": "fef2a7d4-ce46-4ae8-a4c0-8f933dd54553"
      },
      "source": [
        "print (classification_report(y_test, predição_tree))"
      ],
      "execution_count": 44,
      "outputs": [
        {
          "output_type": "stream",
          "text": [
            "              precision    recall  f1-score   support\n",
            "\n",
            "           0       0.42      0.42      0.42      9928\n",
            "           1       0.37      0.37      0.37     10025\n",
            "           2       0.37      0.37      0.37     10024\n",
            "\n",
            "    accuracy                           0.38     29977\n",
            "   macro avg       0.38      0.38      0.38     29977\n",
            "weighted avg       0.38      0.38      0.38     29977\n",
            "\n"
          ],
          "name": "stdout"
        }
      ]
    },
    {
      "cell_type": "code",
      "metadata": {
        "id": "4SRnLPZ5GbPr",
        "colab_type": "code",
        "colab": {}
      },
      "source": [
        "#print (classification_report(y_test_2, predição_tree_2))"
      ],
      "execution_count": 45,
      "outputs": []
    },
    {
      "cell_type": "code",
      "metadata": {
        "id": "CGY6AWmYPPKw",
        "colab_type": "code",
        "colab": {
          "base_uri": "https://localhost:8080/",
          "height": 34
        },
        "outputId": "a38193ce-3577-446e-fe2a-54ba9405784b"
      },
      "source": [
        "clf_tree.get_n_leaves()"
      ],
      "execution_count": 46,
      "outputs": [
        {
          "output_type": "execute_result",
          "data": {
            "text/plain": [
              "10680"
            ]
          },
          "metadata": {
            "tags": []
          },
          "execution_count": 46
        }
      ]
    },
    {
      "cell_type": "markdown",
      "metadata": {
        "id": "Fbvdhc8Ol6AE",
        "colab_type": "text"
      },
      "source": [
        "Métodos Ensemble"
      ]
    },
    {
      "cell_type": "code",
      "metadata": {
        "id": "RmyF4cOSh-mm",
        "colab_type": "code",
        "colab": {}
      },
      "source": [
        "from sklearn.ensemble import RandomForestClassifier\n",
        "from sklearn.ensemble import AdaBoostClassifier"
      ],
      "execution_count": 47,
      "outputs": []
    },
    {
      "cell_type": "code",
      "metadata": {
        "id": "OYkZ2Rj-iKV1",
        "colab_type": "code",
        "colab": {}
      },
      "source": [
        "clf_random = RandomForestClassifier(n_estimators=100)\n",
        "clf_ada = AdaBoostClassifier(n_estimators=100)"
      ],
      "execution_count": 48,
      "outputs": []
    },
    {
      "cell_type": "code",
      "metadata": {
        "id": "sjGrmAbmire2",
        "colab_type": "code",
        "colab": {}
      },
      "source": [
        "clf_random = clf_random.fit(x_train, y_train)\n",
        "clf_ada = clf_ada.fit(x_train,y_train)"
      ],
      "execution_count": 49,
      "outputs": []
    },
    {
      "cell_type": "code",
      "metadata": {
        "id": "hWAj6ebci2AV",
        "colab_type": "code",
        "colab": {}
      },
      "source": [
        "predição_random = clf_random.predict(x_test)\n",
        "#predição_random_2 = clf_random.predict(x_test_2)\n",
        "predição_ada = clf_ada.predict(x_test)\n",
        "#predição_ada_2 = clf_ada.predict(x_test_2)"
      ],
      "execution_count": 50,
      "outputs": []
    },
    {
      "cell_type": "code",
      "metadata": {
        "id": "wHB_JH7pi9OV",
        "colab_type": "code",
        "colab": {
          "base_uri": "https://localhost:8080/",
          "height": 187
        },
        "outputId": "5f4518b0-ba63-4955-ecf5-a9177ca7f03a"
      },
      "source": [
        "print (classification_report(y_test, predição_random))\n",
        "#print (classification_report(y_test_2, predição_random_2))"
      ],
      "execution_count": 51,
      "outputs": [
        {
          "output_type": "stream",
          "text": [
            "              precision    recall  f1-score   support\n",
            "\n",
            "           0       0.51      0.67      0.58      9928\n",
            "           1       0.45      0.39      0.42     10025\n",
            "           2       0.44      0.35      0.39     10024\n",
            "\n",
            "    accuracy                           0.47     29977\n",
            "   macro avg       0.46      0.47      0.46     29977\n",
            "weighted avg       0.46      0.47      0.46     29977\n",
            "\n"
          ],
          "name": "stdout"
        }
      ]
    },
    {
      "cell_type": "code",
      "metadata": {
        "id": "ARCHTnd4GmTg",
        "colab_type": "code",
        "colab": {
          "base_uri": "https://localhost:8080/",
          "height": 187
        },
        "outputId": "c055dd1e-9f21-4237-97eb-53524b488e83"
      },
      "source": [
        "print (classification_report(y_test, predição_ada))\n",
        "#print (classification_report(y_test_2, predição_ada_2))"
      ],
      "execution_count": 52,
      "outputs": [
        {
          "output_type": "stream",
          "text": [
            "              precision    recall  f1-score   support\n",
            "\n",
            "           0       0.52      0.60      0.56      9928\n",
            "           1       0.46      0.43      0.44     10025\n",
            "           2       0.44      0.40      0.42     10024\n",
            "\n",
            "    accuracy                           0.48     29977\n",
            "   macro avg       0.47      0.48      0.47     29977\n",
            "weighted avg       0.47      0.48      0.47     29977\n",
            "\n"
          ],
          "name": "stdout"
        }
      ]
    },
    {
      "cell_type": "markdown",
      "metadata": {
        "id": "VK7HdDZomFN3",
        "colab_type": "text"
      },
      "source": [
        "Rotation Forest"
      ]
    },
    {
      "cell_type": "code",
      "metadata": {
        "id": "-FW_Djnvtrjk",
        "colab_type": "code",
        "colab": {
          "base_uri": "https://localhost:8080/",
          "height": 153
        },
        "outputId": "4a429d45-5177-4a4c-93ab-fc3083b7f75e"
      },
      "source": [
        "pip install rotation-forest"
      ],
      "execution_count": 53,
      "outputs": [
        {
          "output_type": "stream",
          "text": [
            "Collecting rotation-forest\n",
            "  Downloading https://files.pythonhosted.org/packages/3e/70/83b4776a92f9442819538c3fc3bdb1e240af43a17b2592bfe8574d32ce02/rotation_forest-0.4-py3-none-any.whl\n",
            "Requirement already satisfied: scipy in /usr/local/lib/python3.6/dist-packages (from rotation-forest) (1.4.1)\n",
            "Requirement already satisfied: numpy in /usr/local/lib/python3.6/dist-packages (from rotation-forest) (1.18.5)\n",
            "Requirement already satisfied: scikit-learn in /usr/local/lib/python3.6/dist-packages (from rotation-forest) (0.22.2.post1)\n",
            "Requirement already satisfied: joblib>=0.11 in /usr/local/lib/python3.6/dist-packages (from scikit-learn->rotation-forest) (0.16.0)\n",
            "Installing collected packages: rotation-forest\n",
            "Successfully installed rotation-forest-0.4\n"
          ],
          "name": "stdout"
        }
      ]
    },
    {
      "cell_type": "code",
      "metadata": {
        "id": "bTootgQtzoeQ",
        "colab_type": "code",
        "colab": {}
      },
      "source": [
        "from rotation_forest import RotationForestClassifier"
      ],
      "execution_count": 54,
      "outputs": []
    },
    {
      "cell_type": "code",
      "metadata": {
        "id": "DTg1kZjZzMtY",
        "colab_type": "code",
        "colab": {}
      },
      "source": [
        "clf_rot = RotationForestClassifier()"
      ],
      "execution_count": 55,
      "outputs": []
    },
    {
      "cell_type": "code",
      "metadata": {
        "id": "mdNVY8Phz_KD",
        "colab_type": "code",
        "colab": {}
      },
      "source": [
        "x_array = np.array(x_norm)\n",
        "#x_array_2 = np.array(x_norm_2)"
      ],
      "execution_count": 56,
      "outputs": []
    },
    {
      "cell_type": "code",
      "metadata": {
        "id": "wdrW6Cnt0Euq",
        "colab_type": "code",
        "colab": {}
      },
      "source": [
        "y_array = np.array(y)\n",
        "#y_array_2 = np.array(y_2)"
      ],
      "execution_count": 57,
      "outputs": []
    },
    {
      "cell_type": "code",
      "metadata": {
        "id": "nLxjhke-0McH",
        "colab_type": "code",
        "colab": {}
      },
      "source": [
        "x_train_array, x_test_array, y_train_array, y_test_array = train_test_split(x_array, y_array, test_size=0.33) \n",
        "#x_train_array_2, x_test_array_2, y_train_array_2, y_test_array_2 = train_test_split(x_array_2, y_array_2, test_size=0.33) "
      ],
      "execution_count": 59,
      "outputs": []
    },
    {
      "cell_type": "code",
      "metadata": {
        "id": "E-Kok3JRzcyG",
        "colab_type": "code",
        "colab": {
          "base_uri": "https://localhost:8080/",
          "height": 377
        },
        "outputId": "5acd3e5e-696e-4561-d4c2-cd42cdbd7b0f"
      },
      "source": [
        "clf_rot = clf_rot.fit(x_train_array,y_train_array)"
      ],
      "execution_count": 60,
      "outputs": [
        {
          "output_type": "stream",
          "text": [
            "/usr/local/lib/python3.6/dist-packages/sklearn/tree/_classes.py:319: FutureWarning: The parameter 'presort' is deprecated and has no effect. It will be removed in v0.24. You can suppress this warning by not passing any value to the 'presort' parameter.\n",
            "  FutureWarning)\n",
            "/usr/local/lib/python3.6/dist-packages/sklearn/tree/_classes.py:319: FutureWarning: The parameter 'presort' is deprecated and has no effect. It will be removed in v0.24. You can suppress this warning by not passing any value to the 'presort' parameter.\n",
            "  FutureWarning)\n",
            "/usr/local/lib/python3.6/dist-packages/sklearn/tree/_classes.py:319: FutureWarning: The parameter 'presort' is deprecated and has no effect. It will be removed in v0.24. You can suppress this warning by not passing any value to the 'presort' parameter.\n",
            "  FutureWarning)\n",
            "/usr/local/lib/python3.6/dist-packages/sklearn/tree/_classes.py:319: FutureWarning: The parameter 'presort' is deprecated and has no effect. It will be removed in v0.24. You can suppress this warning by not passing any value to the 'presort' parameter.\n",
            "  FutureWarning)\n",
            "/usr/local/lib/python3.6/dist-packages/sklearn/tree/_classes.py:319: FutureWarning: The parameter 'presort' is deprecated and has no effect. It will be removed in v0.24. You can suppress this warning by not passing any value to the 'presort' parameter.\n",
            "  FutureWarning)\n",
            "/usr/local/lib/python3.6/dist-packages/sklearn/tree/_classes.py:319: FutureWarning: The parameter 'presort' is deprecated and has no effect. It will be removed in v0.24. You can suppress this warning by not passing any value to the 'presort' parameter.\n",
            "  FutureWarning)\n",
            "/usr/local/lib/python3.6/dist-packages/sklearn/tree/_classes.py:319: FutureWarning: The parameter 'presort' is deprecated and has no effect. It will be removed in v0.24. You can suppress this warning by not passing any value to the 'presort' parameter.\n",
            "  FutureWarning)\n",
            "/usr/local/lib/python3.6/dist-packages/sklearn/tree/_classes.py:319: FutureWarning: The parameter 'presort' is deprecated and has no effect. It will be removed in v0.24. You can suppress this warning by not passing any value to the 'presort' parameter.\n",
            "  FutureWarning)\n",
            "/usr/local/lib/python3.6/dist-packages/sklearn/tree/_classes.py:319: FutureWarning: The parameter 'presort' is deprecated and has no effect. It will be removed in v0.24. You can suppress this warning by not passing any value to the 'presort' parameter.\n",
            "  FutureWarning)\n",
            "/usr/local/lib/python3.6/dist-packages/sklearn/tree/_classes.py:319: FutureWarning: The parameter 'presort' is deprecated and has no effect. It will be removed in v0.24. You can suppress this warning by not passing any value to the 'presort' parameter.\n",
            "  FutureWarning)\n"
          ],
          "name": "stderr"
        }
      ]
    },
    {
      "cell_type": "code",
      "metadata": {
        "id": "NJQofQkBzygX",
        "colab_type": "code",
        "colab": {}
      },
      "source": [
        "predição_rot = clf_rot.predict(x_test_array)\n",
        "#predição_rot_2 = clf_rot.predict(x_test_array_2)"
      ],
      "execution_count": 61,
      "outputs": []
    },
    {
      "cell_type": "code",
      "metadata": {
        "id": "ozoNmTxV0rQI",
        "colab_type": "code",
        "colab": {
          "base_uri": "https://localhost:8080/",
          "height": 187
        },
        "outputId": "288be786-8f1a-4456-c973-0927daad84b2"
      },
      "source": [
        "print (classification_report(y_test, predição_rot))\n",
        "#print (classification_report(y_test_2, predição_rot_2))"
      ],
      "execution_count": 62,
      "outputs": [
        {
          "output_type": "stream",
          "text": [
            "              precision    recall  f1-score   support\n",
            "\n",
            "           0       0.33      0.34      0.34      9928\n",
            "           1       0.33      0.34      0.34     10025\n",
            "           2       0.34      0.33      0.33     10024\n",
            "\n",
            "    accuracy                           0.34     29977\n",
            "   macro avg       0.34      0.34      0.34     29977\n",
            "weighted avg       0.34      0.34      0.34     29977\n",
            "\n"
          ],
          "name": "stdout"
        }
      ]
    },
    {
      "cell_type": "markdown",
      "metadata": {
        "id": "lYOiS1ejmJUQ",
        "colab_type": "text"
      },
      "source": [
        "SVM - rbf (exponencial)"
      ]
    },
    {
      "cell_type": "code",
      "metadata": {
        "id": "nRxuTghV__Gu",
        "colab_type": "code",
        "colab": {}
      },
      "source": [
        "from sklearn import svm"
      ],
      "execution_count": 21,
      "outputs": []
    },
    {
      "cell_type": "code",
      "metadata": {
        "id": "Ta7t1xudAytM",
        "colab_type": "code",
        "colab": {}
      },
      "source": [
        "clf_svm_rbf = svm.SVC()"
      ],
      "execution_count": 64,
      "outputs": []
    },
    {
      "cell_type": "code",
      "metadata": {
        "id": "aQLnX-lRA3Xk",
        "colab_type": "code",
        "colab": {}
      },
      "source": [
        "clf_svm_rbf = clf_svm_rbf.fit(x_train,y_train)"
      ],
      "execution_count": 65,
      "outputs": []
    },
    {
      "cell_type": "code",
      "metadata": {
        "id": "3aHnEQFJA_AE",
        "colab_type": "code",
        "colab": {}
      },
      "source": [
        "predição_svm_rbf = clf_svm_rbf.predict(x_test)\n",
        "#predição_svm__rbf_2 = clf_svm_rbf.predict(x_test_2)"
      ],
      "execution_count": 66,
      "outputs": []
    },
    {
      "cell_type": "code",
      "metadata": {
        "id": "Tj5IpisHBFoZ",
        "colab_type": "code",
        "colab": {
          "base_uri": "https://localhost:8080/",
          "height": 187
        },
        "outputId": "0450a821-ba9d-456a-e18f-5b1f761e8f9d"
      },
      "source": [
        "print (classification_report(y_test, predição_svm_rbf))\n",
        "#print (classification_report(y_test_2, predição_svm__rbf_2))"
      ],
      "execution_count": 67,
      "outputs": [
        {
          "output_type": "stream",
          "text": [
            "              precision    recall  f1-score   support\n",
            "\n",
            "           0       0.57      0.60      0.59      9928\n",
            "           1       0.51      0.50      0.51     10025\n",
            "           2       0.48      0.45      0.46     10024\n",
            "\n",
            "    accuracy                           0.52     29977\n",
            "   macro avg       0.52      0.52      0.52     29977\n",
            "weighted avg       0.52      0.52      0.52     29977\n",
            "\n"
          ],
          "name": "stdout"
        }
      ]
    },
    {
      "cell_type": "markdown",
      "metadata": {
        "id": "4rsbZ_ajb5qW",
        "colab_type": "text"
      },
      "source": [
        "SVM Linear"
      ]
    },
    {
      "cell_type": "code",
      "metadata": {
        "id": "jsWAEwJ_Zw1a",
        "colab_type": "code",
        "colab": {}
      },
      "source": [
        "clf_svm_lin = svm.SVC(kernel='linear')"
      ],
      "execution_count": 22,
      "outputs": []
    },
    {
      "cell_type": "code",
      "metadata": {
        "id": "azp69Mt7RDSV",
        "colab_type": "code",
        "colab": {}
      },
      "source": [
        "clf_svm_lin = clf_svm_lin.fit(x_train,y_train)"
      ],
      "execution_count": 74,
      "outputs": []
    },
    {
      "cell_type": "code",
      "metadata": {
        "id": "pSjWETh9betb",
        "colab_type": "code",
        "colab": {}
      },
      "source": [
        "predição_svm_lin = clf_svm_lin.predict(x_test)\n",
        "#predição_svm__lin_2 = clf_svm_lin.predict(x_test_2)"
      ],
      "execution_count": 75,
      "outputs": []
    },
    {
      "cell_type": "code",
      "metadata": {
        "id": "UZWQ5_vzbosR",
        "colab_type": "code",
        "colab": {
          "base_uri": "https://localhost:8080/",
          "height": 187
        },
        "outputId": "ff04ab2c-0086-44d4-f9af-619f75c4fcd5"
      },
      "source": [
        "print (classification_report(y_test, predição_svm_lin))\n",
        "#print (classification_report(y_test_2, predição_svm__lin_2))"
      ],
      "execution_count": 76,
      "outputs": [
        {
          "output_type": "stream",
          "text": [
            "              precision    recall  f1-score   support\n",
            "\n",
            "           0       0.64      0.47      0.55      9928\n",
            "           1       0.49      0.56      0.53     10025\n",
            "           2       0.46      0.52      0.49     10024\n",
            "\n",
            "    accuracy                           0.52     29977\n",
            "   macro avg       0.53      0.52      0.52     29977\n",
            "weighted avg       0.53      0.52      0.52     29977\n",
            "\n"
          ],
          "name": "stdout"
        }
      ]
    },
    {
      "cell_type": "markdown",
      "metadata": {
        "id": "I6CPtzocb9Cm",
        "colab_type": "text"
      },
      "source": [
        "SVM Polinomial"
      ]
    },
    {
      "cell_type": "code",
      "metadata": {
        "id": "JgWcN33hcBXW",
        "colab_type": "code",
        "colab": {}
      },
      "source": [
        "clf_svm_pol = svm.SVC(kernel='poly')"
      ],
      "execution_count": 23,
      "outputs": []
    },
    {
      "cell_type": "code",
      "metadata": {
        "id": "kj3ONDKGcEZX",
        "colab_type": "code",
        "colab": {}
      },
      "source": [
        "clf_svm_pol = clf_svm_pol.fit(x_train,y_train)"
      ],
      "execution_count": null,
      "outputs": []
    },
    {
      "cell_type": "code",
      "metadata": {
        "id": "qIfCRJLQcK2B",
        "colab_type": "code",
        "colab": {}
      },
      "source": [
        "predição_svm_pol = clf_svm_pol.predict(x_test)\n",
        "#predição_svm__pol_2 = clf_svm_pol.predict(x_test_2)"
      ],
      "execution_count": null,
      "outputs": []
    },
    {
      "cell_type": "code",
      "metadata": {
        "id": "REMief3dcSYs",
        "colab_type": "code",
        "colab": {}
      },
      "source": [
        "print (classification_report(y_test, predição_svm_pol))\n",
        "#print (classification_report(y_test_2, predição_svm__pol_2))"
      ],
      "execution_count": null,
      "outputs": []
    },
    {
      "cell_type": "markdown",
      "metadata": {
        "id": "BHN8zfJAchn2",
        "colab_type": "text"
      },
      "source": [
        "SVM Sigmoid"
      ]
    },
    {
      "cell_type": "code",
      "metadata": {
        "id": "EnwarqybcgxP",
        "colab_type": "code",
        "colab": {}
      },
      "source": [
        "#clf_svm_sig = svm.SVC(kernel='sigmoid')"
      ],
      "execution_count": null,
      "outputs": []
    },
    {
      "cell_type": "code",
      "metadata": {
        "id": "vlUS_7hRcqmq",
        "colab_type": "code",
        "colab": {}
      },
      "source": [
        "#clf_svm_sig = clf_svm_sig.fit(x_train,y_train)"
      ],
      "execution_count": null,
      "outputs": []
    },
    {
      "cell_type": "code",
      "metadata": {
        "id": "rIgUDRjscuKN",
        "colab_type": "code",
        "colab": {}
      },
      "source": [
        "#predição_svm_sig = clf_svm_sig.predict(x_test)\n",
        "#predição_svm__sig_2 = clf_svm_sig.predict(x_test_2)"
      ],
      "execution_count": null,
      "outputs": []
    },
    {
      "cell_type": "code",
      "metadata": {
        "id": "VXXwDtDRczm3",
        "colab_type": "code",
        "colab": {}
      },
      "source": [
        "#print (classification_report(y_test, predição_svm_sig))\n",
        "#print (classification_report(y_test_2, predição_svm__sig_2))"
      ],
      "execution_count": null,
      "outputs": []
    },
    {
      "cell_type": "markdown",
      "metadata": {
        "id": "vBL3ztDViAbz",
        "colab_type": "text"
      },
      "source": [
        "Perceptron"
      ]
    },
    {
      "cell_type": "code",
      "metadata": {
        "id": "BmoMGeQphy_u",
        "colab_type": "code",
        "colab": {}
      },
      "source": [
        "from sklearn.linear_model import Perceptron"
      ],
      "execution_count": 22,
      "outputs": []
    },
    {
      "cell_type": "code",
      "metadata": {
        "id": "4JvuFXZuiD_S",
        "colab_type": "code",
        "colab": {}
      },
      "source": [
        "clf_perc = Perceptron(tol=1e-3, random_state=0)"
      ],
      "execution_count": 23,
      "outputs": []
    },
    {
      "cell_type": "code",
      "metadata": {
        "id": "40YvZ-cGiK2F",
        "colab_type": "code",
        "colab": {}
      },
      "source": [
        "clf_perc = clf_perc.fit(x_train,y_train)"
      ],
      "execution_count": 27,
      "outputs": []
    },
    {
      "cell_type": "code",
      "metadata": {
        "id": "JI8F_RNFicE1",
        "colab_type": "code",
        "colab": {}
      },
      "source": [
        "predição_perc = clf_perc.predict(x_test)\n",
        "#predição_perc_2 = clf_perc.predict(x_test_2)"
      ],
      "execution_count": 28,
      "outputs": []
    },
    {
      "cell_type": "code",
      "metadata": {
        "id": "hmmeKSFqihcL",
        "colab_type": "code",
        "colab": {
          "base_uri": "https://localhost:8080/",
          "height": 187
        },
        "outputId": "e3d47141-8c8d-4740-c884-738c4fdd06f4"
      },
      "source": [
        "print (classification_report(y_test, predição_perc, zero_division=1))\n",
        "#print (classification_report(y_test_2, predição_perc_2))"
      ],
      "execution_count": 30,
      "outputs": [
        {
          "output_type": "stream",
          "text": [
            "              precision    recall  f1-score   support\n",
            "\n",
            "           0       0.33      1.00      0.50      9903\n",
            "           1       1.00      0.00      0.00      9913\n",
            "           2       1.00      0.00      0.00     10161\n",
            "\n",
            "    accuracy                           0.33     29977\n",
            "   macro avg       0.78      0.33      0.17     29977\n",
            "weighted avg       0.78      0.33      0.16     29977\n",
            "\n"
          ],
          "name": "stdout"
        }
      ]
    },
    {
      "cell_type": "code",
      "metadata": {
        "id": "VnTI1bAsdZjM",
        "colab_type": "code",
        "colab": {}
      },
      "source": [
        ""
      ],
      "execution_count": null,
      "outputs": []
    }
  ]
}
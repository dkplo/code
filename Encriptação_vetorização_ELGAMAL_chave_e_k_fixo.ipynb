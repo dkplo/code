{
  "nbformat": 4,
  "nbformat_minor": 0,
  "metadata": {
    "colab": {
      "name": "Encriptação_vetorização_ELGAMAL_chave_e_k_fixo.ipynb",
      "provenance": [],
      "collapsed_sections": [],
      "machine_shape": "hm",
      "include_colab_link": true
    },
    "kernelspec": {
      "name": "python3",
      "display_name": "Python 3"
    }
  },
  "cells": [
    {
      "cell_type": "markdown",
      "metadata": {
        "id": "view-in-github",
        "colab_type": "text"
      },
      "source": [
        "<a href=\"https://colab.research.google.com/github/dkplo/code/blob/master/Encripta%C3%A7%C3%A3o_vetoriza%C3%A7%C3%A3o_ELGAMAL_chave_e_k_fixo.ipynb\" target=\"_parent\"><img src=\"https://colab.research.google.com/assets/colab-badge.svg\" alt=\"Open In Colab\"/></a>"
      ]
    },
    {
      "cell_type": "code",
      "metadata": {
        "id": "UPpqO_sc4y7j",
        "colab_type": "code",
        "colab": {}
      },
      "source": [
        "import time"
      ],
      "execution_count": 1,
      "outputs": []
    },
    {
      "cell_type": "code",
      "metadata": {
        "id": "pGllYM_yZdNK",
        "colab_type": "code",
        "colab": {
          "base_uri": "https://localhost:8080/",
          "height": 34
        },
        "outputId": "fec23e38-0c46-4249-b790-c6b9723cd1c6"
      },
      "source": [
        "temp_inicial = time.asctime()\n",
        "print(temp_inicial)"
      ],
      "execution_count": 2,
      "outputs": [
        {
          "output_type": "stream",
          "text": [
            "Sun Sep  6 11:57:18 2020\n"
          ],
          "name": "stdout"
        }
      ]
    },
    {
      "cell_type": "code",
      "metadata": {
        "id": "KK2cF_c9ZWSp",
        "colab_type": "code",
        "colab": {
          "base_uri": "https://localhost:8080/",
          "height": 255
        },
        "outputId": "410202e7-b7b1-402e-aaf2-ccd6f4c24c73"
      },
      "source": [
        "pip install PyDrive"
      ],
      "execution_count": 3,
      "outputs": [
        {
          "output_type": "stream",
          "text": [
            "Requirement already satisfied: PyDrive in /usr/local/lib/python3.6/dist-packages (1.3.1)\n",
            "Requirement already satisfied: google-api-python-client>=1.2 in /usr/local/lib/python3.6/dist-packages (from PyDrive) (1.7.12)\n",
            "Requirement already satisfied: PyYAML>=3.0 in /usr/local/lib/python3.6/dist-packages (from PyDrive) (3.13)\n",
            "Requirement already satisfied: oauth2client>=4.0.0 in /usr/local/lib/python3.6/dist-packages (from PyDrive) (4.1.3)\n",
            "Requirement already satisfied: uritemplate<4dev,>=3.0.0 in /usr/local/lib/python3.6/dist-packages (from google-api-python-client>=1.2->PyDrive) (3.0.1)\n",
            "Requirement already satisfied: google-auth-httplib2>=0.0.3 in /usr/local/lib/python3.6/dist-packages (from google-api-python-client>=1.2->PyDrive) (0.0.4)\n",
            "Requirement already satisfied: six<2dev,>=1.6.1 in /usr/local/lib/python3.6/dist-packages (from google-api-python-client>=1.2->PyDrive) (1.15.0)\n",
            "Requirement already satisfied: httplib2<1dev,>=0.17.0 in /usr/local/lib/python3.6/dist-packages (from google-api-python-client>=1.2->PyDrive) (0.17.4)\n",
            "Requirement already satisfied: google-auth>=1.4.1 in /usr/local/lib/python3.6/dist-packages (from google-api-python-client>=1.2->PyDrive) (1.17.2)\n",
            "Requirement already satisfied: rsa>=3.1.4 in /usr/local/lib/python3.6/dist-packages (from oauth2client>=4.0.0->PyDrive) (4.6)\n",
            "Requirement already satisfied: pyasn1-modules>=0.0.5 in /usr/local/lib/python3.6/dist-packages (from oauth2client>=4.0.0->PyDrive) (0.2.8)\n",
            "Requirement already satisfied: pyasn1>=0.1.7 in /usr/local/lib/python3.6/dist-packages (from oauth2client>=4.0.0->PyDrive) (0.4.8)\n",
            "Requirement already satisfied: setuptools>=40.3.0 in /usr/local/lib/python3.6/dist-packages (from google-auth>=1.4.1->google-api-python-client>=1.2->PyDrive) (49.6.0)\n",
            "Requirement already satisfied: cachetools<5.0,>=2.0.0 in /usr/local/lib/python3.6/dist-packages (from google-auth>=1.4.1->google-api-python-client>=1.2->PyDrive) (4.1.1)\n"
          ],
          "name": "stdout"
        }
      ]
    },
    {
      "cell_type": "code",
      "metadata": {
        "id": "RmTk5RuR6f1O",
        "colab_type": "code",
        "colab": {}
      },
      "source": [
        "from pydrive.auth import GoogleAuth\n",
        "from pydrive.drive import GoogleDrive\n",
        "from google.colab import auth\n",
        "from oauth2client.client import GoogleCredentials \n"
      ],
      "execution_count": 4,
      "outputs": []
    },
    {
      "cell_type": "code",
      "metadata": {
        "id": "YwcmrrGD60R3",
        "colab_type": "code",
        "colab": {}
      },
      "source": [
        "auth.authenticate_user()\n",
        "gauth = GoogleAuth()\n",
        "gauth.credentials = GoogleCredentials.get_application_default()\n",
        "drive = GoogleDrive(gauth)"
      ],
      "execution_count": 5,
      "outputs": []
    },
    {
      "cell_type": "code",
      "metadata": {
        "id": "eesNoU7R7Xth",
        "colab_type": "code",
        "colab": {}
      },
      "source": [
        "downloaded = drive.CreateFile({'id':\"1D0Rv2TsRIqc6R-FHqk64UGhlWk_f55wO\"})\n",
        "downloaded.GetContentFile('good.csv')"
      ],
      "execution_count": 6,
      "outputs": []
    },
    {
      "cell_type": "code",
      "metadata": {
        "id": "pKewJN-P7K8G",
        "colab_type": "code",
        "colab": {}
      },
      "source": [
        "import pandas as pd"
      ],
      "execution_count": 7,
      "outputs": []
    },
    {
      "cell_type": "code",
      "metadata": {
        "id": "LUfguk95890I",
        "colab_type": "code",
        "colab": {}
      },
      "source": [
        "data = pd.read_csv('good.csv')"
      ],
      "execution_count": 8,
      "outputs": []
    },
    {
      "cell_type": "code",
      "metadata": {
        "id": "2Vb9Bw7H9Hbj",
        "colab_type": "code",
        "colab": {}
      },
      "source": [
        "data = data.drop(data.columns[1:], axis=1)"
      ],
      "execution_count": 9,
      "outputs": []
    },
    {
      "cell_type": "code",
      "metadata": {
        "id": "saL5X_j69BUP",
        "colab_type": "code",
        "colab": {
          "base_uri": "https://localhost:8080/",
          "height": 204
        },
        "outputId": "33e39171-91e0-4f1e-93c7-c38f5b2bf0a6"
      },
      "source": [
        "data.head()"
      ],
      "execution_count": 10,
      "outputs": [
        {
          "output_type": "execute_result",
          "data": {
            "text/html": [
              "<div>\n",
              "<style scoped>\n",
              "    .dataframe tbody tr th:only-of-type {\n",
              "        vertical-align: middle;\n",
              "    }\n",
              "\n",
              "    .dataframe tbody tr th {\n",
              "        vertical-align: top;\n",
              "    }\n",
              "\n",
              "    .dataframe thead th {\n",
              "        text-align: right;\n",
              "    }\n",
              "</style>\n",
              "<table border=\"1\" class=\"dataframe\">\n",
              "  <thead>\n",
              "    <tr style=\"text-align: right;\">\n",
              "      <th></th>\n",
              "      <th>text</th>\n",
              "    </tr>\n",
              "  </thead>\n",
              "  <tbody>\n",
              "    <tr>\n",
              "      <th>0</th>\n",
              "      <td>Nycticebus linglom is a fossil strepsirrhine p...</td>\n",
              "    </tr>\n",
              "    <tr>\n",
              "      <th>1</th>\n",
              "      <td>Oryzomys pliocaenicus is a fossil rodent from ...</td>\n",
              "    </tr>\n",
              "    <tr>\n",
              "      <th>2</th>\n",
              "      <td>.hack dt hk is a series of single player actio...</td>\n",
              "    </tr>\n",
              "    <tr>\n",
              "      <th>3</th>\n",
              "      <td>The You Drive Me Crazy Tour was the second con...</td>\n",
              "    </tr>\n",
              "    <tr>\n",
              "      <th>4</th>\n",
              "      <td>0 8 4 is the second episode of the first seaso...</td>\n",
              "    </tr>\n",
              "  </tbody>\n",
              "</table>\n",
              "</div>"
            ],
            "text/plain": [
              "                                                text\n",
              "0  Nycticebus linglom is a fossil strepsirrhine p...\n",
              "1  Oryzomys pliocaenicus is a fossil rodent from ...\n",
              "2  .hack dt hk is a series of single player actio...\n",
              "3  The You Drive Me Crazy Tour was the second con...\n",
              "4  0 8 4 is the second episode of the first seaso..."
            ]
          },
          "metadata": {
            "tags": []
          },
          "execution_count": 10
        }
      ]
    },
    {
      "cell_type": "code",
      "metadata": {
        "id": "sW2QrxruZl5O",
        "colab_type": "code",
        "colab": {
          "base_uri": "https://localhost:8080/",
          "height": 34
        },
        "outputId": "28007736-1d4c-47aa-db4c-f7870b2d5971"
      },
      "source": [
        "temp_carreg_planilha = time.asctime()\n",
        "print(temp_carreg_planilha)"
      ],
      "execution_count": 11,
      "outputs": [
        {
          "output_type": "stream",
          "text": [
            "Sun Sep  6 11:58:29 2020\n"
          ],
          "name": "stdout"
        }
      ]
    },
    {
      "cell_type": "code",
      "metadata": {
        "id": "NyKQ0uEe9Q5G",
        "colab_type": "code",
        "colab": {}
      },
      "source": [
        "data['separado_128'] = 0"
      ],
      "execution_count": 12,
      "outputs": []
    },
    {
      "cell_type": "code",
      "metadata": {
        "id": "hyrbMFO49cE1",
        "colab_type": "code",
        "colab": {
          "base_uri": "https://localhost:8080/",
          "height": 187
        },
        "outputId": "c00955b4-5d38-497c-d0c2-b069f2b725cb"
      },
      "source": [
        "for i in data.index:\n",
        "    a_dividir = data['text'][i]\n",
        "    #print(tamanho, type(tamanho), a_dividir[0:10], type(a_dividir))\n",
        "    lista = []\n",
        "    j = 0\n",
        "    while j < len(a_dividir):\n",
        "        lista.append(a_dividir[j:j+127])\n",
        "        j += 127\n",
        "    data['separado_128'][i] = lista   "
      ],
      "execution_count": 13,
      "outputs": [
        {
          "output_type": "stream",
          "text": [
            "/usr/local/lib/python3.6/dist-packages/ipykernel_launcher.py:9: SettingWithCopyWarning: \n",
            "A value is trying to be set on a copy of a slice from a DataFrame\n",
            "\n",
            "See the caveats in the documentation: https://pandas.pydata.org/pandas-docs/stable/user_guide/indexing.html#returning-a-view-versus-a-copy\n",
            "  if __name__ == '__main__':\n",
            "/usr/local/lib/python3.6/dist-packages/pandas/core/indexing.py:671: SettingWithCopyWarning: \n",
            "A value is trying to be set on a copy of a slice from a DataFrame\n",
            "\n",
            "See the caveats in the documentation: https://pandas.pydata.org/pandas-docs/stable/user_guide/indexing.html#returning-a-view-versus-a-copy\n",
            "  self._setitem_with_indexer(indexer, value)\n"
          ],
          "name": "stderr"
        }
      ]
    },
    {
      "cell_type": "code",
      "metadata": {
        "id": "E_rHBkguaI9T",
        "colab_type": "code",
        "colab": {
          "base_uri": "https://localhost:8080/",
          "height": 34
        },
        "outputId": "2ac4b24f-db51-4d83-b454-e2178f511ff5"
      },
      "source": [
        "temp_sep_blocos = time.asctime()\n",
        "print(temp_sep_blocos)"
      ],
      "execution_count": 14,
      "outputs": [
        {
          "output_type": "stream",
          "text": [
            "Sun Sep  6 11:58:32 2020\n"
          ],
          "name": "stdout"
        }
      ]
    },
    {
      "cell_type": "code",
      "metadata": {
        "id": "W7iWUFLzagrw",
        "colab_type": "code",
        "colab": {
          "base_uri": "https://localhost:8080/",
          "height": 187
        },
        "outputId": "e0b73499-9506-4a1e-94f2-41e3e08b5680"
      },
      "source": [
        "pip install PyCrypto"
      ],
      "execution_count": 15,
      "outputs": [
        {
          "output_type": "stream",
          "text": [
            "Collecting PyCrypto\n",
            "\u001b[?25l  Downloading https://files.pythonhosted.org/packages/60/db/645aa9af249f059cc3a368b118de33889219e0362141e75d4eaf6f80f163/pycrypto-2.6.1.tar.gz (446kB)\n",
            "\u001b[K     |████████████████████████████████| 450kB 2.6MB/s \n",
            "\u001b[?25hBuilding wheels for collected packages: PyCrypto\n",
            "  Building wheel for PyCrypto (setup.py) ... \u001b[?25l\u001b[?25hdone\n",
            "  Created wheel for PyCrypto: filename=pycrypto-2.6.1-cp36-cp36m-linux_x86_64.whl size=499939 sha256=ce42f8b28b9fdd7fe3cb6ae019508ba33912dd9de68d4763775bf2f647a66b20\n",
            "  Stored in directory: /root/.cache/pip/wheels/27/02/5e/77a69d0c16bb63c6ed32f5386f33a2809c94bd5414a2f6c196\n",
            "Successfully built PyCrypto\n",
            "Installing collected packages: PyCrypto\n",
            "Successfully installed PyCrypto-2.6.1\n"
          ],
          "name": "stdout"
        }
      ]
    },
    {
      "cell_type": "code",
      "metadata": {
        "id": "95j3jwr7FWec",
        "colab_type": "code",
        "colab": {}
      },
      "source": [
        "from Crypto import Random\n",
        "import random"
      ],
      "execution_count": 16,
      "outputs": []
    },
    {
      "cell_type": "code",
      "metadata": {
        "id": "1PN95HnOHzz0",
        "colab_type": "code",
        "colab": {}
      },
      "source": [
        "data['criptografia_elgamal_parte1'] = 0\n",
        "data['criptografia_elgamal_parte2'] = 0\n",
        "#data['criptografia_elgamal_parte1_num'] = 0\n",
        "#data['criptografia_elgamal_parte2_num'] = 0"
      ],
      "execution_count": 17,
      "outputs": []
    },
    {
      "cell_type": "code",
      "metadata": {
        "id": "qghhzVz1P0uR",
        "colab_type": "code",
        "colab": {}
      },
      "source": [
        "from Crypto.PublicKey import ElGamal"
      ],
      "execution_count": 18,
      "outputs": []
    },
    {
      "cell_type": "code",
      "metadata": {
        "id": "F_VKI610P6Ey",
        "colab_type": "code",
        "colab": {}
      },
      "source": [
        "random_generator = Random.new().read\n",
        "key_elgamal = ElGamal.generate(1024,random_generator)\n",
        "elgamal_k = random.getrandbits(16)\n",
        "#key_elgamal_gerada = ElGamal.construct((9967,3543,6056,207)) #construção de uma chave com os parâmetros P, G, Y, X."
      ],
      "execution_count": 19,
      "outputs": []
    },
    {
      "cell_type": "code",
      "metadata": {
        "id": "ksiI0MxeP78z",
        "colab_type": "code",
        "colab": {}
      },
      "source": [
        "for j in data.index:\n",
        "  lista = data['separado_128'][j]\n",
        "  lista_criptografada_elgamal_parte1 = []\n",
        "  lista_criptografada_elgamal_parte2 = []\n",
        "  #lista_criptografada_elgamal_parte1_num = []\n",
        "  #lista_criptografada_elgamal_parte2_num = []\n",
        "  for i in range(0,len(lista)):\n",
        "    a_criptografar = lista[i]\n",
        "    lista_criptografada_elgamal_parte1.append(key_elgamal.encrypt(bytes(a_criptografar, encoding=\"ascii\"),elgamal_k)[0])\n",
        "    lista_criptografada_elgamal_parte2.append(key_elgamal.encrypt(bytes(a_criptografar, encoding=\"ascii\"),elgamal_k)[1])\n",
        "    #lista_criptografada_elgamal_parte1_num.append(int.from_bytes(lista_criptografada_elgamal_parte1[i], byteorder=\"little\"))\n",
        "    #lista_criptografada_elgamal_parte2_num.append(int.from_bytes(lista_criptografada_elgamal_parte2[i], byteorder=\"little\"))\n",
        "  data['criptografia_elgamal_parte1'][j] = lista_criptografada_elgamal_parte1\n",
        "  data['criptografia_elgamal_parte2'][j] = lista_criptografada_elgamal_parte2\n",
        "  #data['criptografia_elgamal_parte1_num'][j] = lista_criptografada_elgamal_parte1_num\n",
        "  #data['criptografia_elgamal_parte2_num'][j] = lista_criptografada_elgamal_parte2_num"
      ],
      "execution_count": 30,
      "outputs": []
    },
    {
      "cell_type": "code",
      "metadata": {
        "id": "GvJ5UV82Q8EQ",
        "colab_type": "code",
        "colab": {
          "base_uri": "https://localhost:8080/",
          "height": 34
        },
        "outputId": "c2b36c54-ddb6-44a8-d830-1b999836372b"
      },
      "source": [
        "data['criptografia_elgamal_parte1'][1][0] == data['criptografia_elgamal_parte1'][2][0]"
      ],
      "execution_count": 31,
      "outputs": [
        {
          "output_type": "execute_result",
          "data": {
            "text/plain": [
              "True"
            ]
          },
          "metadata": {
            "tags": []
          },
          "execution_count": 31
        }
      ]
    },
    {
      "cell_type": "code",
      "metadata": {
        "id": "7o3FX1AHbAeU",
        "colab_type": "code",
        "colab": {
          "base_uri": "https://localhost:8080/",
          "height": 34
        },
        "outputId": "af60aaa6-e74b-4541-934d-ee1ba164b873"
      },
      "source": [
        "temp_elgamal = time.asctime()\n",
        "print(temp_elgamal)"
      ],
      "execution_count": 32,
      "outputs": [
        {
          "output_type": "stream",
          "text": [
            "Sun Sep  6 12:38:51 2020\n"
          ],
          "name": "stdout"
        }
      ]
    },
    {
      "cell_type": "code",
      "metadata": {
        "id": "SZ9-hYl6lhSd",
        "colab_type": "code",
        "colab": {}
      },
      "source": [
        "lista_hex =[]\n",
        "for i in range(0,2**(8)):\n",
        "    lista_hex.append(hex(i))"
      ],
      "execution_count": 33,
      "outputs": []
    },
    {
      "cell_type": "code",
      "metadata": {
        "id": "BZtGx75kMG91",
        "colab_type": "code",
        "colab": {}
      },
      "source": [
        "data['vetor'] = 0"
      ],
      "execution_count": 34,
      "outputs": []
    },
    {
      "cell_type": "code",
      "metadata": {
        "id": "nwVsOX7ylQwd",
        "colab_type": "code",
        "colab": {}
      },
      "source": [
        "data['vetor'] = data['vetor'].astype(object)"
      ],
      "execution_count": 35,
      "outputs": []
    },
    {
      "cell_type": "code",
      "metadata": {
        "id": "h8M3j3IyoJJ5",
        "colab_type": "code",
        "colab": {}
      },
      "source": [
        "for i in data.index:\n",
        "  vetor_mapeamento = {}\n",
        "  for q in lista_hex:\n",
        "    vetor_mapeamento[q] = 0\n",
        "  lista_recuperada = data['criptografia_elgamal_parte1'][i][0]\n",
        "  for j in range(0,len(lista_recuperada)):\n",
        "    a_mapear = bytes(lista_recuperada[j])\n",
        "    for w in a_mapear:\n",
        "      vetor_mapeamento[hex(w)] += 1\n",
        "  lista_recuperada = data['criptografia_elgamal_parte2'][i]\n",
        "  for j in range(0,len(lista_recuperada)):\n",
        "    a_mapear = lista_recuperada[j]\n",
        "    for w in a_mapear:\n",
        "      vetor_mapeamento[hex(w)] += 1\n",
        "  data['vetor'][i] = list(vetor_mapeamento.values())"
      ],
      "execution_count": 37,
      "outputs": []
    },
    {
      "cell_type": "code",
      "metadata": {
        "id": "JDvwZxmfhc62",
        "colab_type": "code",
        "colab": {}
      },
      "source": [
        "data['label'] = 8"
      ],
      "execution_count": 38,
      "outputs": []
    },
    {
      "cell_type": "code",
      "metadata": {
        "id": "FvsUYWzGveRp",
        "colab_type": "code",
        "colab": {}
      },
      "source": [
        "from google.colab import drive"
      ],
      "execution_count": 39,
      "outputs": []
    },
    {
      "cell_type": "code",
      "metadata": {
        "id": "uNIvZx78vhcG",
        "colab_type": "code",
        "colab": {
          "base_uri": "https://localhost:8080/",
          "height": 122
        },
        "outputId": "4a40a00d-7b02-4ed6-e5af-bf32d65475b7"
      },
      "source": [
        "drive.mount('/content/drive')"
      ],
      "execution_count": 40,
      "outputs": [
        {
          "output_type": "stream",
          "text": [
            "Go to this URL in a browser: https://accounts.google.com/o/oauth2/auth?client_id=947318989803-6bn6qk8qdgf4n4g3pfee6491hc0brc4i.apps.googleusercontent.com&redirect_uri=urn%3aietf%3awg%3aoauth%3a2.0%3aoob&scope=email%20https%3a%2f%2fwww.googleapis.com%2fauth%2fdocs.test%20https%3a%2f%2fwww.googleapis.com%2fauth%2fdrive%20https%3a%2f%2fwww.googleapis.com%2fauth%2fdrive.photos.readonly%20https%3a%2f%2fwww.googleapis.com%2fauth%2fpeopleapi.readonly&response_type=code\n",
            "\n",
            "Enter your authorization code:\n",
            "··········\n",
            "Mounted at /content/drive\n"
          ],
          "name": "stdout"
        }
      ]
    },
    {
      "cell_type": "code",
      "metadata": {
        "id": "IPPjNYK7_gGN",
        "colab_type": "code",
        "colab": {}
      },
      "source": [
        "from numpy import save"
      ],
      "execution_count": 41,
      "outputs": []
    },
    {
      "cell_type": "code",
      "metadata": {
        "id": "2-k-W4fpAfNJ",
        "colab_type": "code",
        "colab": {}
      },
      "source": [
        "save('/content/drive/My Drive/elgamal_chave_1024_06_09_20_chave_e_k_fixos.npy',data.loc[:, 'vetor':'label'].to_numpy())"
      ],
      "execution_count": 42,
      "outputs": []
    },
    {
      "cell_type": "code",
      "metadata": {
        "id": "WP4Ys3bbd8M5",
        "colab_type": "code",
        "colab": {}
      },
      "source": [
        "data.loc[:, 'vetor':'label'].to_csv('elgamal_chave_1024_06_09_20_chave_e_k_fixos.csv', index = True)\n",
        "!cp elgamal_chave_1024_06_09_20_chave_e_k_fixos.csv \"/content/drive/My Drive/\""
      ],
      "execution_count": 43,
      "outputs": []
    },
    {
      "cell_type": "code",
      "metadata": {
        "id": "j60-tcIyvvuv",
        "colab_type": "code",
        "colab": {}
      },
      "source": [
        "#data.loc[:, 'criptografia_elgamal_parte1':'criptografia_elgamal_parte2'].to_csv('criptogramas_elgamal_chave_1024_31_08_20.csv', index = False)\n",
        "#!cp criptogramas_elgamal_chave_1024_31_08_20.csv \"/content/drive/My Drive/\""
      ],
      "execution_count": null,
      "outputs": []
    },
    {
      "cell_type": "code",
      "metadata": {
        "id": "6f1p1FdsA0xb",
        "colab_type": "code",
        "colab": {}
      },
      "source": [
        ""
      ],
      "execution_count": null,
      "outputs": []
    }
  ]
}
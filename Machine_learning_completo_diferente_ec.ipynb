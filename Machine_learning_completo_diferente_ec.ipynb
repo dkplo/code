{
  "nbformat": 4,
  "nbformat_minor": 0,
  "metadata": {
    "colab": {
      "name": "Machine_learning_completo_diferente_ec.ipynb",
      "provenance": [],
      "collapsed_sections": [],
      "include_colab_link": true
    },
    "kernelspec": {
      "name": "python3",
      "display_name": "Python 3"
    }
  },
  "cells": [
    {
      "cell_type": "markdown",
      "metadata": {
        "id": "view-in-github",
        "colab_type": "text"
      },
      "source": [
        "<a href=\"https://colab.research.google.com/github/dkplo/code/blob/master/Machine_learning_completo_diferente_ec.ipynb\" target=\"_parent\"><img src=\"https://colab.research.google.com/assets/colab-badge.svg\" alt=\"Open In Colab\"/></a>"
      ]
    },
    {
      "cell_type": "code",
      "metadata": {
        "id": "uWuZ3il6M-2h",
        "colab_type": "code",
        "colab": {
          "base_uri": "https://localhost:8080/",
          "height": 255
        },
        "outputId": "0e46e3bd-b84b-4b9d-9376-20695f7aef1c"
      },
      "source": [
        "pip install PyDrive"
      ],
      "execution_count": 1,
      "outputs": [
        {
          "output_type": "stream",
          "text": [
            "Requirement already satisfied: PyDrive in /usr/local/lib/python3.6/dist-packages (1.3.1)\n",
            "Requirement already satisfied: oauth2client>=4.0.0 in /usr/local/lib/python3.6/dist-packages (from PyDrive) (4.1.3)\n",
            "Requirement already satisfied: PyYAML>=3.0 in /usr/local/lib/python3.6/dist-packages (from PyDrive) (3.13)\n",
            "Requirement already satisfied: google-api-python-client>=1.2 in /usr/local/lib/python3.6/dist-packages (from PyDrive) (1.7.12)\n",
            "Requirement already satisfied: httplib2>=0.9.1 in /usr/local/lib/python3.6/dist-packages (from oauth2client>=4.0.0->PyDrive) (0.17.4)\n",
            "Requirement already satisfied: pyasn1>=0.1.7 in /usr/local/lib/python3.6/dist-packages (from oauth2client>=4.0.0->PyDrive) (0.4.8)\n",
            "Requirement already satisfied: six>=1.6.1 in /usr/local/lib/python3.6/dist-packages (from oauth2client>=4.0.0->PyDrive) (1.15.0)\n",
            "Requirement already satisfied: rsa>=3.1.4 in /usr/local/lib/python3.6/dist-packages (from oauth2client>=4.0.0->PyDrive) (4.6)\n",
            "Requirement already satisfied: pyasn1-modules>=0.0.5 in /usr/local/lib/python3.6/dist-packages (from oauth2client>=4.0.0->PyDrive) (0.2.8)\n",
            "Requirement already satisfied: google-auth-httplib2>=0.0.3 in /usr/local/lib/python3.6/dist-packages (from google-api-python-client>=1.2->PyDrive) (0.0.4)\n",
            "Requirement already satisfied: google-auth>=1.4.1 in /usr/local/lib/python3.6/dist-packages (from google-api-python-client>=1.2->PyDrive) (1.17.2)\n",
            "Requirement already satisfied: uritemplate<4dev,>=3.0.0 in /usr/local/lib/python3.6/dist-packages (from google-api-python-client>=1.2->PyDrive) (3.0.1)\n",
            "Requirement already satisfied: cachetools<5.0,>=2.0.0 in /usr/local/lib/python3.6/dist-packages (from google-auth>=1.4.1->google-api-python-client>=1.2->PyDrive) (4.1.1)\n",
            "Requirement already satisfied: setuptools>=40.3.0 in /usr/local/lib/python3.6/dist-packages (from google-auth>=1.4.1->google-api-python-client>=1.2->PyDrive) (49.2.0)\n"
          ],
          "name": "stdout"
        }
      ]
    },
    {
      "cell_type": "code",
      "metadata": {
        "id": "dpcU8Fr5NNbZ",
        "colab_type": "code",
        "colab": {}
      },
      "source": [
        "from pydrive.auth import GoogleAuth\n",
        "from pydrive.drive import GoogleDrive\n",
        "from google.colab import auth\n",
        "from oauth2client.client import GoogleCredentials "
      ],
      "execution_count": 2,
      "outputs": []
    },
    {
      "cell_type": "code",
      "metadata": {
        "id": "5YP5UAYBNP_o",
        "colab_type": "code",
        "colab": {}
      },
      "source": [
        "auth.authenticate_user()\n",
        "gauth = GoogleAuth()\n",
        "gauth.credentials = GoogleCredentials.get_application_default()\n",
        "drive = GoogleDrive(gauth)"
      ],
      "execution_count": 3,
      "outputs": []
    },
    {
      "cell_type": "code",
      "metadata": {
        "id": "qsyteMudSzaM",
        "colab_type": "code",
        "colab": {}
      },
      "source": [
        "import numpy as np"
      ],
      "execution_count": 4,
      "outputs": []
    },
    {
      "cell_type": "code",
      "metadata": {
        "id": "p7Cky1iVVU56",
        "colab_type": "code",
        "colab": {}
      },
      "source": [
        "downloaded_ec = drive.CreateFile({'id':\"1twaw-eopcLHDcVt-M_qOzfI5J8bKpuhc\"})\n",
        "downloaded_ec.GetContentFile('vetor_ec_numpy_13_08_20.npy')"
      ],
      "execution_count": 5,
      "outputs": []
    },
    {
      "cell_type": "code",
      "metadata": {
        "id": "wlOwnXZJEaNH",
        "colab_type": "code",
        "colab": {}
      },
      "source": [
        "downloaded_ec_2 = drive.CreateFile({'id':\"1-5d1fHV6zN0NUws8lNLY_96JDSPCxxWf\"})\n",
        "downloaded_ec_2.GetContentFile('vetor_ec_numpy_23_08_20_ec_diferente_v2.npy')"
      ],
      "execution_count": 9,
      "outputs": []
    },
    {
      "cell_type": "code",
      "metadata": {
        "id": "7cqb0syAXQxM",
        "colab_type": "code",
        "colab": {
          "base_uri": "https://localhost:8080/",
          "height": 68
        },
        "outputId": "41414fe8-7b03-494a-bb5e-500fb5647c20"
      },
      "source": [
        "!ls"
      ],
      "execution_count": 10,
      "outputs": [
        {
          "output_type": "stream",
          "text": [
            "adc.json\t\t     vetor_ec_numpy_15_08_20.npy\n",
            "sample_data\t\t     vetor_ec_numpy_23_08_20_ec_diferente_v2.npy\n",
            "vetor_ec_numpy_13_08_20.npy\n"
          ],
          "name": "stdout"
        }
      ]
    },
    {
      "cell_type": "code",
      "metadata": {
        "id": "HRHgWXg7NRsY",
        "colab_type": "code",
        "colab": {}
      },
      "source": [
        "from numpy import load"
      ],
      "execution_count": 8,
      "outputs": []
    },
    {
      "cell_type": "code",
      "metadata": {
        "id": "6BG2wlBTUPj_",
        "colab_type": "code",
        "colab": {}
      },
      "source": [
        "ec = np.load('vetor_ec_numpy_13_08_20.npy',allow_pickle=True)\n",
        "ec_2 = np.load('vetor_ec_numpy_23_08_20_ec_diferente_v2.npy',allow_pickle=True)"
      ],
      "execution_count": 11,
      "outputs": []
    },
    {
      "cell_type": "code",
      "metadata": {
        "id": "3iGLS-k0Sxq_",
        "colab_type": "code",
        "colab": {}
      },
      "source": [
        "base_toda = np.concatenate((ec,ec_2), axis=0)"
      ],
      "execution_count": 12,
      "outputs": []
    },
    {
      "cell_type": "code",
      "metadata": {
        "id": "0i1xUHSPoaEs",
        "colab_type": "code",
        "colab": {
          "base_uri": "https://localhost:8080/",
          "height": 258
        },
        "outputId": "592149e3-f0d7-4848-a281-1aafb7ecb6e4"
      },
      "source": [
        "base_toda"
      ],
      "execution_count": 13,
      "outputs": [
        {
          "output_type": "execute_result",
          "data": {
            "text/plain": [
              "array([[list([7, 4, 5, 7, 33, 36, 9, 38, 38, 1, 7, 7, 4, 13, 3, 2, 33, 7, 9, 7, 62, 7, 8, 8, 8, 5, 9, 6, 4, 2, 8, 6, 2, 11, 33, 3, 9, 7, 7, 8, 3, 6, 36, 4, 8, 9, 9, 10, 8, 7, 8, 7, 10, 8, 35, 40, 10, 9, 60, 31, 33, 7, 3, 10, 7, 34, 7, 3, 4, 5, 4, 6, 38, 7, 9, 4, 1, 67, 3, 5, 12, 10, 5, 4, 6, 35, 63, 9, 35, 13, 37, 35, 30, 10, 34, 6, 6, 6, 9, 33, 30, 8, 35, 11, 10, 3, 62, 12, 9, 33, 8, 6, 11, 31, 9, 6, 2, 12, 36, 4, 7, 7, 6, 31, 8, 4, 11, 8, 2, 6, 38, 9, 7, 7, 9, 2, 11, 7, 31, 11, 35, 30, 6, 5, 6, 6, 5, 8, 13, 9, 119, 2, 11, 9, 40, 15, 4, 4, 5, 7, 5, 6, 8, 35, 6, 5, 5, 7, 9, 38, 37, 66, 5, 35, 37, 10, 34, 8, 3, 3, 13, 2, 8, 32, 7, 11, 12, 3, 15, 9, 36, 8, 37, 8, 10, 6, 8, 7, 4, 4, 3, 5, 9, 62, 7, 7, 7, 6, 36, 5, 3, 5, 8, 3, 15, 37, 6, 5, 7, 7, 10, 3, 7, 3, 6, 9, 10, 10, 2, 6, 6, 7, 7, 8, 9, 10, 12, 35, 10, 10, 5, 10, 13, 8, 5, 5, 6, 33, 4, 32, 9, 6, 6, 40, 9, 13]),\n",
              "        0],\n",
              "       [list([4, 10, 32, 8, 6, 6, 33, 5, 9, 34, 4, 3, 12, 7, 13, 8, 5, 7, 10, 8, 28, 34, 3, 7, 11, 11, 33, 31, 8, 29, 9, 33, 9, 10, 7, 30, 32, 6, 28, 10, 10, 5, 5, 33, 4, 6, 9, 58, 4, 29, 8, 4, 9, 32, 3, 6, 55, 3, 5, 31, 8, 5, 33, 4, 6, 11, 10, 9, 8, 5, 6, 6, 34, 4, 4, 12, 5, 4, 3, 4, 5, 3, 32, 9, 8, 7, 5, 34, 55, 6, 4, 12, 8, 5, 9, 36, 4, 10, 2, 6, 34, 5, 32, 15, 30, 4, 4, 5, 34, 6, 3, 32, 6, 6, 4, 4, 7, 5, 6, 5, 6, 31, 7, 7, 28, 7, 9, 7, 7, 9, 8, 8, 9, 8, 34, 30, 11, 6, 2, 12, 5, 33, 8, 3, 6, 6, 3, 5, 5, 3, 12, 8, 8, 4, 3, 35, 5, 55, 31, 33, 31, 7, 32, 55, 9, 8, 9, 30, 5, 7, 8, 33, 8, 4, 35, 3, 41, 3, 1, 6, 5, 6, 33, 11, 8, 35, 33, 10, 6, 8, 5, 5, 6, 30, 3, 31, 2, 2, 6, 33, 11, 3, 9, 4, 4, 4, 2, 12, 6, 9, 5, 4, 4, 9, 3, 35, 61, 32, 7, 17, 5, 10, 6, 9, 32, 10, 4, 7, 7, 7, 14, 9, 7, 9, 30, 34, 33, 6, 5, 5, 11, 5, 11, 9, 11, 6, 6, 5, 6, 4, 3, 7, 4, 6, 5, 9]),\n",
              "        0],\n",
              "       [list([41, 50, 64, 42, 41, 40, 58, 50, 45, 42, 40, 218, 400, 221, 45, 31, 45, 58, 47, 236, 231, 50, 49, 41, 44, 49, 48, 43, 64, 44, 35, 224, 47, 45, 53, 47, 40, 44, 43, 47, 42, 216, 221, 43, 217, 45, 224, 59, 55, 46, 36, 220, 37, 63, 43, 46, 223, 211, 50, 44, 226, 231, 57, 42, 33, 51, 239, 48, 53, 231, 48, 46, 222, 225, 48, 56, 228, 41, 42, 29, 408, 40, 224, 225, 38, 222, 50, 42, 37, 230, 55, 36, 42, 39, 50, 43, 44, 49, 219, 38, 38, 47, 38, 43, 42, 395, 32, 232, 32, 217, 37, 35, 45, 222, 47, 41, 46, 47, 223, 55, 42, 43, 45, 42, 42, 47, 37, 46, 34, 47, 41, 45, 232, 42, 48, 224, 52, 47, 45, 46, 45, 44, 46, 57, 42, 40, 38, 403, 55, 41, 220, 53, 55, 39, 27, 45, 396, 41, 42, 40, 39, 54, 38, 34, 44, 38, 39, 49, 38, 55, 48, 44, 37, 41, 35, 46, 49, 224, 226, 57, 44, 45, 39, 226, 401, 39, 34, 38, 218, 54, 227, 54, 50, 39, 54, 229, 46, 45, 43, 36, 56, 47, 35, 46, 407, 53, 225, 406, 36, 36, 36, 215, 40, 56, 48, 46, 62, 49, 44, 65, 42, 44, 42, 39, 56, 52, 221, 53, 39, 43, 34, 53, 46, 219, 224, 51, 226, 28, 51, 22, 44, 242, 42, 41, 32, 218, 40, 55, 43, 40, 238, 34, 233, 46, 50, 225]),\n",
              "        0],\n",
              "       ...,\n",
              "       [list([17, 19, 11, 102, 25, 22, 13, 20, 96, 25, 94, 24, 26, 21, 18, 11, 94, 27, 27, 21, 15, 16, 21, 11, 96, 18, 21, 25, 23, 97, 14, 25, 13, 19, 30, 93, 21, 174, 15, 11, 17, 15, 20, 101, 19, 96, 88, 18, 15, 15, 28, 16, 100, 10, 95, 14, 11, 16, 21, 17, 11, 19, 170, 23, 90, 14, 22, 90, 16, 24, 106, 19, 17, 10, 15, 15, 26, 97, 18, 25, 16, 11, 21, 26, 12, 26, 20, 17, 25, 23, 97, 171, 15, 92, 20, 14, 20, 26, 10, 13, 22, 16, 19, 15, 86, 94, 24, 98, 25, 102, 20, 13, 105, 16, 25, 99, 12, 15, 18, 91, 95, 20, 15, 22, 22, 17, 14, 87, 24, 29, 21, 15, 17, 10, 22, 23, 101, 19, 23, 172, 95, 18, 21, 95, 16, 18, 16, 20, 23, 25, 15, 101, 27, 19, 20, 16, 23, 93, 17, 18, 23, 21, 17, 19, 24, 20, 15, 101, 14, 15, 24, 26, 180, 24, 20, 21, 98, 91, 15, 26, 20, 17, 86, 24, 17, 21, 9, 17, 91, 99, 95, 91, 30, 24, 93, 17, 11, 22, 27, 21, 20, 14, 19, 21, 98, 11, 89, 11, 110, 90, 18, 94, 17, 22, 15, 16, 16, 18, 14, 17, 27, 27, 20, 23, 18, 23, 19, 20, 93, 17, 19, 167, 11, 24, 16, 15, 94, 20, 20, 9, 26, 18, 26, 12, 18, 19, 25, 90, 97, 14, 103, 16, 96, 18, 18, 10]),\n",
              "        3],\n",
              "       [list([36, 149, 25, 34, 30, 146, 24, 34, 34, 288, 162, 152, 27, 38, 32, 153, 40, 29, 146, 24, 30, 23, 40, 150, 28, 31, 161, 26, 159, 162, 33, 28, 32, 35, 40, 156, 35, 29, 32, 33, 37, 150, 160, 33, 33, 28, 35, 28, 28, 156, 36, 28, 154, 26, 20, 24, 21, 21, 30, 26, 32, 31, 160, 35, 21, 33, 147, 45, 23, 32, 145, 150, 161, 160, 20, 144, 44, 25, 30, 165, 39, 272, 36, 33, 30, 39, 32, 30, 28, 35, 26, 31, 36, 25, 27, 34, 38, 38, 32, 34, 34, 148, 169, 41, 27, 29, 31, 31, 31, 27, 161, 30, 25, 31, 26, 33, 33, 28, 150, 156, 28, 35, 141, 280, 30, 28, 21, 148, 285, 30, 17, 27, 23, 40, 24, 26, 143, 155, 25, 148, 30, 152, 28, 36, 34, 30, 25, 29, 150, 25, 150, 35, 29, 33, 35, 28, 42, 42, 165, 38, 43, 32, 29, 27, 22, 274, 29, 33, 29, 157, 34, 34, 27, 28, 36, 26, 42, 43, 21, 19, 154, 37, 33, 35, 26, 35, 39, 22, 19, 29, 38, 28, 157, 32, 39, 35, 31, 155, 28, 144, 31, 30, 43, 28, 155, 22, 35, 153, 47, 18, 27, 27, 32, 27, 33, 27, 30, 268, 30, 142, 21, 26, 33, 36, 27, 38, 29, 32, 24, 32, 148, 33, 29, 27, 29, 33, 35, 41, 30, 35, 163, 23, 154, 158, 30, 25, 149, 152, 34, 156, 35, 34, 35, 26, 26, 31]),\n",
              "        3],\n",
              "       [list([23, 25, 113, 20, 107, 14, 20, 16, 20, 16, 19, 116, 108, 19, 25, 102, 22, 27, 26, 27, 115, 17, 29, 24, 16, 24, 19, 21, 23, 25, 18, 26, 26, 20, 15, 15, 107, 15, 19, 20, 22, 26, 32, 33, 201, 29, 111, 23, 14, 22, 29, 27, 15, 116, 110, 26, 27, 14, 20, 24, 23, 19, 27, 23, 20, 16, 111, 21, 26, 18, 111, 29, 25, 20, 23, 27, 22, 21, 21, 23, 13, 114, 30, 26, 17, 23, 117, 26, 17, 25, 22, 203, 199, 25, 17, 22, 20, 23, 28, 103, 11, 21, 115, 29, 22, 22, 19, 22, 15, 21, 19, 20, 27, 115, 27, 15, 31, 22, 22, 13, 16, 23, 18, 14, 27, 208, 19, 15, 19, 26, 25, 110, 36, 106, 20, 24, 24, 204, 111, 15, 17, 109, 110, 109, 23, 12, 29, 29, 18, 37, 121, 21, 21, 37, 105, 17, 22, 23, 32, 104, 22, 19, 28, 21, 32, 118, 20, 115, 118, 21, 19, 24, 16, 21, 19, 23, 113, 13, 112, 98, 22, 19, 25, 18, 22, 30, 22, 16, 23, 32, 27, 198, 17, 15, 23, 17, 117, 17, 20, 22, 18, 25, 31, 115, 31, 18, 27, 22, 103, 104, 20, 29, 118, 22, 30, 111, 21, 25, 18, 22, 34, 20, 30, 22, 209, 16, 20, 115, 14, 21, 22, 25, 29, 25, 113, 110, 28, 20, 21, 109, 113, 23, 16, 29, 116, 16, 22, 109, 27, 108, 22, 201, 113, 25, 28, 97]),\n",
              "        3]], dtype=object)"
            ]
          },
          "metadata": {
            "tags": []
          },
          "execution_count": 13
        }
      ]
    },
    {
      "cell_type": "code",
      "metadata": {
        "id": "-0cY6Oigdx7C",
        "colab_type": "code",
        "colab": {}
      },
      "source": [
        "x = base_toda[:,0]"
      ],
      "execution_count": 14,
      "outputs": []
    },
    {
      "cell_type": "code",
      "metadata": {
        "id": "qo6ucZY5ov9P",
        "colab_type": "code",
        "colab": {}
      },
      "source": [
        "x = list(x)"
      ],
      "execution_count": 15,
      "outputs": []
    },
    {
      "cell_type": "code",
      "metadata": {
        "id": "0AIFCnufdyFz",
        "colab_type": "code",
        "colab": {}
      },
      "source": [
        "y = base_toda[:,1]"
      ],
      "execution_count": 16,
      "outputs": []
    },
    {
      "cell_type": "code",
      "metadata": {
        "id": "HMyp3CpfozuI",
        "colab_type": "code",
        "colab": {}
      },
      "source": [
        "y = list(y)"
      ],
      "execution_count": 17,
      "outputs": []
    },
    {
      "cell_type": "code",
      "metadata": {
        "id": "yknuMMYHSqh0",
        "colab_type": "code",
        "colab": {}
      },
      "source": [
        "from sklearn import preprocessing"
      ],
      "execution_count": 18,
      "outputs": []
    },
    {
      "cell_type": "markdown",
      "metadata": {
        "id": "9ItjoOkElseb",
        "colab_type": "text"
      },
      "source": [
        "Normalização dos vetores"
      ]
    },
    {
      "cell_type": "code",
      "metadata": {
        "id": "EV1YH_A3TOwb",
        "colab_type": "code",
        "colab": {}
      },
      "source": [
        "x_norm = preprocessing.normalize(x, norm='l2')"
      ],
      "execution_count": 19,
      "outputs": []
    },
    {
      "cell_type": "code",
      "metadata": {
        "id": "zJ4l7KwzlJu5",
        "colab_type": "code",
        "colab": {
          "base_uri": "https://localhost:8080/",
          "height": 238
        },
        "outputId": "1cfbf635-3c6f-4f2e-f731-7ae106d3cd1f"
      },
      "source": [
        "x_norm"
      ],
      "execution_count": 20,
      "outputs": [
        {
          "output_type": "execute_result",
          "data": {
            "text/plain": [
              "array([[0.02111885, 0.01206792, 0.0150849 , ..., 0.12067916, 0.02715281,\n",
              "        0.03922073],\n",
              "       [0.01380476, 0.03451191, 0.1104381 , ..., 0.02070714, 0.01725595,\n",
              "        0.03106072],\n",
              "       [0.02018057, 0.02461045, 0.03150137, ..., 0.02264161, 0.02461045,\n",
              "        0.11074702],\n",
              "       ...,\n",
              "       [0.01991875, 0.02226214, 0.01288861, ..., 0.02109045, 0.02109045,\n",
              "        0.01171691],\n",
              "       [0.02622343, 0.10853585, 0.01821071, ..., 0.01893914, 0.01893914,\n",
              "        0.02258128],\n",
              "       [0.02272168, 0.02469748, 0.11163261, ..., 0.02469748, 0.02766118,\n",
              "        0.09582623]])"
            ]
          },
          "metadata": {
            "tags": []
          },
          "execution_count": 20
        }
      ]
    },
    {
      "cell_type": "code",
      "metadata": {
        "id": "eBdeXMwOTsx5",
        "colab_type": "code",
        "colab": {}
      },
      "source": [
        "from sklearn.model_selection import train_test_split"
      ],
      "execution_count": 21,
      "outputs": []
    },
    {
      "cell_type": "code",
      "metadata": {
        "id": "xDLIJdp-d3_t",
        "colab_type": "code",
        "colab": {}
      },
      "source": [
        "x_train, x_test, y_train, y_test = train_test_split(x_norm, y, test_size=0.33) "
      ],
      "execution_count": 22,
      "outputs": []
    },
    {
      "cell_type": "code",
      "metadata": {
        "id": "HUP-_NbccBaC",
        "colab_type": "code",
        "colab": {}
      },
      "source": [
        "from sklearn.metrics import classification_report"
      ],
      "execution_count": 23,
      "outputs": []
    },
    {
      "cell_type": "markdown",
      "metadata": {
        "id": "e8wQ9yrZlx0-",
        "colab_type": "text"
      },
      "source": [
        "Naive Bayes"
      ]
    },
    {
      "cell_type": "code",
      "metadata": {
        "id": "BRty1pDRlzu9",
        "colab_type": "code",
        "colab": {}
      },
      "source": [
        "from sklearn.naive_bayes import ComplementNB\n",
        "from sklearn.naive_bayes import BernoulliNB\n",
        "from sklearn.naive_bayes import CategoricalNB\n",
        "from sklearn.naive_bayes import GaussianNB\n",
        "from sklearn.naive_bayes import MultinomialNB"
      ],
      "execution_count": 24,
      "outputs": []
    },
    {
      "cell_type": "code",
      "metadata": {
        "id": "7dHURh6Zmbkj",
        "colab_type": "code",
        "colab": {}
      },
      "source": [
        "clf_CNB = ComplementNB()\n",
        "clf_BNB = BernoulliNB()\n",
        "clf_CaNB = CategoricalNB()\n",
        "clf_GNB = GaussianNB()\n",
        "clf_MNB = MultinomialNB()"
      ],
      "execution_count": 25,
      "outputs": []
    },
    {
      "cell_type": "code",
      "metadata": {
        "id": "5_LXtYxSmpx3",
        "colab_type": "code",
        "colab": {
          "base_uri": "https://localhost:8080/",
          "height": 34
        },
        "outputId": "756105bd-f499-46b8-db1d-74d7881935e8"
      },
      "source": [
        "clf_CNB.fit(x_train, y_train)\n",
        "clf_BNB.fit(x_train, y_train)\n",
        "clf_CaNB.fit(x_train, y_train)\n",
        "clf_GNB.fit(x_train, y_train)\n",
        "clf_MNB.fit(x_train, y_train)"
      ],
      "execution_count": 26,
      "outputs": [
        {
          "output_type": "execute_result",
          "data": {
            "text/plain": [
              "MultinomialNB(alpha=1.0, class_prior=None, fit_prior=True)"
            ]
          },
          "metadata": {
            "tags": []
          },
          "execution_count": 26
        }
      ]
    },
    {
      "cell_type": "code",
      "metadata": {
        "id": "C-2Zl4WffCLA",
        "colab_type": "code",
        "colab": {}
      },
      "source": [
        "predição_CNB = clf_CNB.predict(x_test)\n",
        "predição_BNB = clf_CNB.predict(x_test)\n",
        "predição_CaNB = clf_CNB.predict(x_test)\n",
        "predição_MNB = clf_CNB.predict(x_test)\n",
        "predição_GNB = clf_GNB.predict(x_norm)"
      ],
      "execution_count": 32,
      "outputs": []
    },
    {
      "cell_type": "code",
      "metadata": {
        "id": "_xgtwhuEcRwR",
        "colab_type": "code",
        "colab": {
          "base_uri": "https://localhost:8080/",
          "height": 170
        },
        "outputId": "1273dbc0-5932-4af9-ebcc-3ee07440e7db"
      },
      "source": [
        "print (classification_report(y_test, predição_CNB))"
      ],
      "execution_count": 34,
      "outputs": [
        {
          "output_type": "stream",
          "text": [
            "              precision    recall  f1-score   support\n",
            "\n",
            "           0       0.50      0.50      0.50     10050\n",
            "           3       0.49      0.49      0.49      9935\n",
            "\n",
            "    accuracy                           0.50     19985\n",
            "   macro avg       0.50      0.50      0.50     19985\n",
            "weighted avg       0.50      0.50      0.50     19985\n",
            "\n"
          ],
          "name": "stdout"
        }
      ]
    },
    {
      "cell_type": "code",
      "metadata": {
        "id": "txqftI0kGJci",
        "colab_type": "code",
        "colab": {
          "base_uri": "https://localhost:8080/",
          "height": 170
        },
        "outputId": "26ca131f-482c-408f-d1e1-e7877dbe57ac"
      },
      "source": [
        "print (classification_report(y_test, predição_BNB))"
      ],
      "execution_count": 35,
      "outputs": [
        {
          "output_type": "stream",
          "text": [
            "              precision    recall  f1-score   support\n",
            "\n",
            "           0       0.50      0.50      0.50     10050\n",
            "           3       0.49      0.49      0.49      9935\n",
            "\n",
            "    accuracy                           0.50     19985\n",
            "   macro avg       0.50      0.50      0.50     19985\n",
            "weighted avg       0.50      0.50      0.50     19985\n",
            "\n"
          ],
          "name": "stdout"
        }
      ]
    },
    {
      "cell_type": "code",
      "metadata": {
        "id": "IjudFsukVtLG",
        "colab_type": "code",
        "colab": {
          "base_uri": "https://localhost:8080/",
          "height": 170
        },
        "outputId": "ee990740-8076-4d25-86a6-9655bf43d7e9"
      },
      "source": [
        "print (classification_report(y_test, predição_CaNB))"
      ],
      "execution_count": 36,
      "outputs": [
        {
          "output_type": "stream",
          "text": [
            "              precision    recall  f1-score   support\n",
            "\n",
            "           0       0.50      0.50      0.50     10050\n",
            "           3       0.49      0.49      0.49      9935\n",
            "\n",
            "    accuracy                           0.50     19985\n",
            "   macro avg       0.50      0.50      0.50     19985\n",
            "weighted avg       0.50      0.50      0.50     19985\n",
            "\n"
          ],
          "name": "stdout"
        }
      ]
    },
    {
      "cell_type": "code",
      "metadata": {
        "id": "feBcck1wVyF-",
        "colab_type": "code",
        "colab": {}
      },
      "source": [
        "print (classification_report(y_test, predição_GNB))"
      ],
      "execution_count": null,
      "outputs": []
    },
    {
      "cell_type": "code",
      "metadata": {
        "id": "HWgDPeKdV1tJ",
        "colab_type": "code",
        "colab": {
          "base_uri": "https://localhost:8080/",
          "height": 170
        },
        "outputId": "1be08af1-311c-4e14-8013-d1c2761a8c4c"
      },
      "source": [
        "print (classification_report(y_test, predição_MNB))"
      ],
      "execution_count": 39,
      "outputs": [
        {
          "output_type": "stream",
          "text": [
            "              precision    recall  f1-score   support\n",
            "\n",
            "           0       0.50      0.50      0.50     10050\n",
            "           3       0.49      0.49      0.49      9935\n",
            "\n",
            "    accuracy                           0.50     19985\n",
            "   macro avg       0.50      0.50      0.50     19985\n",
            "weighted avg       0.50      0.50      0.50     19985\n",
            "\n"
          ],
          "name": "stdout"
        }
      ]
    },
    {
      "cell_type": "markdown",
      "metadata": {
        "id": "3JT0wQvsl1ty",
        "colab_type": "text"
      },
      "source": [
        "Árvore de Decisão"
      ]
    },
    {
      "cell_type": "code",
      "metadata": {
        "id": "5udvKLY9cXLi",
        "colab_type": "code",
        "colab": {}
      },
      "source": [
        "from sklearn import tree"
      ],
      "execution_count": 40,
      "outputs": []
    },
    {
      "cell_type": "code",
      "metadata": {
        "id": "_u_MbSDzhaee",
        "colab_type": "code",
        "colab": {}
      },
      "source": [
        "clf_tree = tree.DecisionTreeClassifier()"
      ],
      "execution_count": 41,
      "outputs": []
    },
    {
      "cell_type": "code",
      "metadata": {
        "id": "7-sfE6daheVg",
        "colab_type": "code",
        "colab": {}
      },
      "source": [
        "clf_tree = clf_tree.fit(x_train, y_train)"
      ],
      "execution_count": 42,
      "outputs": []
    },
    {
      "cell_type": "code",
      "metadata": {
        "id": "f0yco9lPhlv0",
        "colab_type": "code",
        "colab": {}
      },
      "source": [
        "predição_tree = clf_tree.predict(x_test)"
      ],
      "execution_count": 43,
      "outputs": []
    },
    {
      "cell_type": "code",
      "metadata": {
        "id": "S-eEq7aSh67V",
        "colab_type": "code",
        "colab": {
          "base_uri": "https://localhost:8080/",
          "height": 170
        },
        "outputId": "76d7ad34-33d7-4d8a-82d2-ceb4009d638e"
      },
      "source": [
        "print (classification_report(y_test, predição_tree))"
      ],
      "execution_count": 44,
      "outputs": [
        {
          "output_type": "stream",
          "text": [
            "              precision    recall  f1-score   support\n",
            "\n",
            "           0       0.50      0.50      0.50     10050\n",
            "           3       0.50      0.50      0.50      9935\n",
            "\n",
            "    accuracy                           0.50     19985\n",
            "   macro avg       0.50      0.50      0.50     19985\n",
            "weighted avg       0.50      0.50      0.50     19985\n",
            "\n"
          ],
          "name": "stdout"
        }
      ]
    },
    {
      "cell_type": "code",
      "metadata": {
        "id": "CGY6AWmYPPKw",
        "colab_type": "code",
        "colab": {
          "base_uri": "https://localhost:8080/",
          "height": 34
        },
        "outputId": "bdf22521-5565-4229-84c7-ad74551e0968"
      },
      "source": [
        "clf_tree.get_n_leaves()"
      ],
      "execution_count": 45,
      "outputs": [
        {
          "output_type": "execute_result",
          "data": {
            "text/plain": [
              "4901"
            ]
          },
          "metadata": {
            "tags": []
          },
          "execution_count": 45
        }
      ]
    },
    {
      "cell_type": "markdown",
      "metadata": {
        "id": "Fbvdhc8Ol6AE",
        "colab_type": "text"
      },
      "source": [
        "Métodos Ensemble"
      ]
    },
    {
      "cell_type": "code",
      "metadata": {
        "id": "RmyF4cOSh-mm",
        "colab_type": "code",
        "colab": {}
      },
      "source": [
        "from sklearn.ensemble import RandomForestClassifier\n",
        "from sklearn.ensemble import AdaBoostClassifier"
      ],
      "execution_count": 46,
      "outputs": []
    },
    {
      "cell_type": "code",
      "metadata": {
        "id": "OYkZ2Rj-iKV1",
        "colab_type": "code",
        "colab": {}
      },
      "source": [
        "clf_random = RandomForestClassifier(n_estimators=100)\n",
        "clf_ada = AdaBoostClassifier(n_estimators=100)"
      ],
      "execution_count": 47,
      "outputs": []
    },
    {
      "cell_type": "code",
      "metadata": {
        "id": "sjGrmAbmire2",
        "colab_type": "code",
        "colab": {}
      },
      "source": [
        "clf_random = clf_random.fit(x_train, y_train)\n",
        "clf_ada = clf_ada.fit(x_train,y_train)"
      ],
      "execution_count": 48,
      "outputs": []
    },
    {
      "cell_type": "code",
      "metadata": {
        "id": "hWAj6ebci2AV",
        "colab_type": "code",
        "colab": {}
      },
      "source": [
        "predição_random = clf_random.predict(x_test)\n",
        "predição_ada = clf_ada.predict(x_test)\n"
      ],
      "execution_count": 49,
      "outputs": []
    },
    {
      "cell_type": "code",
      "metadata": {
        "id": "wHB_JH7pi9OV",
        "colab_type": "code",
        "colab": {
          "base_uri": "https://localhost:8080/",
          "height": 170
        },
        "outputId": "3a7b9069-7bf2-452a-af30-95d4fe80ddf3"
      },
      "source": [
        "print (classification_report(y_test, predição_random))"
      ],
      "execution_count": 50,
      "outputs": [
        {
          "output_type": "stream",
          "text": [
            "              precision    recall  f1-score   support\n",
            "\n",
            "           0       0.50      0.52      0.51     10050\n",
            "           3       0.50      0.47      0.49      9935\n",
            "\n",
            "    accuracy                           0.50     19985\n",
            "   macro avg       0.50      0.50      0.50     19985\n",
            "weighted avg       0.50      0.50      0.50     19985\n",
            "\n"
          ],
          "name": "stdout"
        }
      ]
    },
    {
      "cell_type": "code",
      "metadata": {
        "id": "ARCHTnd4GmTg",
        "colab_type": "code",
        "colab": {
          "base_uri": "https://localhost:8080/",
          "height": 170
        },
        "outputId": "74e1c0bb-63a6-4663-fdac-0fbaa8e2df92"
      },
      "source": [
        "print (classification_report(y_test, predição_ada))"
      ],
      "execution_count": 51,
      "outputs": [
        {
          "output_type": "stream",
          "text": [
            "              precision    recall  f1-score   support\n",
            "\n",
            "           0       0.50      0.50      0.50     10050\n",
            "           3       0.50      0.51      0.50      9935\n",
            "\n",
            "    accuracy                           0.50     19985\n",
            "   macro avg       0.50      0.50      0.50     19985\n",
            "weighted avg       0.50      0.50      0.50     19985\n",
            "\n"
          ],
          "name": "stdout"
        }
      ]
    },
    {
      "cell_type": "markdown",
      "metadata": {
        "id": "VK7HdDZomFN3",
        "colab_type": "text"
      },
      "source": [
        "Rotation Forest"
      ]
    },
    {
      "cell_type": "code",
      "metadata": {
        "id": "-FW_Djnvtrjk",
        "colab_type": "code",
        "colab": {
          "base_uri": "https://localhost:8080/",
          "height": 153
        },
        "outputId": "9c80982e-3b0e-435a-b5ef-cd054f4a56f9"
      },
      "source": [
        "pip install rotation-forest"
      ],
      "execution_count": 52,
      "outputs": [
        {
          "output_type": "stream",
          "text": [
            "Collecting rotation-forest\n",
            "  Downloading https://files.pythonhosted.org/packages/3e/70/83b4776a92f9442819538c3fc3bdb1e240af43a17b2592bfe8574d32ce02/rotation_forest-0.4-py3-none-any.whl\n",
            "Requirement already satisfied: numpy in /usr/local/lib/python3.6/dist-packages (from rotation-forest) (1.18.5)\n",
            "Requirement already satisfied: scipy in /usr/local/lib/python3.6/dist-packages (from rotation-forest) (1.4.1)\n",
            "Requirement already satisfied: scikit-learn in /usr/local/lib/python3.6/dist-packages (from rotation-forest) (0.22.2.post1)\n",
            "Requirement already satisfied: joblib>=0.11 in /usr/local/lib/python3.6/dist-packages (from scikit-learn->rotation-forest) (0.16.0)\n",
            "Installing collected packages: rotation-forest\n",
            "Successfully installed rotation-forest-0.4\n"
          ],
          "name": "stdout"
        }
      ]
    },
    {
      "cell_type": "code",
      "metadata": {
        "id": "bTootgQtzoeQ",
        "colab_type": "code",
        "colab": {}
      },
      "source": [
        "from rotation_forest import RotationForestClassifier"
      ],
      "execution_count": 53,
      "outputs": []
    },
    {
      "cell_type": "code",
      "metadata": {
        "id": "DTg1kZjZzMtY",
        "colab_type": "code",
        "colab": {}
      },
      "source": [
        "clf_rot = RotationForestClassifier()"
      ],
      "execution_count": 54,
      "outputs": []
    },
    {
      "cell_type": "code",
      "metadata": {
        "id": "mdNVY8Phz_KD",
        "colab_type": "code",
        "colab": {}
      },
      "source": [
        "x_array = np.array(x_norm)"
      ],
      "execution_count": 55,
      "outputs": []
    },
    {
      "cell_type": "code",
      "metadata": {
        "id": "wdrW6Cnt0Euq",
        "colab_type": "code",
        "colab": {}
      },
      "source": [
        "y_array = np.array(y)"
      ],
      "execution_count": 56,
      "outputs": []
    },
    {
      "cell_type": "code",
      "metadata": {
        "id": "nLxjhke-0McH",
        "colab_type": "code",
        "colab": {}
      },
      "source": [
        "x_train_array, x_test_array, y_train_array, y_test_array = train_test_split(x_array, y_array, test_size=0.33) "
      ],
      "execution_count": 57,
      "outputs": []
    },
    {
      "cell_type": "code",
      "metadata": {
        "id": "E-Kok3JRzcyG",
        "colab_type": "code",
        "colab": {
          "base_uri": "https://localhost:8080/",
          "height": 377
        },
        "outputId": "d514f518-33ef-4c49-b81c-f935a9ba4e84"
      },
      "source": [
        "clf_rot = clf_rot.fit(x_train_array,y_train_array)"
      ],
      "execution_count": 58,
      "outputs": [
        {
          "output_type": "stream",
          "text": [
            "/usr/local/lib/python3.6/dist-packages/sklearn/tree/_classes.py:319: FutureWarning: The parameter 'presort' is deprecated and has no effect. It will be removed in v0.24. You can suppress this warning by not passing any value to the 'presort' parameter.\n",
            "  FutureWarning)\n",
            "/usr/local/lib/python3.6/dist-packages/sklearn/tree/_classes.py:319: FutureWarning: The parameter 'presort' is deprecated and has no effect. It will be removed in v0.24. You can suppress this warning by not passing any value to the 'presort' parameter.\n",
            "  FutureWarning)\n",
            "/usr/local/lib/python3.6/dist-packages/sklearn/tree/_classes.py:319: FutureWarning: The parameter 'presort' is deprecated and has no effect. It will be removed in v0.24. You can suppress this warning by not passing any value to the 'presort' parameter.\n",
            "  FutureWarning)\n",
            "/usr/local/lib/python3.6/dist-packages/sklearn/tree/_classes.py:319: FutureWarning: The parameter 'presort' is deprecated and has no effect. It will be removed in v0.24. You can suppress this warning by not passing any value to the 'presort' parameter.\n",
            "  FutureWarning)\n",
            "/usr/local/lib/python3.6/dist-packages/sklearn/tree/_classes.py:319: FutureWarning: The parameter 'presort' is deprecated and has no effect. It will be removed in v0.24. You can suppress this warning by not passing any value to the 'presort' parameter.\n",
            "  FutureWarning)\n",
            "/usr/local/lib/python3.6/dist-packages/sklearn/tree/_classes.py:319: FutureWarning: The parameter 'presort' is deprecated and has no effect. It will be removed in v0.24. You can suppress this warning by not passing any value to the 'presort' parameter.\n",
            "  FutureWarning)\n",
            "/usr/local/lib/python3.6/dist-packages/sklearn/tree/_classes.py:319: FutureWarning: The parameter 'presort' is deprecated and has no effect. It will be removed in v0.24. You can suppress this warning by not passing any value to the 'presort' parameter.\n",
            "  FutureWarning)\n",
            "/usr/local/lib/python3.6/dist-packages/sklearn/tree/_classes.py:319: FutureWarning: The parameter 'presort' is deprecated and has no effect. It will be removed in v0.24. You can suppress this warning by not passing any value to the 'presort' parameter.\n",
            "  FutureWarning)\n",
            "/usr/local/lib/python3.6/dist-packages/sklearn/tree/_classes.py:319: FutureWarning: The parameter 'presort' is deprecated and has no effect. It will be removed in v0.24. You can suppress this warning by not passing any value to the 'presort' parameter.\n",
            "  FutureWarning)\n",
            "/usr/local/lib/python3.6/dist-packages/sklearn/tree/_classes.py:319: FutureWarning: The parameter 'presort' is deprecated and has no effect. It will be removed in v0.24. You can suppress this warning by not passing any value to the 'presort' parameter.\n",
            "  FutureWarning)\n"
          ],
          "name": "stderr"
        }
      ]
    },
    {
      "cell_type": "code",
      "metadata": {
        "id": "NJQofQkBzygX",
        "colab_type": "code",
        "colab": {}
      },
      "source": [
        "predição_rot = clf_rot.predict(x_test_array)"
      ],
      "execution_count": 59,
      "outputs": []
    },
    {
      "cell_type": "code",
      "metadata": {
        "id": "ozoNmTxV0rQI",
        "colab_type": "code",
        "colab": {
          "base_uri": "https://localhost:8080/",
          "height": 170
        },
        "outputId": "47b98559-b3cf-4e30-b68f-2823e86331ae"
      },
      "source": [
        "print (classification_report(y_test, predição_rot))"
      ],
      "execution_count": 60,
      "outputs": [
        {
          "output_type": "stream",
          "text": [
            "              precision    recall  f1-score   support\n",
            "\n",
            "           0       0.51      0.52      0.51     10050\n",
            "           3       0.50      0.48      0.49      9935\n",
            "\n",
            "    accuracy                           0.50     19985\n",
            "   macro avg       0.50      0.50      0.50     19985\n",
            "weighted avg       0.50      0.50      0.50     19985\n",
            "\n"
          ],
          "name": "stdout"
        }
      ]
    },
    {
      "cell_type": "markdown",
      "metadata": {
        "id": "lYOiS1ejmJUQ",
        "colab_type": "text"
      },
      "source": [
        "SVM - rbf (exponencial)"
      ]
    },
    {
      "cell_type": "code",
      "metadata": {
        "id": "nRxuTghV__Gu",
        "colab_type": "code",
        "colab": {}
      },
      "source": [
        "from sklearn import svm"
      ],
      "execution_count": 61,
      "outputs": []
    },
    {
      "cell_type": "code",
      "metadata": {
        "id": "Ta7t1xudAytM",
        "colab_type": "code",
        "colab": {}
      },
      "source": [
        "clf_svm_rbf = svm.SVC()"
      ],
      "execution_count": 62,
      "outputs": []
    },
    {
      "cell_type": "code",
      "metadata": {
        "id": "aQLnX-lRA3Xk",
        "colab_type": "code",
        "colab": {}
      },
      "source": [
        "clf_svm_rbf = clf_svm_rbf.fit(x_train,y_train)"
      ],
      "execution_count": 63,
      "outputs": []
    },
    {
      "cell_type": "code",
      "metadata": {
        "id": "3aHnEQFJA_AE",
        "colab_type": "code",
        "colab": {}
      },
      "source": [
        "predição_svm_rbf = clf_svm_rbf.predict(x_test)"
      ],
      "execution_count": 64,
      "outputs": []
    },
    {
      "cell_type": "code",
      "metadata": {
        "id": "Tj5IpisHBFoZ",
        "colab_type": "code",
        "colab": {
          "base_uri": "https://localhost:8080/",
          "height": 170
        },
        "outputId": "b48c13ba-c9d2-4a53-caee-2c8bc583a0dd"
      },
      "source": [
        "print (classification_report(y_test, predição_svm_rbf))"
      ],
      "execution_count": 65,
      "outputs": [
        {
          "output_type": "stream",
          "text": [
            "              precision    recall  f1-score   support\n",
            "\n",
            "           0       0.50      0.50      0.50     10050\n",
            "           3       0.50      0.50      0.50      9935\n",
            "\n",
            "    accuracy                           0.50     19985\n",
            "   macro avg       0.50      0.50      0.50     19985\n",
            "weighted avg       0.50      0.50      0.50     19985\n",
            "\n"
          ],
          "name": "stdout"
        }
      ]
    },
    {
      "cell_type": "markdown",
      "metadata": {
        "id": "4rsbZ_ajb5qW",
        "colab_type": "text"
      },
      "source": [
        "SVM Linear"
      ]
    },
    {
      "cell_type": "code",
      "metadata": {
        "id": "jsWAEwJ_Zw1a",
        "colab_type": "code",
        "colab": {}
      },
      "source": [
        "clf_svm_lin = svm.SVC(kernel='linear')"
      ],
      "execution_count": 66,
      "outputs": []
    },
    {
      "cell_type": "code",
      "metadata": {
        "id": "azp69Mt7RDSV",
        "colab_type": "code",
        "colab": {}
      },
      "source": [
        "clf_svm_lin = clf_svm_lin.fit(x_train,y_train)"
      ],
      "execution_count": 67,
      "outputs": []
    },
    {
      "cell_type": "code",
      "metadata": {
        "id": "pSjWETh9betb",
        "colab_type": "code",
        "colab": {}
      },
      "source": [
        "predição_svm_lin = clf_svm_lin.predict(x_test)"
      ],
      "execution_count": 68,
      "outputs": []
    },
    {
      "cell_type": "code",
      "metadata": {
        "id": "UZWQ5_vzbosR",
        "colab_type": "code",
        "colab": {
          "base_uri": "https://localhost:8080/",
          "height": 170
        },
        "outputId": "2409896b-d3ea-4a6a-bcb4-b2712717d7eb"
      },
      "source": [
        "print (classification_report(y_test, predição_svm_lin))"
      ],
      "execution_count": 69,
      "outputs": [
        {
          "output_type": "stream",
          "text": [
            "              precision    recall  f1-score   support\n",
            "\n",
            "           0       0.50      0.48      0.49     10050\n",
            "           3       0.49      0.51      0.50      9935\n",
            "\n",
            "    accuracy                           0.49     19985\n",
            "   macro avg       0.49      0.49      0.49     19985\n",
            "weighted avg       0.49      0.49      0.49     19985\n",
            "\n"
          ],
          "name": "stdout"
        }
      ]
    },
    {
      "cell_type": "markdown",
      "metadata": {
        "id": "I6CPtzocb9Cm",
        "colab_type": "text"
      },
      "source": [
        "SVM Polinomial"
      ]
    },
    {
      "cell_type": "code",
      "metadata": {
        "id": "JgWcN33hcBXW",
        "colab_type": "code",
        "colab": {}
      },
      "source": [
        "clf_svm_pol = svm.SVC(kernel='poly')"
      ],
      "execution_count": 70,
      "outputs": []
    },
    {
      "cell_type": "code",
      "metadata": {
        "id": "kj3ONDKGcEZX",
        "colab_type": "code",
        "colab": {}
      },
      "source": [
        "clf_svm_pol = clf_svm_pol.fit(x_train,y_train)"
      ],
      "execution_count": null,
      "outputs": []
    },
    {
      "cell_type": "code",
      "metadata": {
        "id": "qIfCRJLQcK2B",
        "colab_type": "code",
        "colab": {}
      },
      "source": [
        "predição_svm_pol = clf_svm_pol.predict(x_test)"
      ],
      "execution_count": null,
      "outputs": []
    },
    {
      "cell_type": "code",
      "metadata": {
        "id": "REMief3dcSYs",
        "colab_type": "code",
        "colab": {}
      },
      "source": [
        "print (classification_report(y_test, predição_svm_pol))"
      ],
      "execution_count": null,
      "outputs": []
    },
    {
      "cell_type": "markdown",
      "metadata": {
        "id": "vBL3ztDViAbz",
        "colab_type": "text"
      },
      "source": [
        "Perceptron"
      ]
    },
    {
      "cell_type": "code",
      "metadata": {
        "id": "BmoMGeQphy_u",
        "colab_type": "code",
        "colab": {}
      },
      "source": [
        "from sklearn.linear_model import Perceptron"
      ],
      "execution_count": null,
      "outputs": []
    },
    {
      "cell_type": "code",
      "metadata": {
        "id": "4JvuFXZuiD_S",
        "colab_type": "code",
        "colab": {}
      },
      "source": [
        "clf_perc = Perceptron(tol=1e-3, random_state=0)"
      ],
      "execution_count": null,
      "outputs": []
    },
    {
      "cell_type": "code",
      "metadata": {
        "id": "40YvZ-cGiK2F",
        "colab_type": "code",
        "colab": {}
      },
      "source": [
        "clf_perc = clf_perc.fit(x_train,y_train)"
      ],
      "execution_count": null,
      "outputs": []
    },
    {
      "cell_type": "code",
      "metadata": {
        "id": "JI8F_RNFicE1",
        "colab_type": "code",
        "colab": {}
      },
      "source": [
        "predição_perc = clf_perc.predict(x_test)"
      ],
      "execution_count": null,
      "outputs": []
    },
    {
      "cell_type": "code",
      "metadata": {
        "id": "hmmeKSFqihcL",
        "colab_type": "code",
        "colab": {}
      },
      "source": [
        "print (classification_report(y_test, predição_perc))"
      ],
      "execution_count": null,
      "outputs": []
    },
    {
      "cell_type": "code",
      "metadata": {
        "id": "i9B6M149Xlzd",
        "colab_type": "code",
        "colab": {}
      },
      "source": [
        ""
      ],
      "execution_count": null,
      "outputs": []
    }
  ]
}
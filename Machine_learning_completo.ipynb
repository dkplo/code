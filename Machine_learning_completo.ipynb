{
  "nbformat": 4,
  "nbformat_minor": 0,
  "metadata": {
    "colab": {
      "name": "Machine_learning_completo.ipynb",
      "provenance": [],
      "collapsed_sections": [],
      "include_colab_link": true
    },
    "kernelspec": {
      "name": "python3",
      "display_name": "Python 3"
    }
  },
  "cells": [
    {
      "cell_type": "markdown",
      "metadata": {
        "id": "view-in-github",
        "colab_type": "text"
      },
      "source": [
        "<a href=\"https://colab.research.google.com/github/dkplo/code/blob/master/Machine_learning_completo.ipynb\" target=\"_parent\"><img src=\"https://colab.research.google.com/assets/colab-badge.svg\" alt=\"Open In Colab\"/></a>"
      ]
    },
    {
      "cell_type": "code",
      "metadata": {
        "id": "uWuZ3il6M-2h",
        "colab_type": "code",
        "colab": {
          "base_uri": "https://localhost:8080/",
          "height": 255
        },
        "outputId": "727df4b7-9c9b-4469-996e-145a5ccfb347"
      },
      "source": [
        "pip install PyDrive"
      ],
      "execution_count": 1,
      "outputs": [
        {
          "output_type": "stream",
          "text": [
            "Requirement already satisfied: PyDrive in /usr/local/lib/python3.6/dist-packages (1.3.1)\n",
            "Requirement already satisfied: oauth2client>=4.0.0 in /usr/local/lib/python3.6/dist-packages (from PyDrive) (4.1.3)\n",
            "Requirement already satisfied: PyYAML>=3.0 in /usr/local/lib/python3.6/dist-packages (from PyDrive) (3.13)\n",
            "Requirement already satisfied: google-api-python-client>=1.2 in /usr/local/lib/python3.6/dist-packages (from PyDrive) (1.7.12)\n",
            "Requirement already satisfied: httplib2>=0.9.1 in /usr/local/lib/python3.6/dist-packages (from oauth2client>=4.0.0->PyDrive) (0.17.4)\n",
            "Requirement already satisfied: pyasn1-modules>=0.0.5 in /usr/local/lib/python3.6/dist-packages (from oauth2client>=4.0.0->PyDrive) (0.2.8)\n",
            "Requirement already satisfied: rsa>=3.1.4 in /usr/local/lib/python3.6/dist-packages (from oauth2client>=4.0.0->PyDrive) (4.6)\n",
            "Requirement already satisfied: pyasn1>=0.1.7 in /usr/local/lib/python3.6/dist-packages (from oauth2client>=4.0.0->PyDrive) (0.4.8)\n",
            "Requirement already satisfied: six>=1.6.1 in /usr/local/lib/python3.6/dist-packages (from oauth2client>=4.0.0->PyDrive) (1.15.0)\n",
            "Requirement already satisfied: google-auth>=1.4.1 in /usr/local/lib/python3.6/dist-packages (from google-api-python-client>=1.2->PyDrive) (1.17.2)\n",
            "Requirement already satisfied: uritemplate<4dev,>=3.0.0 in /usr/local/lib/python3.6/dist-packages (from google-api-python-client>=1.2->PyDrive) (3.0.1)\n",
            "Requirement already satisfied: google-auth-httplib2>=0.0.3 in /usr/local/lib/python3.6/dist-packages (from google-api-python-client>=1.2->PyDrive) (0.0.4)\n",
            "Requirement already satisfied: cachetools<5.0,>=2.0.0 in /usr/local/lib/python3.6/dist-packages (from google-auth>=1.4.1->google-api-python-client>=1.2->PyDrive) (4.1.1)\n",
            "Requirement already satisfied: setuptools>=40.3.0 in /usr/local/lib/python3.6/dist-packages (from google-auth>=1.4.1->google-api-python-client>=1.2->PyDrive) (49.2.0)\n"
          ],
          "name": "stdout"
        }
      ]
    },
    {
      "cell_type": "code",
      "metadata": {
        "id": "dpcU8Fr5NNbZ",
        "colab_type": "code",
        "colab": {}
      },
      "source": [
        "from pydrive.auth import GoogleAuth\n",
        "from pydrive.drive import GoogleDrive\n",
        "from google.colab import auth\n",
        "from oauth2client.client import GoogleCredentials "
      ],
      "execution_count": 2,
      "outputs": []
    },
    {
      "cell_type": "code",
      "metadata": {
        "id": "5YP5UAYBNP_o",
        "colab_type": "code",
        "colab": {}
      },
      "source": [
        "auth.authenticate_user()\n",
        "gauth = GoogleAuth()\n",
        "gauth.credentials = GoogleCredentials.get_application_default()\n",
        "drive = GoogleDrive(gauth)"
      ],
      "execution_count": 3,
      "outputs": []
    },
    {
      "cell_type": "code",
      "metadata": {
        "id": "qsyteMudSzaM",
        "colab_type": "code",
        "colab": {}
      },
      "source": [
        "import numpy as np"
      ],
      "execution_count": 4,
      "outputs": []
    },
    {
      "cell_type": "code",
      "metadata": {
        "id": "p7Cky1iVVU56",
        "colab_type": "code",
        "colab": {}
      },
      "source": [
        "downloaded_rsa = drive.CreateFile({'id':\"1Iy34pabJlILlAk9342dXRtu2HE9TJ4gf\"})\n",
        "downloaded_rsa.GetContentFile('vetor_rsa_numpy_13_08_20.npy')\n",
        "downloaded_elgamal = drive.CreateFile({'id':\"1bGS6V7qAw_YCPNYkCtXbrI7_7mfWXo7M\"})\n",
        "downloaded_elgamal.GetContentFile('vetor_elgamal_numpy_13_08_20.npy')\n",
        "downloaded_ec = drive.CreateFile({'id':\"1twaw-eopcLHDcVt-M_qOzfI5J8bKpuhc\"})\n",
        "downloaded_ec.GetContentFile('vetor_ec_numpy_13_08_20.npy')"
      ],
      "execution_count": 5,
      "outputs": []
    },
    {
      "cell_type": "code",
      "metadata": {
        "id": "wlOwnXZJEaNH",
        "colab_type": "code",
        "colab": {}
      },
      "source": [
        "downloaded_rsa_2 = drive.CreateFile({'id':\"1K_4CGsqNIBGcegS53BJ-hPTTxnLRq2ec\"}) \n",
        "downloaded_rsa_2.GetContentFile('vetor_rsa_numpy_15_08_20.npy')\n",
        "downloaded_elgamal_2 = drive.CreateFile({'id':\"1Uz8G5v0iS6EOOI2AKbsV6oflqKvhi1jd\"})\n",
        "downloaded_elgamal_2.GetContentFile('vetor_elgamal_numpy_15_08_20.npy')\n",
        "downloaded_ec_2 = drive.CreateFile({'id':\"1p2O3nzUo1W7pCxIxuy_GyfncwMPJdaih\"})\n",
        "downloaded_ec_2.GetContentFile('vetor_ec_numpy_15_08_20.npy')"
      ],
      "execution_count": 6,
      "outputs": []
    },
    {
      "cell_type": "code",
      "metadata": {
        "id": "7cqb0syAXQxM",
        "colab_type": "code",
        "colab": {
          "base_uri": "https://localhost:8080/",
          "height": 85
        },
        "outputId": "e5675c03-bd53-40d0-9a3c-b2dead10aaf2"
      },
      "source": [
        "!ls"
      ],
      "execution_count": 7,
      "outputs": [
        {
          "output_type": "stream",
          "text": [
            "adc.json\t\t     vetor_elgamal_numpy_13_08_20.npy\n",
            "sample_data\t\t     vetor_elgamal_numpy_15_08_20.npy\n",
            "vetor_ec_numpy_13_08_20.npy  vetor_rsa_numpy_13_08_20.npy\n",
            "vetor_ec_numpy_15_08_20.npy  vetor_rsa_numpy_15_08_20.npy\n"
          ],
          "name": "stdout"
        }
      ]
    },
    {
      "cell_type": "code",
      "metadata": {
        "id": "HRHgWXg7NRsY",
        "colab_type": "code",
        "colab": {}
      },
      "source": [
        "from numpy import load"
      ],
      "execution_count": 8,
      "outputs": []
    },
    {
      "cell_type": "code",
      "metadata": {
        "id": "x1Y3yR8LRkBk",
        "colab_type": "code",
        "colab": {}
      },
      "source": [
        "rsa = np.load('vetor_rsa_numpy_13_08_20.npy', allow_pickle=True)\n",
        "rsa_2 = np.load('vetor_rsa_numpy_15_08_20.npy', allow_pickle=True)"
      ],
      "execution_count": 9,
      "outputs": []
    },
    {
      "cell_type": "code",
      "metadata": {
        "id": "R65BLqoBUN0k",
        "colab_type": "code",
        "colab": {}
      },
      "source": [
        "elgamal = np.load('vetor_elgamal_numpy_13_08_20.npy', allow_pickle=True)\n",
        "elgamal_2 = np.load('vetor_elgamal_numpy_15_08_20.npy', allow_pickle=True)"
      ],
      "execution_count": 10,
      "outputs": []
    },
    {
      "cell_type": "code",
      "metadata": {
        "id": "6BG2wlBTUPj_",
        "colab_type": "code",
        "colab": {}
      },
      "source": [
        "ec = np.load('vetor_ec_numpy_13_08_20.npy',allow_pickle=True)\n",
        "ec_2 = np.load('vetor_ec_numpy_13_08_20.npy',allow_pickle=True)"
      ],
      "execution_count": 11,
      "outputs": []
    },
    {
      "cell_type": "code",
      "metadata": {
        "id": "3iGLS-k0Sxq_",
        "colab_type": "code",
        "colab": {}
      },
      "source": [
        "base_toda = np.concatenate((rsa,elgamal,ec), axis=0)\n",
        "base_toda_2 = np.concatenate((rsa_2,elgamal_2,ec_2), axis=0)"
      ],
      "execution_count": 12,
      "outputs": []
    },
    {
      "cell_type": "code",
      "metadata": {
        "id": "0i1xUHSPoaEs",
        "colab_type": "code",
        "colab": {
          "base_uri": "https://localhost:8080/",
          "height": 258
        },
        "outputId": "68d95c63-dcae-41d5-aa6e-0a04cc4afcac"
      },
      "source": [
        "base_toda"
      ],
      "execution_count": 13,
      "outputs": [
        {
          "output_type": "execute_result",
          "data": {
            "text/plain": [
              "array([[list([16, 9, 15, 15, 5, 14, 23, 19, 13, 11, 7, 11, 16, 17, 8, 14, 12, 16, 7, 16, 21, 17, 10, 17, 11, 13, 17, 15, 12, 20, 17, 13, 11, 16, 12, 13, 19, 25, 15, 16, 10, 17, 15, 16, 14, 11, 23, 15, 20, 15, 14, 18, 11, 16, 14, 16, 12, 14, 18, 12, 17, 15, 12, 14, 17, 16, 12, 10, 18, 13, 12, 9, 20, 14, 12, 14, 11, 22, 9, 21, 13, 17, 18, 22, 16, 15, 20, 20, 10, 11, 12, 13, 15, 18, 11, 12, 15, 15, 15, 7, 15, 16, 12, 12, 19, 12, 16, 10, 8, 13, 10, 10, 8, 15, 14, 13, 18, 20, 14, 16, 12, 11, 12, 14, 15, 19, 17, 16, 8, 16, 26, 13, 16, 13, 13, 13, 13, 14, 15, 9, 18, 15, 15, 17, 12, 9, 8, 7, 18, 21, 7, 15, 10, 14, 17, 12, 6, 12, 20, 14, 12, 21, 14, 6, 6, 14, 12, 14, 14, 18, 19, 7, 12, 22, 13, 14, 13, 14, 15, 10, 13, 17, 11, 12, 14, 13, 22, 9, 12, 20, 16, 15, 14, 11, 14, 10, 15, 17, 10, 13, 15, 18, 13, 11, 9, 13, 13, 15, 12, 11, 13, 11, 12, 15, 10, 15, 7, 16, 18, 15, 8, 7, 19, 9, 17, 14, 14, 16, 15, 10, 16, 16, 13, 7, 11, 20, 8, 16, 17, 12, 17, 16, 11, 13, 8, 14, 19, 10, 10, 14, 17, 23, 12, 16, 11, 17]),\n",
              "        2],\n",
              "       [list([13, 8, 6, 11, 13, 13, 13, 17, 18, 27, 22, 18, 7, 9, 10, 17, 14, 14, 18, 16, 16, 12, 9, 5, 11, 8, 9, 13, 18, 11, 22, 14, 16, 19, 14, 14, 10, 18, 17, 14, 14, 14, 15, 19, 12, 10, 10, 12, 15, 13, 12, 6, 13, 7, 14, 17, 18, 26, 11, 17, 15, 16, 19, 10, 13, 12, 18, 11, 11, 15, 18, 13, 10, 14, 18, 11, 13, 8, 14, 14, 11, 9, 14, 15, 12, 18, 10, 12, 11, 14, 9, 12, 12, 16, 10, 18, 14, 11, 13, 12, 13, 17, 13, 14, 18, 18, 9, 13, 9, 8, 11, 24, 10, 11, 16, 12, 18, 13, 11, 10, 17, 17, 10, 13, 14, 12, 10, 17, 11, 16, 5, 12, 19, 12, 10, 13, 7, 15, 17, 14, 14, 7, 19, 6, 16, 16, 13, 10, 18, 10, 10, 13, 11, 9, 17, 14, 10, 14, 9, 8, 8, 14, 14, 6, 11, 10, 13, 19, 10, 12, 11, 13, 10, 10, 17, 11, 10, 8, 8, 13, 11, 6, 12, 10, 13, 13, 12, 17, 13, 15, 9, 12, 10, 13, 13, 11, 11, 16, 10, 14, 10, 17, 8, 11, 10, 14, 12, 17, 15, 14, 11, 13, 15, 17, 14, 17, 12, 13, 6, 13, 13, 19, 12, 12, 10, 15, 19, 11, 12, 10, 8, 17, 12, 17, 13, 11, 19, 14, 13, 17, 7, 15, 11, 16, 9, 15, 15, 17, 18, 5, 8, 15, 7, 11, 9, 20]),\n",
              "        2],\n",
              "       [list([85, 109, 102, 87, 86, 92, 90, 76, 92, 95, 82, 84, 89, 85, 91, 99, 97, 85, 101, 95, 100, 89, 87, 84, 82, 73, 97, 115, 95, 92, 100, 75, 92, 90, 100, 89, 94, 94, 107, 88, 89, 73, 67, 97, 101, 102, 106, 95, 78, 83, 99, 87, 91, 96, 78, 93, 87, 75, 105, 82, 96, 94, 97, 80, 85, 93, 87, 89, 89, 94, 88, 78, 95, 81, 91, 88, 105, 91, 81, 73, 82, 85, 99, 78, 89, 80, 79, 90, 66, 103, 87, 73, 88, 79, 82, 93, 90, 92, 90, 102, 78, 86, 105, 93, 83, 109, 98, 97, 93, 108, 101, 108, 99, 93, 75, 101, 88, 81, 99, 96, 93, 87, 75, 83, 72, 97, 86, 93, 87, 93, 92, 86, 96, 103, 76, 84, 93, 101, 82, 89, 79, 87, 82, 97, 90, 92, 89, 80, 104, 83, 79, 79, 82, 80, 80, 98, 80, 91, 97, 102, 80, 94, 99, 95, 89, 101, 82, 89, 106, 99, 79, 112, 78, 93, 107, 93, 85, 86, 91, 95, 95, 89, 89, 92, 83, 87, 88, 96, 80, 70, 99, 99, 87, 97, 96, 81, 76, 98, 96, 92, 95, 94, 73, 83, 86, 97, 98, 84, 98, 102, 91, 88, 84, 84, 79, 78, 77, 88, 98, 106, 70, 87, 101, 90, 76, 76, 77, 97, 91, 91, 99, 105, 88, 82, 87, 85, 83, 97, 68, 90, 99, 84, 81, 95, 72, 92, 80, 80, 86, 94, 94, 95, 78, 84, 82, 83]),\n",
              "        2],\n",
              "       ...,\n",
              "       [list([96, 31, 30, 24, 19, 27, 20, 28, 15, 17, 19, 95, 19, 23, 22, 19, 99, 19, 15, 98, 95, 88, 23, 22, 18, 16, 15, 21, 23, 30, 13, 24, 20, 95, 16, 19, 17, 16, 16, 15, 20, 16, 13, 99, 100, 25, 16, 18, 11, 28, 12, 24, 17, 96, 167, 99, 18, 19, 11, 18, 92, 23, 20, 17, 15, 21, 17, 23, 21, 96, 11, 23, 24, 91, 17, 23, 14, 170, 97, 20, 93, 88, 22, 88, 16, 98, 24, 13, 25, 172, 22, 20, 89, 95, 21, 16, 97, 13, 16, 171, 19, 23, 21, 22, 23, 23, 100, 175, 29, 19, 25, 18, 18, 24, 22, 95, 17, 22, 15, 175, 96, 20, 20, 19, 15, 14, 90, 20, 17, 14, 19, 19, 16, 22, 22, 20, 18, 93, 13, 17, 11, 20, 21, 24, 15, 12, 16, 22, 17, 16, 91, 20, 91, 22, 101, 93, 21, 25, 15, 29, 96, 12, 18, 16, 17, 18, 17, 17, 24, 22, 14, 97, 94, 95, 18, 16, 21, 20, 18, 19, 17, 24, 13, 19, 21, 16, 94, 16, 18, 17, 18, 13, 21, 17, 92, 18, 27, 30, 21, 15, 92, 20, 12, 101, 22, 23, 16, 14, 12, 17, 21, 20, 20, 17, 14, 18, 17, 94, 92, 17, 22, 18, 13, 96, 21, 22, 23, 91, 90, 175, 20, 21, 19, 24, 96, 9, 16, 170, 21, 15, 22, 18, 21, 17, 92, 31, 17, 96, 18, 91, 21, 21, 16, 21, 20, 20]),\n",
              "        0],\n",
              "       [list([33, 33, 34, 21, 284, 31, 28, 35, 40, 25, 31, 26, 36, 33, 31, 18, 28, 31, 159, 142, 25, 32, 33, 27, 24, 28, 28, 28, 32, 28, 160, 25, 152, 34, 27, 43, 29, 150, 284, 153, 22, 36, 150, 28, 30, 29, 158, 161, 156, 41, 26, 39, 150, 23, 34, 23, 31, 31, 24, 33, 27, 19, 152, 27, 32, 31, 28, 26, 26, 28, 25, 22, 27, 28, 159, 31, 146, 156, 151, 162, 25, 28, 26, 19, 35, 158, 38, 155, 28, 158, 36, 151, 23, 37, 168, 38, 17, 33, 149, 36, 37, 31, 31, 37, 28, 153, 35, 23, 154, 33, 37, 31, 30, 33, 29, 158, 24, 30, 24, 43, 28, 33, 152, 149, 151, 32, 38, 32, 27, 19, 30, 40, 32, 28, 29, 31, 33, 28, 35, 33, 28, 37, 33, 34, 41, 27, 284, 33, 158, 30, 30, 35, 155, 31, 36, 32, 41, 24, 33, 28, 281, 25, 30, 150, 29, 23, 43, 157, 33, 26, 153, 31, 24, 19, 146, 29, 33, 28, 38, 24, 35, 37, 26, 35, 31, 146, 148, 25, 33, 151, 23, 25, 159, 155, 34, 36, 24, 33, 154, 38, 39, 36, 156, 278, 26, 28, 33, 33, 42, 33, 30, 31, 163, 31, 37, 24, 147, 33, 36, 31, 24, 41, 23, 279, 37, 38, 23, 39, 154, 30, 28, 28, 22, 34, 35, 23, 28, 29, 154, 29, 32, 30, 164, 44, 145, 31, 32, 149, 161, 41, 26, 42, 28, 277, 23, 26]),\n",
              "        0],\n",
              "       [list([19, 112, 18, 14, 29, 25, 102, 21, 21, 20, 112, 198, 14, 27, 22, 106, 30, 27, 17, 24, 20, 21, 18, 20, 108, 17, 112, 20, 114, 16, 116, 106, 13, 27, 26, 19, 26, 25, 17, 16, 17, 117, 16, 27, 21, 20, 114, 26, 15, 110, 19, 200, 18, 109, 25, 24, 204, 113, 116, 22, 22, 15, 30, 27, 114, 15, 28, 20, 25, 24, 22, 22, 16, 26, 30, 116, 25, 109, 19, 23, 19, 26, 109, 16, 109, 26, 18, 19, 25, 24, 30, 21, 22, 32, 21, 19, 27, 21, 27, 118, 18, 26, 106, 14, 24, 20, 28, 21, 21, 24, 20, 17, 18, 115, 113, 24, 27, 21, 201, 23, 105, 21, 114, 112, 207, 23, 22, 18, 22, 26, 27, 19, 110, 22, 21, 27, 208, 22, 38, 24, 14, 103, 26, 117, 19, 15, 115, 119, 25, 21, 21, 111, 20, 103, 21, 30, 21, 18, 16, 25, 21, 206, 24, 20, 24, 114, 24, 106, 30, 28, 113, 23, 16, 34, 26, 23, 14, 24, 30, 27, 15, 107, 22, 23, 23, 25, 19, 27, 32, 24, 104, 24, 21, 23, 18, 12, 18, 19, 18, 12, 29, 195, 20, 15, 106, 110, 28, 18, 19, 20, 28, 14, 23, 22, 26, 19, 31, 106, 31, 22, 27, 21, 22, 26, 23, 32, 122, 27, 24, 30, 21, 30, 19, 199, 22, 21, 15, 19, 20, 112, 31, 21, 19, 11, 115, 24, 22, 25, 21, 21, 28, 15, 20, 110, 23, 25]),\n",
              "        0]], dtype=object)"
            ]
          },
          "metadata": {
            "tags": []
          },
          "execution_count": 13
        }
      ]
    },
    {
      "cell_type": "code",
      "metadata": {
        "id": "-0cY6Oigdx7C",
        "colab_type": "code",
        "colab": {}
      },
      "source": [
        "x = base_toda[:,0]\n",
        "x_2 = base_toda_2[:,0]"
      ],
      "execution_count": 14,
      "outputs": []
    },
    {
      "cell_type": "code",
      "metadata": {
        "id": "qo6ucZY5ov9P",
        "colab_type": "code",
        "colab": {}
      },
      "source": [
        "x = list(x)\n",
        "x_2 = list(x_2)"
      ],
      "execution_count": 15,
      "outputs": []
    },
    {
      "cell_type": "code",
      "metadata": {
        "id": "0AIFCnufdyFz",
        "colab_type": "code",
        "colab": {}
      },
      "source": [
        "y = base_toda[:,1]\n",
        "y_2 = base_toda_2[:,1]"
      ],
      "execution_count": 16,
      "outputs": []
    },
    {
      "cell_type": "code",
      "metadata": {
        "id": "HMyp3CpfozuI",
        "colab_type": "code",
        "colab": {}
      },
      "source": [
        "y = list(y)\n",
        "y_2 = list(y_2)"
      ],
      "execution_count": 17,
      "outputs": []
    },
    {
      "cell_type": "code",
      "metadata": {
        "id": "yknuMMYHSqh0",
        "colab_type": "code",
        "colab": {}
      },
      "source": [
        "from sklearn import preprocessing"
      ],
      "execution_count": 18,
      "outputs": []
    },
    {
      "cell_type": "markdown",
      "metadata": {
        "id": "9ItjoOkElseb",
        "colab_type": "text"
      },
      "source": [
        "Normalização dos vetores"
      ]
    },
    {
      "cell_type": "code",
      "metadata": {
        "id": "EV1YH_A3TOwb",
        "colab_type": "code",
        "colab": {}
      },
      "source": [
        "x_norm = preprocessing.normalize(x, norm='l2')\n",
        "x_norm_2 = preprocessing.normalize(x_2, norm='l2')"
      ],
      "execution_count": 19,
      "outputs": []
    },
    {
      "cell_type": "code",
      "metadata": {
        "id": "zJ4l7KwzlJu5",
        "colab_type": "code",
        "colab": {
          "base_uri": "https://localhost:8080/",
          "height": 238
        },
        "outputId": "be25848d-beb3-49fc-fa7c-d55d175d9409"
      },
      "source": [
        "x_norm"
      ],
      "execution_count": 20,
      "outputs": [
        {
          "output_type": "execute_result",
          "data": {
            "text/plain": [
              "array([[0.06894759, 0.03878302, 0.06463836, ..., 0.06894759, 0.04740147,\n",
              "        0.07325681],\n",
              "       [0.06011436, 0.03699345, 0.02774509, ..., 0.050866  , 0.04161763,\n",
              "        0.09248363],\n",
              "       [0.05906165, 0.07573788, 0.07087398, ..., 0.05836681, 0.05697712,\n",
              "        0.05767197],\n",
              "       ...,\n",
              "       [0.11148796, 0.03600132, 0.03483999, ..., 0.02438799, 0.02322666,\n",
              "        0.02322666],\n",
              "       [0.02374683, 0.02374683, 0.02446643, ..., 0.19932948, 0.01655082,\n",
              "        0.01870963],\n",
              "       [0.01863388, 0.10984183, 0.01765315, ..., 0.10788037, 0.0225568 ,\n",
              "        0.02451827]])"
            ]
          },
          "metadata": {
            "tags": []
          },
          "execution_count": 20
        }
      ]
    },
    {
      "cell_type": "code",
      "metadata": {
        "id": "eBdeXMwOTsx5",
        "colab_type": "code",
        "colab": {}
      },
      "source": [
        "from sklearn.model_selection import train_test_split"
      ],
      "execution_count": 21,
      "outputs": []
    },
    {
      "cell_type": "code",
      "metadata": {
        "id": "xDLIJdp-d3_t",
        "colab_type": "code",
        "colab": {}
      },
      "source": [
        "x_train, x_test, y_train, y_test = train_test_split(x_norm, y, test_size=0.33) \n",
        "x_train_2, x_test_2, y_train_2, y_test_2 = train_test_split(x_norm_2, y_2, test_size=0.33) "
      ],
      "execution_count": 22,
      "outputs": []
    },
    {
      "cell_type": "code",
      "metadata": {
        "id": "HUP-_NbccBaC",
        "colab_type": "code",
        "colab": {}
      },
      "source": [
        "from sklearn.metrics import classification_report"
      ],
      "execution_count": 23,
      "outputs": []
    },
    {
      "cell_type": "markdown",
      "metadata": {
        "id": "e8wQ9yrZlx0-",
        "colab_type": "text"
      },
      "source": [
        "Naive Bayes"
      ]
    },
    {
      "cell_type": "code",
      "metadata": {
        "id": "BRty1pDRlzu9",
        "colab_type": "code",
        "colab": {}
      },
      "source": [
        "from sklearn.naive_bayes import ComplementNB\n",
        "from sklearn.naive_bayes import BernoulliNB\n",
        "from sklearn.naive_bayes import CategoricalNB\n",
        "from sklearn.naive_bayes import GaussianNB\n",
        "from sklearn.naive_bayes import MultinomialNB"
      ],
      "execution_count": 24,
      "outputs": []
    },
    {
      "cell_type": "code",
      "metadata": {
        "id": "7dHURh6Zmbkj",
        "colab_type": "code",
        "colab": {}
      },
      "source": [
        "clf_CNB = ComplementNB()\n",
        "clf_BNB = BernoulliNB()\n",
        "clf_CaNB = CategoricalNB()\n",
        "clf_GNB = GaussianNB()\n",
        "clf_MNB = MultinomialNB()"
      ],
      "execution_count": 25,
      "outputs": []
    },
    {
      "cell_type": "code",
      "metadata": {
        "id": "5_LXtYxSmpx3",
        "colab_type": "code",
        "colab": {
          "base_uri": "https://localhost:8080/",
          "height": 34
        },
        "outputId": "1ab30526-da67-4aba-957b-d45b26099d29"
      },
      "source": [
        "clf_CNB.fit(x_train, y_train)\n",
        "clf_BNB.fit(x_train, y_train)\n",
        "clf_CaNB.fit(x_train, y_train)\n",
        "clf_GNB.fit(x_train, y_train)\n",
        "clf_MNB.fit(x_train, y_train)"
      ],
      "execution_count": 26,
      "outputs": [
        {
          "output_type": "execute_result",
          "data": {
            "text/plain": [
              "MultinomialNB(alpha=1.0, class_prior=None, fit_prior=True)"
            ]
          },
          "metadata": {
            "tags": []
          },
          "execution_count": 26
        }
      ]
    },
    {
      "cell_type": "code",
      "metadata": {
        "id": "C-2Zl4WffCLA",
        "colab_type": "code",
        "colab": {}
      },
      "source": [
        "predição_CNB = (clf_CNB.predict(x_test))\n",
        "predição_CNB_2 = (clf_CNB.predict(x_test_2))\n",
        "predição_BNB = (clf_CNB.predict(x_test))\n",
        "predição_BNB_2 = (clf_CNB.predict(x_test_2))\n",
        "predição_CaNB = (clf_CNB.predict(x_test))\n",
        "predição_CaNB_2 = (clf_CNB.predict(x_test_2))\n",
        "predição_GNB = (clf_CNB.predict(x_test))\n",
        "predição_GNB_2 = (clf_CNB.predict(x_test_2))\n",
        "predição_MNB = (clf_CNB.predict(x_test))\n",
        "predição_MNB_2 = (clf_CNB.predict(x_test_2))"
      ],
      "execution_count": 27,
      "outputs": []
    },
    {
      "cell_type": "code",
      "metadata": {
        "id": "_xgtwhuEcRwR",
        "colab_type": "code",
        "colab": {
          "base_uri": "https://localhost:8080/",
          "height": 357
        },
        "outputId": "a2aafc4e-cd6d-4fa0-d639-e40ae3b2b461"
      },
      "source": [
        "print (classification_report(y_test, predição_CNB))\n",
        "print (classification_report(y_test_2, predição_CNB_2))"
      ],
      "execution_count": 28,
      "outputs": [
        {
          "output_type": "stream",
          "text": [
            "              precision    recall  f1-score   support\n",
            "\n",
            "           0       0.42      0.38      0.40      9961\n",
            "           1       0.47      0.46      0.47     10004\n",
            "           2       0.45      0.50      0.47     10012\n",
            "\n",
            "    accuracy                           0.45     29977\n",
            "   macro avg       0.45      0.45      0.45     29977\n",
            "weighted avg       0.45      0.45      0.45     29977\n",
            "\n",
            "              precision    recall  f1-score   support\n",
            "\n",
            "           0       0.41      0.41      0.41     10012\n",
            "           1       0.31      0.28      0.30      9950\n",
            "           2       0.30      0.33      0.32     10015\n",
            "\n",
            "    accuracy                           0.34     29977\n",
            "   macro avg       0.34      0.34      0.34     29977\n",
            "weighted avg       0.34      0.34      0.34     29977\n",
            "\n"
          ],
          "name": "stdout"
        }
      ]
    },
    {
      "cell_type": "code",
      "metadata": {
        "id": "txqftI0kGJci",
        "colab_type": "code",
        "colab": {
          "base_uri": "https://localhost:8080/",
          "height": 357
        },
        "outputId": "edbf5d17-8ace-4936-a419-094d0d62565f"
      },
      "source": [
        "print (classification_report(y_test, predição_BNB))\n",
        "print (classification_report(y_test_2, predição_BNB_2))"
      ],
      "execution_count": 29,
      "outputs": [
        {
          "output_type": "stream",
          "text": [
            "              precision    recall  f1-score   support\n",
            "\n",
            "           0       0.42      0.38      0.40      9961\n",
            "           1       0.47      0.46      0.47     10004\n",
            "           2       0.45      0.50      0.47     10012\n",
            "\n",
            "    accuracy                           0.45     29977\n",
            "   macro avg       0.45      0.45      0.45     29977\n",
            "weighted avg       0.45      0.45      0.45     29977\n",
            "\n",
            "              precision    recall  f1-score   support\n",
            "\n",
            "           0       0.41      0.41      0.41     10012\n",
            "           1       0.31      0.28      0.30      9950\n",
            "           2       0.30      0.33      0.32     10015\n",
            "\n",
            "    accuracy                           0.34     29977\n",
            "   macro avg       0.34      0.34      0.34     29977\n",
            "weighted avg       0.34      0.34      0.34     29977\n",
            "\n"
          ],
          "name": "stdout"
        }
      ]
    },
    {
      "cell_type": "code",
      "metadata": {
        "id": "IjudFsukVtLG",
        "colab_type": "code",
        "colab": {
          "base_uri": "https://localhost:8080/",
          "height": 357
        },
        "outputId": "08b4cef3-f30c-4ede-91c4-329d108a14ea"
      },
      "source": [
        "print (classification_report(y_test, predição_CaNB))\n",
        "print (classification_report(y_test_2, predição_CaNB_2))"
      ],
      "execution_count": 30,
      "outputs": [
        {
          "output_type": "stream",
          "text": [
            "              precision    recall  f1-score   support\n",
            "\n",
            "           0       0.42      0.38      0.40      9961\n",
            "           1       0.47      0.46      0.47     10004\n",
            "           2       0.45      0.50      0.47     10012\n",
            "\n",
            "    accuracy                           0.45     29977\n",
            "   macro avg       0.45      0.45      0.45     29977\n",
            "weighted avg       0.45      0.45      0.45     29977\n",
            "\n",
            "              precision    recall  f1-score   support\n",
            "\n",
            "           0       0.41      0.41      0.41     10012\n",
            "           1       0.31      0.28      0.30      9950\n",
            "           2       0.30      0.33      0.32     10015\n",
            "\n",
            "    accuracy                           0.34     29977\n",
            "   macro avg       0.34      0.34      0.34     29977\n",
            "weighted avg       0.34      0.34      0.34     29977\n",
            "\n"
          ],
          "name": "stdout"
        }
      ]
    },
    {
      "cell_type": "code",
      "metadata": {
        "id": "feBcck1wVyF-",
        "colab_type": "code",
        "colab": {
          "base_uri": "https://localhost:8080/",
          "height": 357
        },
        "outputId": "19573ca9-e5bf-4780-f65a-dee17cce8162"
      },
      "source": [
        "print (classification_report(y_test, predição_GNB))\n",
        "print (classification_report(y_test_2, predição_GNB_2))"
      ],
      "execution_count": 31,
      "outputs": [
        {
          "output_type": "stream",
          "text": [
            "              precision    recall  f1-score   support\n",
            "\n",
            "           0       0.42      0.38      0.40      9961\n",
            "           1       0.47      0.46      0.47     10004\n",
            "           2       0.45      0.50      0.47     10012\n",
            "\n",
            "    accuracy                           0.45     29977\n",
            "   macro avg       0.45      0.45      0.45     29977\n",
            "weighted avg       0.45      0.45      0.45     29977\n",
            "\n",
            "              precision    recall  f1-score   support\n",
            "\n",
            "           0       0.41      0.41      0.41     10012\n",
            "           1       0.31      0.28      0.30      9950\n",
            "           2       0.30      0.33      0.32     10015\n",
            "\n",
            "    accuracy                           0.34     29977\n",
            "   macro avg       0.34      0.34      0.34     29977\n",
            "weighted avg       0.34      0.34      0.34     29977\n",
            "\n"
          ],
          "name": "stdout"
        }
      ]
    },
    {
      "cell_type": "code",
      "metadata": {
        "id": "HWgDPeKdV1tJ",
        "colab_type": "code",
        "colab": {
          "base_uri": "https://localhost:8080/",
          "height": 357
        },
        "outputId": "c8866dd8-f2d4-4920-ce77-7b5d1308c654"
      },
      "source": [
        "print (classification_report(y_test, predição_MNB))\n",
        "print (classification_report(y_test_2, predição_MNB_2))"
      ],
      "execution_count": 32,
      "outputs": [
        {
          "output_type": "stream",
          "text": [
            "              precision    recall  f1-score   support\n",
            "\n",
            "           0       0.42      0.38      0.40      9961\n",
            "           1       0.47      0.46      0.47     10004\n",
            "           2       0.45      0.50      0.47     10012\n",
            "\n",
            "    accuracy                           0.45     29977\n",
            "   macro avg       0.45      0.45      0.45     29977\n",
            "weighted avg       0.45      0.45      0.45     29977\n",
            "\n",
            "              precision    recall  f1-score   support\n",
            "\n",
            "           0       0.41      0.41      0.41     10012\n",
            "           1       0.31      0.28      0.30      9950\n",
            "           2       0.30      0.33      0.32     10015\n",
            "\n",
            "    accuracy                           0.34     29977\n",
            "   macro avg       0.34      0.34      0.34     29977\n",
            "weighted avg       0.34      0.34      0.34     29977\n",
            "\n"
          ],
          "name": "stdout"
        }
      ]
    },
    {
      "cell_type": "markdown",
      "metadata": {
        "id": "3JT0wQvsl1ty",
        "colab_type": "text"
      },
      "source": [
        "Árvore de Decisão"
      ]
    },
    {
      "cell_type": "code",
      "metadata": {
        "id": "5udvKLY9cXLi",
        "colab_type": "code",
        "colab": {}
      },
      "source": [
        "from sklearn import tree"
      ],
      "execution_count": 33,
      "outputs": []
    },
    {
      "cell_type": "code",
      "metadata": {
        "id": "_u_MbSDzhaee",
        "colab_type": "code",
        "colab": {}
      },
      "source": [
        "clf_tree = tree.DecisionTreeClassifier()"
      ],
      "execution_count": 34,
      "outputs": []
    },
    {
      "cell_type": "code",
      "metadata": {
        "id": "7-sfE6daheVg",
        "colab_type": "code",
        "colab": {}
      },
      "source": [
        "clf_tree = clf_tree.fit(x_train, y_train)"
      ],
      "execution_count": 35,
      "outputs": []
    },
    {
      "cell_type": "code",
      "metadata": {
        "id": "f0yco9lPhlv0",
        "colab_type": "code",
        "colab": {}
      },
      "source": [
        "predição_tree = clf_tree.predict(x_test)\n",
        "predição_tree_2 = clf_tree.predict(x_test_2)"
      ],
      "execution_count": 36,
      "outputs": []
    },
    {
      "cell_type": "code",
      "metadata": {
        "id": "S-eEq7aSh67V",
        "colab_type": "code",
        "colab": {
          "base_uri": "https://localhost:8080/",
          "height": 187
        },
        "outputId": "86549ef1-eb39-40ba-def7-16e21aa6f901"
      },
      "source": [
        "print (classification_report(y_test, predição_tree))"
      ],
      "execution_count": 37,
      "outputs": [
        {
          "output_type": "stream",
          "text": [
            "              precision    recall  f1-score   support\n",
            "\n",
            "           0       1.00      1.00      1.00      9961\n",
            "           1       0.59      0.59      0.59     10004\n",
            "           2       0.59      0.59      0.59     10012\n",
            "\n",
            "    accuracy                           0.72     29977\n",
            "   macro avg       0.72      0.72      0.72     29977\n",
            "weighted avg       0.72      0.72      0.72     29977\n",
            "\n"
          ],
          "name": "stdout"
        }
      ]
    },
    {
      "cell_type": "code",
      "metadata": {
        "id": "4SRnLPZ5GbPr",
        "colab_type": "code",
        "colab": {
          "base_uri": "https://localhost:8080/",
          "height": 187
        },
        "outputId": "2b34f4ca-38ad-435e-9b76-aeca8386f639"
      },
      "source": [
        "print (classification_report(y_test_2, predição_tree_2))"
      ],
      "execution_count": 38,
      "outputs": [
        {
          "output_type": "stream",
          "text": [
            "              precision    recall  f1-score   support\n",
            "\n",
            "           0       1.00      1.00      1.00     10012\n",
            "           1       0.57      0.57      0.57      9950\n",
            "           2       0.57      0.57      0.57     10015\n",
            "\n",
            "    accuracy                           0.72     29977\n",
            "   macro avg       0.71      0.72      0.72     29977\n",
            "weighted avg       0.72      0.72      0.72     29977\n",
            "\n"
          ],
          "name": "stdout"
        }
      ]
    },
    {
      "cell_type": "code",
      "metadata": {
        "id": "CGY6AWmYPPKw",
        "colab_type": "code",
        "colab": {
          "base_uri": "https://localhost:8080/",
          "height": 34
        },
        "outputId": "f2384dad-019f-4dde-9637-869a4120b215"
      },
      "source": [
        "clf_tree.get_n_leaves()"
      ],
      "execution_count": 39,
      "outputs": [
        {
          "output_type": "execute_result",
          "data": {
            "text/plain": [
              "4495"
            ]
          },
          "metadata": {
            "tags": []
          },
          "execution_count": 39
        }
      ]
    },
    {
      "cell_type": "markdown",
      "metadata": {
        "id": "Fbvdhc8Ol6AE",
        "colab_type": "text"
      },
      "source": [
        "Métodos Ensemble"
      ]
    },
    {
      "cell_type": "code",
      "metadata": {
        "id": "RmyF4cOSh-mm",
        "colab_type": "code",
        "colab": {}
      },
      "source": [
        "from sklearn.ensemble import RandomForestClassifier\n",
        "from sklearn.ensemble import AdaBoostClassifier"
      ],
      "execution_count": 40,
      "outputs": []
    },
    {
      "cell_type": "code",
      "metadata": {
        "id": "OYkZ2Rj-iKV1",
        "colab_type": "code",
        "colab": {}
      },
      "source": [
        "clf_random = RandomForestClassifier(n_estimators=100)\n",
        "clf_ada = AdaBoostClassifier(n_estimators=100)"
      ],
      "execution_count": 41,
      "outputs": []
    },
    {
      "cell_type": "code",
      "metadata": {
        "id": "sjGrmAbmire2",
        "colab_type": "code",
        "colab": {}
      },
      "source": [
        "clf_random = clf_random.fit(x_train, y_train)\n",
        "clf_ada = clf_ada.fit(x_train,y_train)"
      ],
      "execution_count": 42,
      "outputs": []
    },
    {
      "cell_type": "code",
      "metadata": {
        "id": "hWAj6ebci2AV",
        "colab_type": "code",
        "colab": {}
      },
      "source": [
        "predição_random = clf_random.predict(x_test)\n",
        "predição_random_2 = clf_random.predict(x_test_2)\n",
        "predição_ada = clf_ada.predict(x_test)\n",
        "predição_ada_2 = clf_ada.predict(x_test_2)"
      ],
      "execution_count": 43,
      "outputs": []
    },
    {
      "cell_type": "code",
      "metadata": {
        "id": "wHB_JH7pi9OV",
        "colab_type": "code",
        "colab": {
          "base_uri": "https://localhost:8080/",
          "height": 357
        },
        "outputId": "c452fb3e-fa3b-4fb4-d99e-6bff2f0b0dcb"
      },
      "source": [
        "print (classification_report(y_test, predição_random))\n",
        "print (classification_report(y_test_2, predição_random_2))"
      ],
      "execution_count": 44,
      "outputs": [
        {
          "output_type": "stream",
          "text": [
            "              precision    recall  f1-score   support\n",
            "\n",
            "           0       1.00      1.00      1.00      9961\n",
            "           1       0.71      0.61      0.66     10004\n",
            "           2       0.66      0.75      0.70     10012\n",
            "\n",
            "    accuracy                           0.79     29977\n",
            "   macro avg       0.79      0.79      0.79     29977\n",
            "weighted avg       0.79      0.79      0.79     29977\n",
            "\n",
            "              precision    recall  f1-score   support\n",
            "\n",
            "           0       1.00      1.00      1.00     10012\n",
            "           1       0.68      0.58      0.63      9950\n",
            "           2       0.64      0.72      0.68     10015\n",
            "\n",
            "    accuracy                           0.77     29977\n",
            "   macro avg       0.77      0.77      0.77     29977\n",
            "weighted avg       0.77      0.77      0.77     29977\n",
            "\n"
          ],
          "name": "stdout"
        }
      ]
    },
    {
      "cell_type": "code",
      "metadata": {
        "id": "ARCHTnd4GmTg",
        "colab_type": "code",
        "colab": {
          "base_uri": "https://localhost:8080/",
          "height": 357
        },
        "outputId": "4d3af8da-77b3-43e2-ec50-a7a92a3da566"
      },
      "source": [
        "print (classification_report(y_test, predição_ada))\n",
        "print (classification_report(y_test_2, predição_ada_2))"
      ],
      "execution_count": 45,
      "outputs": [
        {
          "output_type": "stream",
          "text": [
            "              precision    recall  f1-score   support\n",
            "\n",
            "           0       1.00      1.00      1.00      9961\n",
            "           1       0.53      0.98      0.68     10004\n",
            "           2       0.87      0.11      0.20     10012\n",
            "\n",
            "    accuracy                           0.70     29977\n",
            "   macro avg       0.80      0.70      0.63     29977\n",
            "weighted avg       0.80      0.70      0.63     29977\n",
            "\n",
            "              precision    recall  f1-score   support\n",
            "\n",
            "           0       1.00      1.00      1.00     10012\n",
            "           1       0.52      0.98      0.68      9950\n",
            "           2       0.87      0.11      0.20     10015\n",
            "\n",
            "    accuracy                           0.70     29977\n",
            "   macro avg       0.80      0.70      0.63     29977\n",
            "weighted avg       0.80      0.70      0.63     29977\n",
            "\n"
          ],
          "name": "stdout"
        }
      ]
    },
    {
      "cell_type": "markdown",
      "metadata": {
        "id": "VK7HdDZomFN3",
        "colab_type": "text"
      },
      "source": [
        "Rotation Forest"
      ]
    },
    {
      "cell_type": "code",
      "metadata": {
        "id": "-FW_Djnvtrjk",
        "colab_type": "code",
        "colab": {
          "base_uri": "https://localhost:8080/",
          "height": 102
        },
        "outputId": "3649ee2b-32ec-4297-fa8a-e49f22abfa15"
      },
      "source": [
        "pip install rotation-forest"
      ],
      "execution_count": 46,
      "outputs": [
        {
          "output_type": "stream",
          "text": [
            "Requirement already satisfied: rotation-forest in /usr/local/lib/python3.6/dist-packages (0.4)\n",
            "Requirement already satisfied: scipy in /usr/local/lib/python3.6/dist-packages (from rotation-forest) (1.4.1)\n",
            "Requirement already satisfied: scikit-learn in /usr/local/lib/python3.6/dist-packages (from rotation-forest) (0.22.2.post1)\n",
            "Requirement already satisfied: numpy in /usr/local/lib/python3.6/dist-packages (from rotation-forest) (1.18.5)\n",
            "Requirement already satisfied: joblib>=0.11 in /usr/local/lib/python3.6/dist-packages (from scikit-learn->rotation-forest) (0.16.0)\n"
          ],
          "name": "stdout"
        }
      ]
    },
    {
      "cell_type": "code",
      "metadata": {
        "id": "bTootgQtzoeQ",
        "colab_type": "code",
        "colab": {}
      },
      "source": [
        "from rotation_forest import RotationForestClassifier"
      ],
      "execution_count": 47,
      "outputs": []
    },
    {
      "cell_type": "code",
      "metadata": {
        "id": "DTg1kZjZzMtY",
        "colab_type": "code",
        "colab": {}
      },
      "source": [
        "clf_rot = RotationForestClassifier()"
      ],
      "execution_count": 48,
      "outputs": []
    },
    {
      "cell_type": "code",
      "metadata": {
        "id": "mdNVY8Phz_KD",
        "colab_type": "code",
        "colab": {}
      },
      "source": [
        "x_array = np.array(x_norm)\n",
        "x_array_2 = np.array(x_norm_2)"
      ],
      "execution_count": 49,
      "outputs": []
    },
    {
      "cell_type": "code",
      "metadata": {
        "id": "wdrW6Cnt0Euq",
        "colab_type": "code",
        "colab": {}
      },
      "source": [
        "y_array = np.array(y)\n",
        "y_array_2 = np.array(y_2)"
      ],
      "execution_count": 50,
      "outputs": []
    },
    {
      "cell_type": "code",
      "metadata": {
        "id": "nLxjhke-0McH",
        "colab_type": "code",
        "colab": {}
      },
      "source": [
        "x_train_array, x_test_array, y_train_array, y_test_array = train_test_split(x_array, y_array, test_size=0.33) \n",
        "x_train_array_2, x_test_array_2, y_train_array_2, y_test_array_2 = train_test_split(x_array_2, y_array_2, test_size=0.33) "
      ],
      "execution_count": 51,
      "outputs": []
    },
    {
      "cell_type": "code",
      "metadata": {
        "id": "E-Kok3JRzcyG",
        "colab_type": "code",
        "colab": {
          "base_uri": "https://localhost:8080/",
          "height": 377
        },
        "outputId": "0152276a-1361-41e5-e298-207dbfeb9d39"
      },
      "source": [
        "clf_rot = clf_rot.fit(x_train_array,y_train_array)"
      ],
      "execution_count": 52,
      "outputs": [
        {
          "output_type": "stream",
          "text": [
            "/usr/local/lib/python3.6/dist-packages/sklearn/tree/_classes.py:319: FutureWarning: The parameter 'presort' is deprecated and has no effect. It will be removed in v0.24. You can suppress this warning by not passing any value to the 'presort' parameter.\n",
            "  FutureWarning)\n",
            "/usr/local/lib/python3.6/dist-packages/sklearn/tree/_classes.py:319: FutureWarning: The parameter 'presort' is deprecated and has no effect. It will be removed in v0.24. You can suppress this warning by not passing any value to the 'presort' parameter.\n",
            "  FutureWarning)\n",
            "/usr/local/lib/python3.6/dist-packages/sklearn/tree/_classes.py:319: FutureWarning: The parameter 'presort' is deprecated and has no effect. It will be removed in v0.24. You can suppress this warning by not passing any value to the 'presort' parameter.\n",
            "  FutureWarning)\n",
            "/usr/local/lib/python3.6/dist-packages/sklearn/tree/_classes.py:319: FutureWarning: The parameter 'presort' is deprecated and has no effect. It will be removed in v0.24. You can suppress this warning by not passing any value to the 'presort' parameter.\n",
            "  FutureWarning)\n",
            "/usr/local/lib/python3.6/dist-packages/sklearn/tree/_classes.py:319: FutureWarning: The parameter 'presort' is deprecated and has no effect. It will be removed in v0.24. You can suppress this warning by not passing any value to the 'presort' parameter.\n",
            "  FutureWarning)\n",
            "/usr/local/lib/python3.6/dist-packages/sklearn/tree/_classes.py:319: FutureWarning: The parameter 'presort' is deprecated and has no effect. It will be removed in v0.24. You can suppress this warning by not passing any value to the 'presort' parameter.\n",
            "  FutureWarning)\n",
            "/usr/local/lib/python3.6/dist-packages/sklearn/tree/_classes.py:319: FutureWarning: The parameter 'presort' is deprecated and has no effect. It will be removed in v0.24. You can suppress this warning by not passing any value to the 'presort' parameter.\n",
            "  FutureWarning)\n",
            "/usr/local/lib/python3.6/dist-packages/sklearn/tree/_classes.py:319: FutureWarning: The parameter 'presort' is deprecated and has no effect. It will be removed in v0.24. You can suppress this warning by not passing any value to the 'presort' parameter.\n",
            "  FutureWarning)\n",
            "/usr/local/lib/python3.6/dist-packages/sklearn/tree/_classes.py:319: FutureWarning: The parameter 'presort' is deprecated and has no effect. It will be removed in v0.24. You can suppress this warning by not passing any value to the 'presort' parameter.\n",
            "  FutureWarning)\n",
            "/usr/local/lib/python3.6/dist-packages/sklearn/tree/_classes.py:319: FutureWarning: The parameter 'presort' is deprecated and has no effect. It will be removed in v0.24. You can suppress this warning by not passing any value to the 'presort' parameter.\n",
            "  FutureWarning)\n"
          ],
          "name": "stderr"
        }
      ]
    },
    {
      "cell_type": "code",
      "metadata": {
        "id": "NJQofQkBzygX",
        "colab_type": "code",
        "colab": {}
      },
      "source": [
        "predição_rot = clf_rot.predict(x_test_array)\n",
        "predição_rot_2 = clf_rot.predict(x_test_array_2)"
      ],
      "execution_count": 53,
      "outputs": []
    },
    {
      "cell_type": "code",
      "metadata": {
        "id": "ozoNmTxV0rQI",
        "colab_type": "code",
        "colab": {
          "base_uri": "https://localhost:8080/",
          "height": 357
        },
        "outputId": "455b94ec-a432-4bbd-d04f-092ee9c62fc6"
      },
      "source": [
        "print (classification_report(y_test, predição_rot))\n",
        "print (classification_report(y_test_2, predição_rot_2))"
      ],
      "execution_count": 54,
      "outputs": [
        {
          "output_type": "stream",
          "text": [
            "              precision    recall  f1-score   support\n",
            "\n",
            "           0       0.33      0.33      0.33      9961\n",
            "           1       0.33      0.35      0.34     10004\n",
            "           2       0.33      0.32      0.33     10012\n",
            "\n",
            "    accuracy                           0.33     29977\n",
            "   macro avg       0.33      0.33      0.33     29977\n",
            "weighted avg       0.33      0.33      0.33     29977\n",
            "\n",
            "              precision    recall  f1-score   support\n",
            "\n",
            "           0       0.33      0.33      0.33     10012\n",
            "           1       0.33      0.34      0.34      9950\n",
            "           2       0.33      0.32      0.33     10015\n",
            "\n",
            "    accuracy                           0.33     29977\n",
            "   macro avg       0.33      0.33      0.33     29977\n",
            "weighted avg       0.33      0.33      0.33     29977\n",
            "\n"
          ],
          "name": "stdout"
        }
      ]
    },
    {
      "cell_type": "markdown",
      "metadata": {
        "id": "lYOiS1ejmJUQ",
        "colab_type": "text"
      },
      "source": [
        "SVM - rbf (exponencial)"
      ]
    },
    {
      "cell_type": "code",
      "metadata": {
        "id": "nRxuTghV__Gu",
        "colab_type": "code",
        "colab": {}
      },
      "source": [
        "from sklearn import svm"
      ],
      "execution_count": 55,
      "outputs": []
    },
    {
      "cell_type": "code",
      "metadata": {
        "id": "Ta7t1xudAytM",
        "colab_type": "code",
        "colab": {}
      },
      "source": [
        "clf_svm_rbf = svm.SVC()"
      ],
      "execution_count": 62,
      "outputs": []
    },
    {
      "cell_type": "code",
      "metadata": {
        "id": "aQLnX-lRA3Xk",
        "colab_type": "code",
        "colab": {}
      },
      "source": [
        "clf_svm_rbf = clf_svm_rbf.fit(x_train,y_train)"
      ],
      "execution_count": 63,
      "outputs": []
    },
    {
      "cell_type": "code",
      "metadata": {
        "id": "3aHnEQFJA_AE",
        "colab_type": "code",
        "colab": {}
      },
      "source": [
        "predição_svm_rbf = clf_svm_rbf.predict(x_test)\n",
        "predição_svm__rbf_2 = clf_svm_rbf.predict(x_test_2)"
      ],
      "execution_count": 64,
      "outputs": []
    },
    {
      "cell_type": "code",
      "metadata": {
        "id": "Tj5IpisHBFoZ",
        "colab_type": "code",
        "colab": {
          "base_uri": "https://localhost:8080/",
          "height": 357
        },
        "outputId": "30db4a9e-ef77-48dd-9f5c-7246a4ff6111"
      },
      "source": [
        "print (classification_report(y_test, predição_svm_rbf))\n",
        "print (classification_report(y_test_2, predição_svm__rbf_2))"
      ],
      "execution_count": 66,
      "outputs": [
        {
          "output_type": "stream",
          "text": [
            "              precision    recall  f1-score   support\n",
            "\n",
            "           0       1.00      1.00      1.00      9961\n",
            "           1       0.69      0.78      0.73     10004\n",
            "           2       0.75      0.64      0.69     10012\n",
            "\n",
            "    accuracy                           0.81     29977\n",
            "   macro avg       0.81      0.81      0.81     29977\n",
            "weighted avg       0.81      0.81      0.81     29977\n",
            "\n",
            "              precision    recall  f1-score   support\n",
            "\n",
            "           0       1.00      1.00      1.00     10012\n",
            "           1       0.61      0.71      0.66      9950\n",
            "           2       0.66      0.55      0.60     10015\n",
            "\n",
            "    accuracy                           0.75     29977\n",
            "   macro avg       0.76      0.75      0.75     29977\n",
            "weighted avg       0.76      0.75      0.75     29977\n",
            "\n"
          ],
          "name": "stdout"
        }
      ]
    },
    {
      "cell_type": "markdown",
      "metadata": {
        "id": "4rsbZ_ajb5qW",
        "colab_type": "text"
      },
      "source": [
        "SVM Linear"
      ]
    },
    {
      "cell_type": "code",
      "metadata": {
        "id": "jsWAEwJ_Zw1a",
        "colab_type": "code",
        "colab": {}
      },
      "source": [
        "clf_svm_lin = svm.SVC(kernel='linear')"
      ],
      "execution_count": 67,
      "outputs": []
    },
    {
      "cell_type": "code",
      "metadata": {
        "id": "azp69Mt7RDSV",
        "colab_type": "code",
        "colab": {}
      },
      "source": [
        "clf_svm_lin = clf_svm_lin.fit(x_train,y_train)"
      ],
      "execution_count": 68,
      "outputs": []
    },
    {
      "cell_type": "code",
      "metadata": {
        "id": "pSjWETh9betb",
        "colab_type": "code",
        "colab": {}
      },
      "source": [
        "predição_svm_lin = clf_svm_lin.predict(x_test)\n",
        "predição_svm__lin_2 = clf_svm_lin.predict(x_test_2)"
      ],
      "execution_count": 69,
      "outputs": []
    },
    {
      "cell_type": "code",
      "metadata": {
        "id": "UZWQ5_vzbosR",
        "colab_type": "code",
        "colab": {
          "base_uri": "https://localhost:8080/",
          "height": 357
        },
        "outputId": "97521e09-654e-4f35-b031-86ccc6af3ab8"
      },
      "source": [
        "print (classification_report(y_test, predição_svm_lin))\n",
        "print (classification_report(y_test_2, predição_svm__lin_2))"
      ],
      "execution_count": 70,
      "outputs": [
        {
          "output_type": "stream",
          "text": [
            "              precision    recall  f1-score   support\n",
            "\n",
            "           0       1.00      1.00      1.00      9961\n",
            "           1       0.63      0.88      0.73     10004\n",
            "           2       0.80      0.48      0.59     10012\n",
            "\n",
            "    accuracy                           0.78     29977\n",
            "   macro avg       0.81      0.78      0.78     29977\n",
            "weighted avg       0.81      0.78      0.77     29977\n",
            "\n",
            "              precision    recall  f1-score   support\n",
            "\n",
            "           0       1.00      1.00      1.00     10012\n",
            "           1       0.57      0.83      0.68      9950\n",
            "           2       0.69      0.38      0.49     10015\n",
            "\n",
            "    accuracy                           0.74     29977\n",
            "   macro avg       0.76      0.74      0.72     29977\n",
            "weighted avg       0.76      0.74      0.72     29977\n",
            "\n"
          ],
          "name": "stdout"
        }
      ]
    },
    {
      "cell_type": "markdown",
      "metadata": {
        "id": "I6CPtzocb9Cm",
        "colab_type": "text"
      },
      "source": [
        "SVM Polinomial"
      ]
    },
    {
      "cell_type": "code",
      "metadata": {
        "id": "JgWcN33hcBXW",
        "colab_type": "code",
        "colab": {}
      },
      "source": [
        "clf_svm_pol = svm.SVC(kernel='poly')"
      ],
      "execution_count": 75,
      "outputs": []
    },
    {
      "cell_type": "code",
      "metadata": {
        "id": "kj3ONDKGcEZX",
        "colab_type": "code",
        "colab": {}
      },
      "source": [
        "clf_svm_pol = clf_svm_pol.fit(x_train,y_train)"
      ],
      "execution_count": 76,
      "outputs": []
    },
    {
      "cell_type": "code",
      "metadata": {
        "id": "qIfCRJLQcK2B",
        "colab_type": "code",
        "colab": {}
      },
      "source": [
        "predição_svm_pol = clf_svm_pol.predict(x_test)\n",
        "predição_svm__pol_2 = clf_svm_pol.predict(x_test_2)"
      ],
      "execution_count": 77,
      "outputs": []
    },
    {
      "cell_type": "code",
      "metadata": {
        "id": "REMief3dcSYs",
        "colab_type": "code",
        "colab": {
          "base_uri": "https://localhost:8080/",
          "height": 357
        },
        "outputId": "6bb57595-808b-467a-9a92-b013e22fe3ba"
      },
      "source": [
        "print (classification_report(y_test, predição_svm_pol))\n",
        "print (classification_report(y_test_2, predição_svm__pol_2))"
      ],
      "execution_count": 78,
      "outputs": [
        {
          "output_type": "stream",
          "text": [
            "              precision    recall  f1-score   support\n",
            "\n",
            "           0       1.00      1.00      1.00      9961\n",
            "           1       0.68      0.79      0.73     10004\n",
            "           2       0.75      0.62      0.68     10012\n",
            "\n",
            "    accuracy                           0.80     29977\n",
            "   macro avg       0.81      0.81      0.80     29977\n",
            "weighted avg       0.81      0.80      0.80     29977\n",
            "\n",
            "              precision    recall  f1-score   support\n",
            "\n",
            "           0       1.00      1.00      1.00     10012\n",
            "           1       0.60      0.72      0.66      9950\n",
            "           2       0.66      0.53      0.59     10015\n",
            "\n",
            "    accuracy                           0.75     29977\n",
            "   macro avg       0.75      0.75      0.75     29977\n",
            "weighted avg       0.75      0.75      0.75     29977\n",
            "\n"
          ],
          "name": "stdout"
        }
      ]
    },
    {
      "cell_type": "markdown",
      "metadata": {
        "id": "BHN8zfJAchn2",
        "colab_type": "text"
      },
      "source": [
        "SVM Sigmoid"
      ]
    },
    {
      "cell_type": "code",
      "metadata": {
        "id": "EnwarqybcgxP",
        "colab_type": "code",
        "colab": {}
      },
      "source": [
        "clf_svm_sig = svm.SVC(kernel='sigmoid')"
      ],
      "execution_count": 79,
      "outputs": []
    },
    {
      "cell_type": "code",
      "metadata": {
        "id": "vlUS_7hRcqmq",
        "colab_type": "code",
        "colab": {}
      },
      "source": [
        "clf_svm_sig = clf_svm_sig.fit(x_train,y_train)"
      ],
      "execution_count": 80,
      "outputs": []
    },
    {
      "cell_type": "code",
      "metadata": {
        "id": "rIgUDRjscuKN",
        "colab_type": "code",
        "colab": {}
      },
      "source": [
        "predição_svm_sig = clf_svm_sig.predict(x_test)\n",
        "predição_svm__sig_2 = clf_svm_sig.predict(x_test_2)"
      ],
      "execution_count": 81,
      "outputs": []
    },
    {
      "cell_type": "code",
      "metadata": {
        "id": "VXXwDtDRczm3",
        "colab_type": "code",
        "colab": {
          "base_uri": "https://localhost:8080/",
          "height": 411
        },
        "outputId": "a96c6caa-c491-4b09-cbde-e6ab41823dd9"
      },
      "source": [
        "print (classification_report(y_test, predição_svm_sig))\n",
        "print (classification_report(y_test_2, predição_svm__sig_2))"
      ],
      "execution_count": 82,
      "outputs": [
        {
          "output_type": "stream",
          "text": [
            "              precision    recall  f1-score   support\n",
            "\n",
            "           0       0.00      0.00      0.00      9961\n",
            "           1       0.00      0.00      0.00     10004\n",
            "           2       0.00      0.00      0.00     10012\n",
            "\n",
            "    accuracy                           0.00     29977\n",
            "   macro avg       0.00      0.00      0.00     29977\n",
            "weighted avg       0.00      0.00      0.00     29977\n",
            "\n",
            "              precision    recall  f1-score   support\n",
            "\n",
            "           0       0.00      0.00      0.00     10012\n",
            "           1       0.00      0.00      0.00      9950\n",
            "           2       0.00      0.00      0.00     10015\n",
            "\n",
            "    accuracy                           0.00     29977\n",
            "   macro avg       0.00      0.00      0.00     29977\n",
            "weighted avg       0.00      0.00      0.00     29977\n",
            "\n"
          ],
          "name": "stdout"
        },
        {
          "output_type": "stream",
          "text": [
            "/usr/local/lib/python3.6/dist-packages/sklearn/metrics/_classification.py:1272: UndefinedMetricWarning: Precision and F-score are ill-defined and being set to 0.0 in labels with no predicted samples. Use `zero_division` parameter to control this behavior.\n",
            "  _warn_prf(average, modifier, msg_start, len(result))\n"
          ],
          "name": "stderr"
        }
      ]
    },
    {
      "cell_type": "markdown",
      "metadata": {
        "id": "vBL3ztDViAbz",
        "colab_type": "text"
      },
      "source": [
        "Perceptron"
      ]
    },
    {
      "cell_type": "code",
      "metadata": {
        "id": "BmoMGeQphy_u",
        "colab_type": "code",
        "colab": {}
      },
      "source": [
        "from sklearn.linear_model import Perceptron"
      ],
      "execution_count": 83,
      "outputs": []
    },
    {
      "cell_type": "code",
      "metadata": {
        "id": "4JvuFXZuiD_S",
        "colab_type": "code",
        "colab": {}
      },
      "source": [
        "clf_perc = Perceptron(tol=1e-3, random_state=0)"
      ],
      "execution_count": 84,
      "outputs": []
    },
    {
      "cell_type": "code",
      "metadata": {
        "id": "40YvZ-cGiK2F",
        "colab_type": "code",
        "colab": {}
      },
      "source": [
        "clf_perc = clf_perc.fit(x_train,y_train)"
      ],
      "execution_count": 85,
      "outputs": []
    },
    {
      "cell_type": "code",
      "metadata": {
        "id": "JI8F_RNFicE1",
        "colab_type": "code",
        "colab": {}
      },
      "source": [
        "predição_perc = clf_perc.predict(x_test)\n",
        "predição_perc_2 = clf_perc.predict(x_test_2)"
      ],
      "execution_count": 89,
      "outputs": []
    },
    {
      "cell_type": "code",
      "metadata": {
        "id": "hmmeKSFqihcL",
        "colab_type": "code",
        "colab": {
          "base_uri": "https://localhost:8080/",
          "height": 357
        },
        "outputId": "3fb0b4e4-05ad-4f5f-8ceb-11e4e1820a89"
      },
      "source": [
        "print (classification_report(y_test, predição_perc))\n",
        "print (classification_report(y_test_2, predição_perc_2))"
      ],
      "execution_count": 90,
      "outputs": [
        {
          "output_type": "stream",
          "text": [
            "              precision    recall  f1-score   support\n",
            "\n",
            "           0       0.97      1.00      0.99      9961\n",
            "           1       0.51      1.00      0.67     10004\n",
            "           2       0.96      0.00      0.00     10012\n",
            "\n",
            "    accuracy                           0.67     29977\n",
            "   macro avg       0.81      0.67      0.55     29977\n",
            "weighted avg       0.81      0.67      0.55     29977\n",
            "\n",
            "              precision    recall  f1-score   support\n",
            "\n",
            "           0       0.97      1.00      0.99     10012\n",
            "           1       0.50      1.00      0.67      9950\n",
            "           2       1.00      0.00      0.00     10015\n",
            "\n",
            "    accuracy                           0.67     29977\n",
            "   macro avg       0.83      0.67      0.55     29977\n",
            "weighted avg       0.83      0.67      0.55     29977\n",
            "\n"
          ],
          "name": "stdout"
        }
      ]
    },
    {
      "cell_type": "code",
      "metadata": {
        "id": "Eowyn0jzBv1-",
        "colab_type": "code",
        "colab": {}
      },
      "source": [
        ""
      ],
      "execution_count": null,
      "outputs": []
    }
  ]
}